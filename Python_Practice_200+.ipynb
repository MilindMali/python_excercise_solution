{
 "cells": [
  {
   "cell_type": "markdown",
   "id": "48862c69",
   "metadata": {},
   "source": [
    "#1.basic excercise for begineers\n",
    "\n",
    "#2.puthon input and output exercise\n",
    "\n",
    "#3.python loop excercises\n",
    "\n",
    "#4.python function excercises\n",
    "\n",
    "#5.python string exercise\n",
    "\n",
    "#6.python data structure excercise\n",
    "\n",
    "#7.python list excercise\n",
    "\n",
    "#8.python dictionary excercise\n",
    "\n",
    "#9 python set excercise\n",
    "\n",
    "#10.python tuple excercise\n",
    "\n",
    "#11.python date and time excercise\n",
    "\n",
    "#12.python OOP excercise\n",
    "\n",
    "#13.python JSON excercise\n",
    "\n",
    "#14.python Numpy excersic\n",
    "\n",
    "#15.python pandas excercise\n",
    "\n",
    "#16.python matplotlib excercise\n",
    "\n",
    "#17.python random data generation excercise\n",
    "\n",
    "#18.python database excercise"
   ]
  },
  {
   "cell_type": "markdown",
   "id": "6534e177",
   "metadata": {},
   "source": [
    "# 1. Basic Exercise for Beginners"
   ]
  },
  {
   "cell_type": "markdown",
   "id": "b7ea7b7d",
   "metadata": {},
   "source": [
    "Excercise 1: Swap the number without using third varible"
   ]
  },
  {
   "cell_type": "code",
   "execution_count": 103,
   "id": "f4dda3ea",
   "metadata": {},
   "outputs": [
    {
     "name": "stdout",
     "output_type": "stream",
     "text": [
      "enter the first number 4\n",
      "enter the Second number 5\n",
      "4 5\n",
      "5 4\n"
     ]
    }
   ],
   "source": [
    "x=int(input(\"enter the first number \"))\n",
    "y=int(input(\"enter the Second number \"))\n",
    "\n",
    "print(x,y)\n",
    "\n",
    "x=x+y\n",
    "y=x-y\n",
    "x=x-y\n",
    "\n",
    "print(x,y)"
   ]
  },
  {
   "cell_type": "markdown",
   "id": "c48cc75d",
   "metadata": {},
   "source": [
    "Exercise 2: Write a Program to extract each digit from an integer in the reverse order.\n",
    "\n",
    "For example, If the given int is 7536, the output shall be “6 3 5 7“, with a space separating the digits."
   ]
  },
  {
   "cell_type": "code",
   "execution_count": 102,
   "id": "5f995c52",
   "metadata": {},
   "outputs": [
    {
     "name": "stdout",
     "output_type": "stream",
     "text": [
      "enter the number: 7536\n",
      "6357\n"
     ]
    },
    {
     "data": {
      "text/plain": [
       "str"
      ]
     },
     "execution_count": 102,
     "metadata": {},
     "output_type": "execute_result"
    }
   ],
   "source": [
    "n=int(input(\"enter the number: \"))\n",
    "\n",
    "y=str(n)[::-1]\n",
    "\n",
    "print(y)\n",
    "\n",
    "type(y)"
   ]
  },
  {
   "cell_type": "markdown",
   "id": "e0cd651e",
   "metadata": {},
   "source": [
    "excercise 3: Write a program that will give you the sum of 3 digits"
   ]
  },
  {
   "cell_type": "code",
   "execution_count": 35,
   "id": "d9fe8343",
   "metadata": {},
   "outputs": [
    {
     "name": "stdout",
     "output_type": "stream",
     "text": [
      "enter three digit number567\n",
      "18\n"
     ]
    }
   ],
   "source": [
    "x=int(input(\"enter three digit number\"))\n",
    "\n",
    "a=x%10   # we will get last digit\n",
    "\n",
    "num=x//10  # integer-divison here we will get first two digit\n",
    "\n",
    "b=num%10   # here we will get last digit of two digit number\n",
    "\n",
    "c=num//10 # here will get first digit of two digit number\n",
    "\n",
    "print(a+b+c)"
   ]
  },
  {
   "cell_type": "markdown",
   "id": "cdf2a999",
   "metadata": {},
   "source": [
    "excercise 4: Write a program that will reverse a four digit number.Also it checks whether the reverse is true."
   ]
  },
  {
   "cell_type": "code",
   "execution_count": 37,
   "id": "c6d5070c",
   "metadata": {},
   "outputs": [
    {
     "name": "stdout",
     "output_type": "stream",
     "text": [
      "enter the four digit number 4567\n",
      "7654\n",
      "False\n"
     ]
    }
   ],
   "source": [
    "x=int(input(\"enter the four digit number \"))\n",
    "\n",
    "a=x%10  # to get last number\n",
    "\n",
    "num_1=x//10 # to get first three numbers\n",
    "\n",
    "b=num_1%10   # this way i will get 2nd last number\n",
    "\n",
    "num_2=num_1//10  # here will get first two digit number\n",
    "\n",
    "c=num_2%10  # we will get 2 nd number\n",
    "\n",
    "d=num_2//10  # here we will get 1st digit\n",
    "\n",
    "#formula for reverse\n",
    "\n",
    "rev=a*1000+b*100+c*10+d\n",
    "\n",
    "print(rev)\n",
    "\n",
    "#now let check whether both number are equal or not\n",
    "\n",
    "if x==rev:\n",
    "    print(True)\n",
    "else:\n",
    "    print(False)"
   ]
  },
  {
   "cell_type": "markdown",
   "id": "9aee5f84",
   "metadata": {},
   "source": [
    "excercise 5: Write a program to find the euclidean distance between two coordinates."
   ]
  },
  {
   "cell_type": "code",
   "execution_count": 40,
   "id": "b23ec8b4",
   "metadata": {},
   "outputs": [],
   "source": [
    "import math"
   ]
  },
  {
   "cell_type": "code",
   "execution_count": 41,
   "id": "aaa65afc",
   "metadata": {},
   "outputs": [
    {
     "name": "stdout",
     "output_type": "stream",
     "text": [
      "x1: 4\n",
      "y1: 5\n",
      "x2: 6\n",
      "y2: 8\n",
      "====================================================================================================\n",
      "Eucledian distance for given co-ordinate will be 3.61\n"
     ]
    }
   ],
   "source": [
    "x1=float(input(\"x1: \"))\n",
    "y1=float(input(\"y1: \"))\n",
    "x2=float(input(\"x2: \"))\n",
    "y2=float(input(\"y2: \"))\n",
    "\n",
    "x=[x1,y1]\n",
    "y=[x2,y2]\n",
    "\n",
    "print(\"=\"*100)\n",
    "\n",
    "print(\"Eucledian distance for given co-ordinate will be\",round(math.dist(x,y),2))"
   ]
  },
  {
   "cell_type": "markdown",
   "id": "2b73f43e",
   "metadata": {},
   "source": [
    "excercise 5: Write  a program that will tell whether the given number is divisible by 3 & 6."
   ]
  },
  {
   "cell_type": "code",
   "execution_count": 49,
   "id": "e3925a4f",
   "metadata": {},
   "outputs": [
    {
     "name": "stdout",
     "output_type": "stream",
     "text": [
      "enter the number 45\n",
      "the number is not divisible by 3 and 6\n"
     ]
    }
   ],
   "source": [
    "num=int(input(\"enter the number \"))\n",
    "\n",
    "if num%3==0 and num%6==0:\n",
    "    print(\"the number is divisible by 3 and 6\")\n",
    "else:\n",
    "    print(\"the number is not divisible by 3 and 6\")"
   ]
  },
  {
   "cell_type": "markdown",
   "id": "e77f066c",
   "metadata": {},
   "source": [
    "Excercise 6: Write a program that will take three digits from the user and add the square of each digit."
   ]
  },
  {
   "cell_type": "code",
   "execution_count": 53,
   "id": "2301513b",
   "metadata": {},
   "outputs": [
    {
     "name": "stdout",
     "output_type": "stream",
     "text": [
      "Enter three digit number: 345\n",
      "50\n"
     ]
    }
   ],
   "source": [
    "n=int(input(\"Enter three digit number: \"))\n",
    "\n",
    "#123\n",
    "\n",
    "a=n%10  #3\n",
    "\n",
    "num=n//10  #12\n",
    "\n",
    "b=num%10  #2\n",
    "\n",
    "c=num//10  #1\n",
    "\n",
    "output_value=(a**2)+(b**2)+(c**2)\n",
    "\n",
    "print(output_value)"
   ]
  },
  {
   "cell_type": "markdown",
   "id": "e27e3b54",
   "metadata": {},
   "source": [
    "Excercise 7: Write a program that will check whether the number is armstrong number or not."
   ]
  },
  {
   "cell_type": "raw",
   "id": "e4a11a92",
   "metadata": {},
   "source": [
    "An Armstrong number is one whose sum of digits raised to the power three equals the number itself. 371, for example, is an Armstrong number because 3**3 + 7**3 + 1**3 = 371."
   ]
  },
  {
   "cell_type": "code",
   "execution_count": 54,
   "id": "cdcc36bc",
   "metadata": {},
   "outputs": [
    {
     "name": "stdout",
     "output_type": "stream",
     "text": [
      "Enter three digit number: 121\n",
      "the number is not armstrong number\n"
     ]
    }
   ],
   "source": [
    "n=int(input(\"Enter three digit number: \"))\n",
    "\n",
    "a=n%10  #3\n",
    "\n",
    "num=n//10  #12\n",
    "\n",
    "b=num%10  #2\n",
    "\n",
    "c=num//10  #1\n",
    "\n",
    "if (a**3 + b**3 + c**3)==n:\n",
    "    print(\"the number is armstrong number\")\n",
    "else:\n",
    "    print(\"the number is not armstrong number\")"
   ]
  },
  {
   "cell_type": "markdown",
   "id": "5638566d",
   "metadata": {},
   "source": [
    "Excercise 8:Write a program that will take user input of (4 digits number) and check whether the number is narcissist number or not.\n"
   ]
  },
  {
   "cell_type": "code",
   "execution_count": 55,
   "id": "6e615b8a",
   "metadata": {},
   "outputs": [
    {
     "name": "stdout",
     "output_type": "stream",
     "text": [
      "Enter Four digit number: 1234\n",
      "the number is not narcissist number\n"
     ]
    }
   ],
   "source": [
    "n=int(input(\"Enter Four digit number: \"))\n",
    "\n",
    "#1234\n",
    "\n",
    "a=n%10  #4\n",
    "num=n//10  #123\n",
    "b=num%10  #3\n",
    "num_1=num//10  #12\n",
    "c=num_1%10 #2\n",
    "d=num_1//10  #1\n",
    "\n",
    "\n",
    "if (a**4 + b**4 + c**4+d**4)==n:\n",
    "    print(\"the number is narcissist number\")\n",
    "else:\n",
    "    print(\"the number is not narcissist number\")"
   ]
  },
  {
   "cell_type": "markdown",
   "id": "b9019299",
   "metadata": {},
   "source": [
    "# 2. python input and output exercise"
   ]
  },
  {
   "cell_type": "markdown",
   "id": "1a72ac3e",
   "metadata": {},
   "source": [
    "Exercise 9: Accept numbers from a user"
   ]
  },
  {
   "cell_type": "code",
   "execution_count": 125,
   "id": "6ce76c8d",
   "metadata": {},
   "outputs": [
    {
     "name": "stdout",
     "output_type": "stream",
     "text": [
      "enter the name: milind\n"
     ]
    }
   ],
   "source": [
    "name=input(\"enter the name: \")"
   ]
  },
  {
   "cell_type": "markdown",
   "id": "16e18e3d",
   "metadata": {},
   "source": [
    "Exercise 10: Display three string “Name”, “Is”, “James” as “Name ** Is ** James”"
   ]
  },
  {
   "cell_type": "code",
   "execution_count": 126,
   "id": "18344703",
   "metadata": {},
   "outputs": [
    {
     "name": "stdout",
     "output_type": "stream",
     "text": [
      "name**is**james\n"
     ]
    }
   ],
   "source": [
    "print(\"name\",\"is\",\"james\",sep=\"**\")"
   ]
  },
  {
   "cell_type": "markdown",
   "id": "7e0a0f37",
   "metadata": {},
   "source": [
    "Exercise 11: Convert Decimal number to octal using print() output formatting\n",
    "\n",
    "The octal number of decimal number 8 is 10"
   ]
  },
  {
   "cell_type": "code",
   "execution_count": 129,
   "id": "9d77309a",
   "metadata": {},
   "outputs": [
    {
     "name": "stdout",
     "output_type": "stream",
     "text": [
      "14\n"
     ]
    }
   ],
   "source": [
    "number=12\n",
    "\n",
    "print(oct(number)[-2:])"
   ]
  },
  {
   "cell_type": "markdown",
   "id": "c548a916",
   "metadata": {},
   "source": [
    "Exercise 12: Display float number with 2 decimal places using print()"
   ]
  },
  {
   "cell_type": "code",
   "execution_count": 137,
   "id": "ee137e2e",
   "metadata": {},
   "outputs": [
    {
     "name": "stdout",
     "output_type": "stream",
     "text": [
      "56.88\n"
     ]
    }
   ],
   "source": [
    "num=56.87547\n",
    "\n",
    "y=float(round(num,2))\n",
    "\n",
    "print(y)"
   ]
  },
  {
   "cell_type": "markdown",
   "id": "5e062419",
   "metadata": {},
   "source": [
    "Excercise 13:Print all factors of a given number provided by the user."
   ]
  },
  {
   "cell_type": "code",
   "execution_count": 81,
   "id": "9050b51b",
   "metadata": {},
   "outputs": [
    {
     "name": "stdout",
     "output_type": "stream",
     "text": [
      "enter the number: 45\n",
      "1 3 5 9 15 45 "
     ]
    }
   ],
   "source": [
    "n=int(input(\"enter the number: \"))\n",
    "\n",
    "for i in range(1,n+1):\n",
    "    if n%i==0:\n",
    "        print(i,end=\" \")       "
   ]
  },
  {
   "cell_type": "markdown",
   "id": "70a7f4ec",
   "metadata": {},
   "source": [
    "Exercise 14: Accept a list of 5 float numbers as an input from the user"
   ]
  },
  {
   "cell_type": "code",
   "execution_count": 144,
   "id": "90042b4c",
   "metadata": {},
   "outputs": [
    {
     "name": "stdout",
     "output_type": "stream",
     "text": [
      "enter the number: 67.65\n",
      "enter the number: 98.98\n",
      "enter the number: 655.65\n",
      "enter the number: 78.9997\n",
      "enter the number: 65.545\n",
      "[67.65, 98.98, 655.65, 78.9997, 65.545]\n"
     ]
    }
   ],
   "source": [
    "l1=[]\n",
    "\n",
    "while len(l1)<5:\n",
    "    n=float(input(\"enter the number: \"))\n",
    "    l1.append(n)\n",
    "    \n",
    "print(l1)"
   ]
  },
  {
   "cell_type": "markdown",
   "id": "1e5838eb",
   "metadata": {},
   "source": [
    "Exercise 15: Write all content of a given file into a new file by skipping line number 5"
   ]
  },
  {
   "attachments": {
    "read%20file.jpg": {
     "image/jpeg": "[encoded data removed]"
    }
   },
   "cell_type": "markdown",
   "id": "d68d23a5",
   "metadata": {},
   "source": [
    "![read%20file.jpg](attachment:read%20file.jpg)"
   ]
  },
  {
   "cell_type": "code",
   "execution_count": 189,
   "id": "c4cb49c2",
   "metadata": {},
   "outputs": [],
   "source": [
    "#read test file\n",
    "with open (\"test file.txt\",'r') as fp:\n",
    "    #read all the lines from the file\n",
    "    lines=fp.readlines()\n",
    "    \n",
    "#open new file in write mode\n",
    "\n",
    "with open (\"test file new.txt\",\"w\") as fp:\n",
    "    count=0\n",
    "    #iterate each line from test file\n",
    "    for line in lines:\n",
    "        if count==4:\n",
    "            count=+1\n",
    "            continue\n",
    "        else:\n",
    "            fp.write(line)\n",
    "        count+=1"
   ]
  },
  {
   "cell_type": "markdown",
   "id": "6476d72a",
   "metadata": {},
   "source": [
    "Exercise 16: Accept any three string from one input() call"
   ]
  },
  {
   "cell_type": "code",
   "execution_count": 196,
   "id": "a1f0897e",
   "metadata": {},
   "outputs": [
    {
     "name": "stdout",
     "output_type": "stream",
     "text": [
      "enter the three names with keeping space in between: govind damodar madhaveti\n",
      "govind\n",
      "damodar\n",
      "madhaveti\n"
     ]
    }
   ],
   "source": [
    "inp=input(\"enter the three names with keeping space in between: \")\n",
    "\n",
    "sep=inp.split()\n",
    "\n",
    "#print(sep)\n",
    "\n",
    "name1=sep[0]\n",
    "name2=sep[1]\n",
    "name3=sep[2]\n",
    "\n",
    "print(name1)\n",
    "print(name2)\n",
    "print(name3)"
   ]
  },
  {
   "cell_type": "markdown",
   "id": "3870c43a",
   "metadata": {},
   "source": [
    "Exercise 17: Format variables using a string.format() method.\n",
    "Write a program to use string.format() method to format the following three variables as per the expected output"
   ]
  },
  {
   "attachments": {
    "string%20format.jpg": {
     "image/jpeg": "[encoded data removed]"
    }
   },
   "cell_type": "markdown",
   "id": "d19c2600",
   "metadata": {},
   "source": [
    "![string%20format.jpg](attachment:string%20format.jpg)"
   ]
  },
  {
   "cell_type": "code",
   "execution_count": 204,
   "id": "3419a752",
   "metadata": {},
   "outputs": [
    {
     "name": "stdout",
     "output_type": "stream",
     "text": [
      "i have 1200 dollars so i can buy 4 football for 450 dollars\n"
     ]
    }
   ],
   "source": [
    "totalmoney=1200\n",
    "quantity=4\n",
    "price=450\n",
    "\n",
    "print(\"i have {} dollars so i can buy {} football for {} dollars\".format(totalmoney,quantity,price))"
   ]
  },
  {
   "cell_type": "markdown",
   "id": "6d3d66ad",
   "metadata": {},
   "source": [
    "Exercise 18: Check file is empty or not\n",
    "Write a program to check if the given file is empty or not"
   ]
  },
  {
   "cell_type": "code",
   "execution_count": 205,
   "id": "16b69265",
   "metadata": {},
   "outputs": [
    {
     "name": "stdout",
     "output_type": "stream",
     "text": [
      "file is not empty\n"
     ]
    }
   ],
   "source": [
    "import os\n",
    "size=os.stat(\"test file.txt\").st_size\n",
    "\n",
    "if size==0:\n",
    "    print(\"file is empty\")\n",
    "else:\n",
    "    print(\"file is not empty\")"
   ]
  },
  {
   "cell_type": "markdown",
   "id": "b828ce1c",
   "metadata": {},
   "source": [
    "Exercise 19: Read line number 4 from the following file"
   ]
  },
  {
   "cell_type": "code",
   "execution_count": 206,
   "id": "3e3cbbae",
   "metadata": {},
   "outputs": [
    {
     "name": "stdout",
     "output_type": "stream",
     "text": [
      "HR analytics power bi project\n",
      "\n"
     ]
    }
   ],
   "source": [
    "with open(\"test file.txt\",\"r\") as fp:\n",
    "    lines=fp.readlines()\n",
    "    print(lines[3])"
   ]
  },
  {
   "cell_type": "markdown",
   "id": "3c0d7264",
   "metadata": {},
   "source": [
    "excercise 20: Write a program to find the simple interest when the value of principle,rate of interest and time period is given."
   ]
  },
  {
   "cell_type": "code",
   "execution_count": 45,
   "id": "55ea5979",
   "metadata": {},
   "outputs": [
    {
     "name": "stdout",
     "output_type": "stream",
     "text": [
      "principle amount: 67000\n",
      "Rate of interest: 12\n",
      "for the time period: 5\n",
      "40200.0\n",
      "Total due amount will need to pay wll be  107200.0\n"
     ]
    }
   ],
   "source": [
    "P =float(input(\"principle amount: \"))\n",
    "R =float(input(\"Rate of interest: \"))\n",
    "T =int(input(\"for the time period: \"))\n",
    "\n",
    "Simple_interest= (P*R*T)/100\n",
    "\n",
    "print(Simple_interest)\n",
    "\n",
    "total_due=P+Simple_interest\n",
    "\n",
    "print(\"Total due amount will need to pay wll be \",total_due)"
   ]
  },
  {
   "cell_type": "markdown",
   "id": "1a36f2b4",
   "metadata": {},
   "source": [
    "Excercise 21: Write a program to find the volume of the cylinder. Also find the cost when ,when the cost of 1litre milk is 40Rs.\n"
   ]
  },
  {
   "cell_type": "code",
   "execution_count": 47,
   "id": "f46ae5e4",
   "metadata": {},
   "outputs": [
    {
     "name": "stdout",
     "output_type": "stream",
     "text": [
      "enter the radius of cylinder in cm 56\n",
      "enter the height of cylinder in cm 5\n",
      "Volume of cylinder will be  49266.56\n",
      "How much milk we can carry in this cylinder  49.26656 ltr\n",
      "this cost of that milk will be 1970.6624\n"
     ]
    }
   ],
   "source": [
    "rad=float(input(\"enter the radius of cylinder in cm \"))\n",
    "ht=float(input(\"enter the height of cylinder in cm \"))\n",
    "\n",
    "vol=3.142*(rad**2)*ht\n",
    "litr=vol/1000\n",
    "cost=litr*40\n",
    "\n",
    "print(\"Volume of cylinder will be \",vol)\n",
    "print(\"How much milk we can carry in this cylinder \",litr, 'ltr')\n",
    "print(\"this cost of that milk will be\",cost)"
   ]
  },
  {
   "cell_type": "markdown",
   "id": "b9823083",
   "metadata": {},
   "source": [
    "# 3. Python if else, for loop,while loop and range() Exercises with Solutions"
   ]
  },
  {
   "cell_type": "markdown",
   "id": "64736431",
   "metadata": {},
   "source": [
    "Exercise 22: Print the sum of the current number and the previous number\n",
    "Write a program to iterate the first 10 numbers and in each iteration, print the sum of the current and previous number.\n",
    "\n",
    "Expected result: 0,1,3,5,7,9,11,13,15,17"
   ]
  },
  {
   "cell_type": "code",
   "execution_count": 24,
   "id": "018124f9",
   "metadata": {},
   "outputs": [
    {
     "name": "stdout",
     "output_type": "stream",
     "text": [
      "1 3 5 7 9 11 13 15 17 19 "
     ]
    }
   ],
   "source": [
    "prev_num=0\n",
    "\n",
    "for i in range(1,11):\n",
    "    x=i+prev_num\n",
    "    prev_num=i\n",
    "    \n",
    "    print(x,end=\" \")"
   ]
  },
  {
   "cell_type": "markdown",
   "id": "ed6bfef7",
   "metadata": {},
   "source": [
    "Excercise 23: Write a python program to search a given number from a list"
   ]
  },
  {
   "cell_type": "code",
   "execution_count": 89,
   "id": "778fcd91",
   "metadata": {},
   "outputs": [
    {
     "name": "stdout",
     "output_type": "stream",
     "text": [
      "enter the number: 5\n",
      "Number exist\n"
     ]
    }
   ],
   "source": [
    "l1=[4,5,6,2,3,9,1,4,5,6,3]\n",
    "\n",
    "n=int(input(\"enter the number: \"))\n",
    "\n",
    "for i in l1:\n",
    "    if i==n:\n",
    "        print(\"Number exist\")\n",
    "        break\n",
    "else:\n",
    "    print(\"number dont exist\")"
   ]
  },
  {
   "cell_type": "markdown",
   "id": "031dc07f",
   "metadata": {},
   "source": [
    "Exercise 24: Check Palindrome Number\n",
    "Write a program to check if the given number is a palindrome number.\n",
    "\n",
    "A palindrome number is a number that is same after reverse. For example 545, \n",
    "is the palindrome numbers\n"
   ]
  },
  {
   "cell_type": "code",
   "execution_count": 99,
   "id": "7bc4723e",
   "metadata": {},
   "outputs": [
    {
     "name": "stdout",
     "output_type": "stream",
     "text": [
      "enter the number: 456\n",
      "654\n",
      "the given number is not palindrom\n"
     ]
    }
   ],
   "source": [
    "n=int(input(\"enter the number: \"))\n",
    "\n",
    "rev_number=str(n)[::-1]\n",
    "\n",
    "print(rev_number)\n",
    "\n",
    "if n==int(rev_number):\n",
    "    print(\"the given number is palindrom\")\n",
    "else:\n",
    "    print(\"the given number is not palindrom\")"
   ]
  },
  {
   "cell_type": "markdown",
   "id": "652877b4",
   "metadata": {},
   "source": [
    "Exercise 25: Create a new list from a two list using the following condition\n",
    "Given a two list of numbers, write a program to create a new list such that the new list\n",
    "should contain odd numbers from the first list and even numbers from the second list."
   ]
  },
  {
   "cell_type": "code",
   "execution_count": 100,
   "id": "7e2e279c",
   "metadata": {},
   "outputs": [
    {
     "name": "stdout",
     "output_type": "stream",
     "text": [
      "[1, 3, 5, 6, 8, 10]\n"
     ]
    }
   ],
   "source": [
    "\n",
    "l1=[1,2,3,4,5]\n",
    "l2=[6,7,8,9,10]\n",
    "\n",
    "l3=[]\n",
    "\n",
    "for i in l1:\n",
    "    if i%2!=0:\n",
    "        l3.append(i)\n",
    "        \n",
    "for i in l2:\n",
    "    if i%2==0:\n",
    "        l3.append(i)\n",
    "        \n",
    "print(l3)"
   ]
  },
  {
   "cell_type": "markdown",
   "id": "35e91937",
   "metadata": {},
   "source": [
    "Exercise 26: Calculate income tax for the given income by adhering to the below rules\n",
    "first 10k--> 0%\n",
    "second 10 --> 10%\n",
    "remaining-->20%\n",
    "\n",
    "Expected Output:\n",
    "\n",
    "For example, suppose the taxable income is 45000 the income tax payable is\n",
    "\n",
    "10000*0% + 10000*10%  + 25000*20% = $6000.\n"
   ]
  },
  {
   "cell_type": "code",
   "execution_count": 96,
   "id": "47529e57",
   "metadata": {},
   "outputs": [
    {
     "name": "stdout",
     "output_type": "stream",
     "text": [
      "enter the number: 45000\n",
      "6000.0\n"
     ]
    }
   ],
   "source": [
    "n=int(input(\"enter the number: \"))\n",
    "\n",
    "if n<=10000:\n",
    "    print(n)\n",
    "else:\n",
    "    a=n-10000\n",
    "    b=a-10000\n",
    "    c=b*0.2\n",
    "    d=c+1000\n",
    "    \n",
    "    print(d)"
   ]
  },
  {
   "cell_type": "markdown",
   "id": "4eea34d6",
   "metadata": {},
   "source": [
    "Exercise 27: Print multiplication table form 1 to 10"
   ]
  },
  {
   "attachments": {
    "table%20from%201%20to%2010.jpg": {
     "image/jpeg": "[encoded data removed]"
    }
   },
   "cell_type": "markdown",
   "id": "38b8728a",
   "metadata": {},
   "source": [
    "![table%20from%201%20to%2010.jpg](attachment:table%20from%201%20to%2010.jpg)"
   ]
  },
  {
   "cell_type": "code",
   "execution_count": 101,
   "id": "3049421f",
   "metadata": {},
   "outputs": [
    {
     "name": "stdout",
     "output_type": "stream",
     "text": [
      "1 2 3 4 5 6 7 8 9 10 \n",
      "\n",
      "2 4 6 8 10 12 14 16 18 20 \n",
      "\n",
      "3 6 9 12 15 18 21 24 27 30 \n",
      "\n",
      "4 8 12 16 20 24 28 32 36 40 \n",
      "\n",
      "5 10 15 20 25 30 35 40 45 50 \n",
      "\n",
      "6 12 18 24 30 36 42 48 54 60 \n",
      "\n",
      "7 14 21 28 35 42 49 56 63 70 \n",
      "\n",
      "8 16 24 32 40 48 56 64 72 80 \n",
      "\n",
      "9 18 27 36 45 54 63 72 81 90 \n",
      "\n",
      "10 20 30 40 50 60 70 80 90 100 \n",
      "\n"
     ]
    }
   ],
   "source": [
    "for i in range(1,11):\n",
    "    for j in range(1,11):\n",
    "        print(i*j,end=\" \")\n",
    "    print(\"\\n\")"
   ]
  },
  {
   "cell_type": "markdown",
   "id": "b16555cf",
   "metadata": {},
   "source": [
    "Excercise 28: Print all the armstrong numbers in the range of 100 to 1000"
   ]
  },
  {
   "cell_type": "code",
   "execution_count": 69,
   "id": "75f57b02",
   "metadata": {},
   "outputs": [
    {
     "name": "stdout",
     "output_type": "stream",
     "text": [
      "[153, 370, 371, 407]\n"
     ]
    }
   ],
   "source": [
    "armstrong_list=[]\n",
    "\n",
    "for i in range(100,1000):\n",
    "    a=i%10  # 123-->3\n",
    "    num=i//10 #123-->12\n",
    "    b=num%10  #--->2\n",
    "    c=num//10  #-->1\n",
    "    \n",
    "    if (a**3)+(b**3)+(c**3)==i:\n",
    "        armstrong_list.append(i)\n",
    "        \n",
    "print(armstrong_list)"
   ]
  },
  {
   "cell_type": "markdown",
   "id": "d4ae1316",
   "metadata": {},
   "source": [
    "Excercise 29: The current population of a town is 10000. The population of the town is increasing at the rate of 10% per year. You have to write a program to find out the population at the end of each of the last 10 years. For eg current population is 10000 so the output should be like this:\n",
    "\n",
    "#10th year - 10000\n",
    "\n",
    "#9th year - 9000\n",
    "\n",
    "#8th year - 8100 and so on\n"
   ]
  },
  {
   "cell_type": "code",
   "execution_count": 71,
   "id": "8f358d02",
   "metadata": {},
   "outputs": [
    {
     "name": "stdout",
     "output_type": "stream",
     "text": [
      "9000 8100 7290 6561 5905 5314 4783 4305 3874 "
     ]
    }
   ],
   "source": [
    "p=10000\n",
    "\n",
    "for i in range(1,10):\n",
    "    p=p-0.1*p\n",
    "    print(round(p),end=\" \")"
   ]
  },
  {
   "cell_type": "markdown",
   "id": "a2cb36da",
   "metadata": {},
   "source": [
    "Excercise 30: Write a program to print all the unique combinations of two digits from 1 to 4 for ex (1,2),(2,3)....."
   ]
  },
  {
   "cell_type": "code",
   "execution_count": 72,
   "id": "3328d31f",
   "metadata": {},
   "outputs": [
    {
     "name": "stdout",
     "output_type": "stream",
     "text": [
      "1 2\n",
      "1 3\n",
      "1 4\n",
      "2 1\n",
      "2 3\n",
      "2 4\n",
      "3 1\n",
      "3 2\n",
      "3 4\n",
      "4 1\n",
      "4 2\n",
      "4 3\n"
     ]
    }
   ],
   "source": [
    "# since we have 4 digit there unique combination will be 16 \n",
    "\n",
    "for i in range(1,5):\n",
    "    for j in range(1,5):\n",
    "        if i != j:\n",
    "            print(i,j)"
   ]
  },
  {
   "cell_type": "markdown",
   "id": "37875b94",
   "metadata": {},
   "source": [
    "excercise 31:Write a program to print whether a given number is prime number or not"
   ]
  },
  {
   "cell_type": "code",
   "execution_count": 68,
   "id": "897f46a4",
   "metadata": {},
   "outputs": [
    {
     "name": "stdout",
     "output_type": "stream",
     "text": [
      "enter the number: 45\n",
      "it is not a prime number\n"
     ]
    }
   ],
   "source": [
    "x=int(input(\"enter the number: \"))\n",
    "\n",
    "new=[]\n",
    "\n",
    "\n",
    "if x==1:\n",
    "    print(\"1 is not prime number\")\n",
    "else:\n",
    "    for i in range(1,x+1):\n",
    "        if x%i==0:\n",
    "            new.append(i)\n",
    "            #print(new)\n",
    "\n",
    "    if len(new) > 2:\n",
    "        print(\"it is not a prime number\")\n",
    "    else:\n",
    "        print(\"it is prime number \")"
   ]
  },
  {
   "cell_type": "code",
   "execution_count": null,
   "id": "f717cf1e",
   "metadata": {},
   "outputs": [],
   "source": []
  },
  {
   "cell_type": "markdown",
   "id": "6859624a",
   "metadata": {},
   "source": [
    "excercise 32: User will provide 2 numbers you have to find the HCF of those 2 numbers"
   ]
  },
  {
   "cell_type": "code",
   "execution_count": 73,
   "id": "12a44034",
   "metadata": {},
   "outputs": [
    {
     "name": "stdout",
     "output_type": "stream",
     "text": [
      "enter the number: 34\n",
      "enter the number: 56\n",
      "HCF of given two number is  2\n"
     ]
    }
   ],
   "source": [
    "x=int(input(\"enter the number: \"))\n",
    "y=int(input(\"enter the number: \"))\n",
    "\n",
    "x_div=[]\n",
    "y_div=[]\n",
    "\n",
    "for i in range(1,x+1):\n",
    "    if x%i==0:\n",
    "        x_div.append(i)\n",
    "        \n",
    "for i in range(1,y+1):\n",
    "    if y%i==0:\n",
    "        y_div.append(i)\n",
    "        \n",
    "comman_list=[]\n",
    "\n",
    "for i in x_div:\n",
    "    if i in y_div:\n",
    "        comman_list.append(i)\n",
    "        \n",
    "print(\"HCF of given two number is \",max(comman_list))"
   ]
  },
  {
   "cell_type": "markdown",
   "id": "8141a1c2",
   "metadata": {},
   "source": [
    "Excercise 33: User will provide 2 numbers you have to find the by LCM of those 2 numbers"
   ]
  },
  {
   "cell_type": "code",
   "execution_count": 74,
   "id": "94fd94bb",
   "metadata": {},
   "outputs": [
    {
     "name": "stdout",
     "output_type": "stream",
     "text": [
      "enter the first number: 34\n",
      "enter the second number: 56\n",
      "952\n"
     ]
    }
   ],
   "source": [
    "a=int(input(\"enter the first number: \"))\n",
    "b=int(input(\"enter the second number: \"))\n",
    "\n",
    "if a>b:\n",
    "    greater=a\n",
    "else:\n",
    "    greater=b\n",
    "    \n",
    "while(True):\n",
    "    if (greater%a==0)  and (greater%b==0):\n",
    "        LCM=greater\n",
    "        break\n",
    "    greater+=1\n",
    "    \n",
    "print(LCM)"
   ]
  },
  {
   "cell_type": "markdown",
   "id": "1ee0b4eb",
   "metadata": {},
   "source": [
    "excercise 34: Write a program that take a user input of three angles and will find out whether it can form a triangle or not."
   ]
  },
  {
   "cell_type": "code",
   "execution_count": 42,
   "id": "061a046d",
   "metadata": {},
   "outputs": [
    {
     "name": "stdout",
     "output_type": "stream",
     "text": [
      "1st angle of triangle: 90\n",
      "2nd angle of triangle: 90\n",
      "3rd angle of triangle: 90\n",
      "No it cant form a triangle\n"
     ]
    }
   ],
   "source": [
    "# since sum of all the angle of trianle is 180 deg\n",
    "\n",
    "a=float(input(\"1st angle of triangle: \"))\n",
    "b=float(input(\"2nd angle of triangle: \"))\n",
    "c=float(input(\"3rd angle of triangle: \"))\n",
    "\n",
    "if (a+b+c)==180 and a!=0 and b!=0 and c!=0:\n",
    "    print(\"yes it can form a triangle\")\n",
    "else:\n",
    "    print(\"No it cant form a triangle\")"
   ]
  },
  {
   "cell_type": "markdown",
   "id": "67669525",
   "metadata": {},
   "source": [
    "excercise 35:Write a program that will determine weather when the value of temperature and humidity is provided by the user."
   ]
  },
  {
   "cell_type": "raw",
   "id": "478a992b",
   "metadata": {},
   "source": [
    "TEMPERATURE(C)      HUMIDITY(%)      WEATHER\n",
    "\n",
    "     >= 30          >=90             Hot and Humid\n",
    "     >= 30          < 90             Hot\n",
    "     <30            >= 90            Cool and Humid\n",
    "     <30            <90              Cool"
   ]
  },
  {
   "cell_type": "code",
   "execution_count": 51,
   "id": "bd9ecda3",
   "metadata": {},
   "outputs": [
    {
     "name": "stdout",
     "output_type": "stream",
     "text": [
      "enter the value of temp 45\n",
      "enter the value of humidity 56\n",
      "Hot\n"
     ]
    }
   ],
   "source": [
    "temp=int(input(\"enter the value of temp \"))\n",
    "humidity=int(input(\"enter the value of humidity \"))\n",
    "\n",
    "if temp>=30 and humidity>=90:\n",
    "    print(\"Hot and Humid\")\n",
    "elif temp>=30 and humidity<90:\n",
    "    print(\"Hot\")\n",
    "elif temp<30 and humidity>=90:\n",
    "    print(\"cool and humid\")\n",
    "else:\n",
    "    print(\"cool\")"
   ]
  },
  {
   "cell_type": "markdown",
   "id": "50d4160d",
   "metadata": {},
   "source": [
    "excercise 36:Write a program that will take user input of cost price and selling price and determines whether its a loss or a profit"
   ]
  },
  {
   "cell_type": "code",
   "execution_count": 43,
   "id": "96c8bb89",
   "metadata": {},
   "outputs": [
    {
     "name": "stdout",
     "output_type": "stream",
     "text": [
      "what is cost of product: 67\n",
      "what is sell price of product: 89\n",
      "it is profit by  22\n"
     ]
    }
   ],
   "source": [
    "cost=int(input(\"what is cost of product: \"))\n",
    "sell=int(input(\"what is sell price of product: \"))\n",
    "\n",
    "if (sell-cost)>0:\n",
    "    amount=sell-cost\n",
    "    print(\"it is profit by \",amount)\n",
    "else:\n",
    "    amount=sell-cost\n",
    "    print(\"it is loss by \",amount)"
   ]
  },
  {
   "cell_type": "markdown",
   "id": "5127c770",
   "metadata": {},
   "source": [
    "excercise 37-Write a program that will give you the in hand salary after deduction of \n",
    "HRA(10%),\n",
    "\n",
    "DA(5%),\n",
    "\n",
    "PF(3%), \n",
    "\n",
    "and tax\n",
    "\n",
    "(if salary is between 5-10 lakh–10%),\n",
    "\n",
    "(11-20lakh–20%),\n",
    "\n",
    "(20< _   – 30%)\n",
    "\n",
    "(0-1lakh print k)."
   ]
  },
  {
   "cell_type": "code",
   "execution_count": 56,
   "id": "13dbc265",
   "metadata": {},
   "outputs": [
    {
     "name": "stdout",
     "output_type": "stream",
     "text": [
      "enter the salary amount: 456789\n",
      "no tax\n",
      "Salary after tax cutting 456789\n",
      "in hand salary after tax/HRA/DA/PF cutting 0.037456698 Cr\n"
     ]
    }
   ],
   "source": [
    "salary=int(input(\"enter the salary amount: \"))\n",
    "\n",
    "if salary in range(500000,1000000):\n",
    "    salary=salary-salary*0.1\n",
    "elif salary in range(1100000,2000000):\n",
    "    salary=salary-salary*0.2\n",
    "elif salary> 2000000:\n",
    "    salary=salary-salary*0.3\n",
    "else:\n",
    "    print(\"no tax\")\n",
    "\n",
    "print(\"Salary after tax cutting\",salary)\n",
    "\n",
    "HRA=salary*0.10   # 63000\n",
    "DA=salary*0.05   #31500\n",
    "PF=salary*0.03   #18900\n",
    "\n",
    "remain=salary-(HRA+DA+PF)\n",
    "\n",
    "#print(\"in hand salary after HRA/DA/PF cutting\",remain)\n",
    "\n",
    "if remain in range(1000,99999):\n",
    "    print(\"in hand salary after tax/HRA/DA/PF cutting\",remain/1000,\"k\")\n",
    "elif remain in range(100000,9999999):\n",
    "    print(\"in hand salary after tax/HRA/DA/PF cutting\",remain/100000,\"lakh\")\n",
    "else:\n",
    "    print(\"in hand salary after tax/HRA/DA/PF cutting\",remain/10000000,\"Cr\")"
   ]
  },
  {
   "cell_type": "markdown",
   "id": "017d3f23",
   "metadata": {},
   "source": [
    "excercise 38: Write a menu driven program - \n",
    "1.cm to ft \n",
    "\n",
    "2.kl to miles \n",
    "\n",
    "3.usd to inr \n",
    "\n",
    "4.exit"
   ]
  },
  {
   "cell_type": "code",
   "execution_count": 57,
   "id": "7f747f9c",
   "metadata": {},
   "outputs": [
    {
     "name": "stdout",
     "output_type": "stream",
     "text": [
      "Enter 1 to 'cm' to 'ft'\n",
      "Enter 2 to 'km' to 'miles'\n",
      "Enter 3 to  'USD' to 'INR'\n",
      "Enter 4 to exit 2\n",
      "enter the value in km34\n",
      "21.13113735239279 miles\n"
     ]
    }
   ],
   "source": [
    "user_input=int(input(\"\"\"Enter 1 to 'cm' to 'ft'\n",
    "Enter 2 to 'km' to 'miles'\n",
    "Enter 3 to  'USD' to 'INR'\n",
    "Enter 4 to exit \"\"\"))\n",
    "\n",
    "if user_input==1:\n",
    "    var1=int(input(\"enter the value in cm\"))\n",
    "    output=var1/30.48\n",
    "    print(output,'ft')\n",
    "    \n",
    "elif user_input==2:\n",
    "    var2=int(input(\"enter the value in km\"))\n",
    "    output=var2/1.609\n",
    "    print(output,'miles')\n",
    "    \n",
    "elif user_input==3:\n",
    "    var3=int(input(\"enter the value in usd\"))\n",
    "    output=var3*81.80\n",
    "    print(output,\"Inr\")\n",
    "    \n",
    "else:\n",
    "    print(\"Exit\")"
   ]
  },
  {
   "cell_type": "markdown",
   "id": "da04667e",
   "metadata": {},
   "source": [
    "Excercise 39:Write a program that will tell the number of dogs and chicken are there when the user will provide the value of total heads and legs."
   ]
  },
  {
   "cell_type": "code",
   "execution_count": 59,
   "id": "e08b845c",
   "metadata": {},
   "outputs": [
    {
     "name": "stdout",
     "output_type": "stream",
     "text": [
      "enter the number of heads: 2\n",
      "enter the number of legs: 4\n",
      "there are  2 number of chicken\n"
     ]
    }
   ],
   "source": [
    "# number of head-->     1                          1\n",
    "# number of legs-->     4                          2\n",
    "\n",
    "head=int(input(\"enter the number of heads: \"))\n",
    "legs=int(input(\"enter the number of legs: \"))\n",
    "\n",
    "if head/legs==0.25:\n",
    "    number_of_dogs=legs/4\n",
    "    print(\"there are \",round(number_of_dogs),'number of dogs')\n",
    "elif head/legs==0.5:\n",
    "    number_of_chicken=legs/2\n",
    "    print(\"there are \",round(number_of_chicken),'number of chicken')\n",
    "else:\n",
    "    print(\"enter correct numbers\")"
   ]
  },
  {
   "cell_type": "markdown",
   "id": "1e07bd7f",
   "metadata": {},
   "source": [
    "excercise 40: Write a program to find the sum of first n numbers, where n will be provided by the user. Eg if the user provides n=10 the output should be 55."
   ]
  },
  {
   "cell_type": "code",
   "execution_count": 61,
   "id": "dfbd851a",
   "metadata": {},
   "outputs": [
    {
     "name": "stdout",
     "output_type": "stream",
     "text": [
      "enter the number: 12\n",
      "78\n"
     ]
    }
   ],
   "source": [
    "user_input=int(input(\"enter the number: \"))\n",
    "\n",
    "x=0\n",
    "\n",
    "for i in range(1,user_input+1):\n",
    "    x=x+i\n",
    "    i+=1\n",
    "print(x)"
   ]
  },
  {
   "cell_type": "markdown",
   "id": "aac56f94",
   "metadata": {},
   "source": [
    "Excercise 41: Write a program that can multiply 2 numbers provided by the user without using the * operator"
   ]
  },
  {
   "cell_type": "code",
   "execution_count": 62,
   "id": "9d408cff",
   "metadata": {},
   "outputs": [
    {
     "name": "stdout",
     "output_type": "stream",
     "text": [
      "enter the first number: 3\n",
      "enter the seconde number 4\n",
      "12\n"
     ]
    }
   ],
   "source": [
    "x=int(input(\"enter the first number: \"))  #2\n",
    "y=int(input(\"enter the seconde number \"))   #3\n",
    "\n",
    "result=0\n",
    "\n",
    "for i in range(0,y):\n",
    "    result=result+x\n",
    "    \n",
    "print(result)"
   ]
  },
  {
   "cell_type": "markdown",
   "id": "9de5a45e",
   "metadata": {},
   "source": [
    "Excercise 42:Write a program that can find the factorial of a given number provided by the user."
   ]
  },
  {
   "cell_type": "code",
   "execution_count": 64,
   "id": "7a447bdf",
   "metadata": {},
   "outputs": [
    {
     "name": "stdout",
     "output_type": "stream",
     "text": [
      "enter the number : 4\n",
      "24\n"
     ]
    }
   ],
   "source": [
    "n=int(input(\"enter the number : \"))\n",
    "\n",
    "factorial=1\n",
    "\n",
    "if n < 0 :\n",
    "    print(\"factorial dont exist for negative number\")\n",
    "elif n==0:\n",
    "    print(\"for zero factorial is always one\")\n",
    "else:\n",
    "    for i in range(1,n+1):\n",
    "        factorial=factorial*i\n",
    "    print(factorial)"
   ]
  },
  {
   "cell_type": "markdown",
   "id": "74f37e79",
   "metadata": {},
   "source": [
    "excercise 43:print following pattern"
   ]
  },
  {
   "attachments": {
    "pattern1.jpg": {
     "image/jpeg": "[encoded data removed]"
    }
   },
   "cell_type": "markdown",
   "id": "34c035fd",
   "metadata": {},
   "source": [
    "![pattern1.jpg](attachment:pattern1.jpg)"
   ]
  },
  {
   "cell_type": "code",
   "execution_count": 34,
   "id": "a2923699",
   "metadata": {},
   "outputs": [
    {
     "name": "stdout",
     "output_type": "stream",
     "text": [
      "enter the number: 5\n",
      "\n",
      "\n",
      "1 \n",
      "\n",
      "2 2 \n",
      "\n",
      "3 3 3 \n",
      "\n",
      "4 4 4 4 \n",
      "\n",
      "5 5 5 5 5 \n",
      "\n"
     ]
    }
   ],
   "source": [
    "n=int(input(\"enter the number: \"))\n",
    "\n",
    "for i in range(0,n+1):\n",
    "    for j in range(0,i):\n",
    "        print(i,end=\" \")\n",
    "    print(\"\\n\")"
   ]
  },
  {
   "cell_type": "markdown",
   "id": "161c22dc",
   "metadata": {},
   "source": [
    "Exercise 44: Print First 10 natural numbers using while loop"
   ]
  },
  {
   "cell_type": "code",
   "execution_count": 207,
   "id": "a7f8152c",
   "metadata": {},
   "outputs": [
    {
     "name": "stdout",
     "output_type": "stream",
     "text": [
      "1 2 3 4 5 6 7 8 9 10 "
     ]
    }
   ],
   "source": [
    "while i <10:\n",
    "    for i in range(1,11):\n",
    "        print(i,end=\" \")"
   ]
  },
  {
   "cell_type": "markdown",
   "id": "dc77de6a",
   "metadata": {},
   "source": [
    "Exercise 45: Print the following pattern"
   ]
  },
  {
   "attachments": {
    "pattern2.jpg": {
     "image/jpeg": "[encoded data removed]"
    }
   },
   "cell_type": "markdown",
   "id": "40f8510a",
   "metadata": {},
   "source": [
    "![pattern2.jpg](attachment:pattern2.jpg)"
   ]
  },
  {
   "cell_type": "code",
   "execution_count": 28,
   "id": "e68a57f3",
   "metadata": {},
   "outputs": [
    {
     "name": "stdout",
     "output_type": "stream",
     "text": [
      "enter the number: 5\n",
      "1 \n",
      "2 3 \n",
      "4 5 6 \n",
      "7 8 9 10 \n",
      "11 12 13 14 15 \n"
     ]
    }
   ],
   "source": [
    "n=int(input(\"enter the number: \"))\n",
    "\n",
    "num=1\n",
    "\n",
    "for i in range(0,n):\n",
    "    for j in range(0,i+1):\n",
    "        print(num,end=\" \")\n",
    "        num=num+1\n",
    "    print()"
   ]
  },
  {
   "cell_type": "markdown",
   "id": "b822f71f",
   "metadata": {},
   "source": [
    "Excercise 46"
   ]
  },
  {
   "cell_type": "code",
   "execution_count": 227,
   "id": "766083e8",
   "metadata": {},
   "outputs": [
    {
     "name": "stdout",
     "output_type": "stream",
     "text": [
      "enter the number: 5\n",
      "1 \n",
      "\n",
      "1 2 \n",
      "\n",
      "1 2 3 \n",
      "\n",
      "1 2 3 4 \n",
      "\n",
      "1 2 3 4 5 \n",
      "\n"
     ]
    }
   ],
   "source": [
    "n=int(input('enter the number: '))\n",
    "\n",
    "#1,2,3,4,5\n",
    "\n",
    "for i in range(1,n+1):\n",
    "    for j in range(1,i+1):\n",
    "        print(j,end=\" \")\n",
    "        \n",
    "    print(\"\\n\")"
   ]
  },
  {
   "cell_type": "markdown",
   "id": "c7c991f7",
   "metadata": {},
   "source": [
    "Excercise 47"
   ]
  },
  {
   "cell_type": "code",
   "execution_count": 27,
   "id": "15ea87c2",
   "metadata": {},
   "outputs": [
    {
     "name": "stdout",
     "output_type": "stream",
     "text": [
      "enter the number: 5\n",
      "    1 \n",
      "   1 1 \n",
      "  1 2 1 \n",
      " 1 3 3 1 \n",
      "1 4 6 4 1 \n"
     ]
    }
   ],
   "source": [
    "n=int(input(\"enter the number: \"))\n",
    "\n",
    "list1=[]\n",
    "\n",
    "for i in range(0,n):\n",
    "    temp=[]\n",
    "    for j in range(0,i+1):\n",
    "        if j==0 or j==i:\n",
    "            temp.append(1)\n",
    "        else:\n",
    "            temp.append(list1[i-1][j]+list1[i-1][j-1])\n",
    "    list1.append(temp)\n",
    "    \n",
    "#print(list1)\n",
    "\n",
    "for i in range(n):\n",
    "    for j in range(0,n-i-1):\n",
    "        print(\" \",end=\"\")\n",
    "        \n",
    "    for j in range(0,i+1):\n",
    "        print(list1[i][j],end=\" \")\n",
    "        \n",
    "    print()"
   ]
  },
  {
   "cell_type": "markdown",
   "id": "e15584a5",
   "metadata": {},
   "source": [
    "Exercise 48: Calculate the sum of all numbers from 1 to a given number"
   ]
  },
  {
   "cell_type": "markdown",
   "id": "f970266b",
   "metadata": {},
   "source": [
    "Write a program to accept a number from a user and calculate the sum of all numbers from 1 to a given number\n",
    "\n",
    "For example, if the user entered 10 the output should be 55 (1+2+3+4+5+6+7+8+9+10)"
   ]
  },
  {
   "cell_type": "code",
   "execution_count": 229,
   "id": "8cce98e7",
   "metadata": {},
   "outputs": [
    {
     "name": "stdout",
     "output_type": "stream",
     "text": [
      "enter the number: 10\n",
      "55\n"
     ]
    }
   ],
   "source": [
    "n=int(input(\"enter the number: \"))\n",
    "\n",
    "x=0\n",
    "\n",
    "for i in range(1,n+1):\n",
    "    x=x+i\n",
    "    \n",
    "print(x)"
   ]
  },
  {
   "cell_type": "markdown",
   "id": "f2bd8a25",
   "metadata": {},
   "source": [
    "Exercise 49: Write a program to print multiplication table of a given number\n",
    "For example, num = 2 so the output should be"
   ]
  },
  {
   "cell_type": "code",
   "execution_count": 233,
   "id": "c65daa6c",
   "metadata": {},
   "outputs": [
    {
     "name": "stdout",
     "output_type": "stream",
     "text": [
      "enter the number: 16\n",
      "16 32 48 64 80 96 112 128 144 160 "
     ]
    }
   ],
   "source": [
    "n=int(input(\"enter the number: \"))\n",
    "\n",
    "for i in range(1,11):\n",
    "    x=n*i\n",
    "    print(x,end=\" \")"
   ]
  },
  {
   "cell_type": "markdown",
   "id": "fecf17d5",
   "metadata": {},
   "source": [
    "Exercise 50: Display numbers from a list using loop\n",
    "Write a program to display only those numbers from a list that satisfy the following conditions\n",
    "\n",
    "The number must be divisible by five\n",
    "\n",
    "If the number is greater than 150, then skip it and move to the next number\n",
    "\n",
    "If the number is greater than 500, then stop the loop"
   ]
  },
  {
   "cell_type": "code",
   "execution_count": 236,
   "id": "21a512a1",
   "metadata": {},
   "outputs": [
    {
     "name": "stdout",
     "output_type": "stream",
     "text": [
      "75\n",
      "150\n",
      "145\n"
     ]
    }
   ],
   "source": [
    "num=[12,75,150,180,145,525,50]\n",
    "\n",
    "for i in num:\n",
    "    if i>500:\n",
    "        break\n",
    "    elif i>150:\n",
    "        continue\n",
    "    else:\n",
    "        if i%5==0:\n",
    "            print(i)"
   ]
  },
  {
   "cell_type": "markdown",
   "id": "dec1685e",
   "metadata": {},
   "source": [
    "Exercise 51: Count the total number of digits in a number\n",
    "Write a program to count the total number of digits in a number using a while loop.\n",
    "\n",
    "For example, the number is 75869, so the output should be 5."
   ]
  },
  {
   "cell_type": "code",
   "execution_count": 246,
   "id": "4847d785",
   "metadata": {},
   "outputs": [
    {
     "name": "stdout",
     "output_type": "stream",
     "text": [
      "enter the number: 66464\n",
      "5\n"
     ]
    }
   ],
   "source": [
    "n=input(\"enter the number: \")\n",
    "\n",
    "x=list(n)\n",
    "\n",
    "count=0\n",
    "\n",
    "while count<len(x):\n",
    "    for i in x:\n",
    "        count+=1\n",
    "\n",
    "print(count)"
   ]
  },
  {
   "cell_type": "markdown",
   "id": "b0d24080",
   "metadata": {},
   "source": [
    "Exercise 52: Print the following pattern\n",
    "Write a program to use for loop to print the following reverse number pattern"
   ]
  },
  {
   "attachments": {
    "pattern3.jpg": {
     "image/jpeg": "[encoded data removed]"
    }
   },
   "cell_type": "markdown",
   "id": "1b56d686",
   "metadata": {},
   "source": [
    "![pattern3.jpg](attachment:pattern3.jpg)"
   ]
  },
  {
   "cell_type": "code",
   "execution_count": 263,
   "id": "656e7e05",
   "metadata": {},
   "outputs": [
    {
     "name": "stdout",
     "output_type": "stream",
     "text": [
      "enter the number: 5\n",
      "5 4 3 2 1 \n",
      "\n",
      "4 3 2 1 \n",
      "\n",
      "3 2 1 \n",
      "\n",
      "2 1 \n",
      "\n",
      "1 \n",
      "\n"
     ]
    }
   ],
   "source": [
    "n=int(input('enter the number: '))\n",
    "\n",
    "for i in range(n,0,-1):\n",
    "    for j in range(i,0,-1):\n",
    "        print(j,end=\" \")\n",
    "        \n",
    "    print(\"\\n\")"
   ]
  },
  {
   "cell_type": "markdown",
   "id": "aa9824a3",
   "metadata": {},
   "source": [
    "Exercise 53: Print list in reverse order using a loop"
   ]
  },
  {
   "cell_type": "code",
   "execution_count": 265,
   "id": "83c9ed9e",
   "metadata": {},
   "outputs": [
    {
     "name": "stdout",
     "output_type": "stream",
     "text": [
      "5 4 3 2 1 "
     ]
    }
   ],
   "source": [
    "l1=[1,2,3,4,5]\n",
    "\n",
    "for i in l1[::-1]:\n",
    "    print(i,end=\" \")"
   ]
  },
  {
   "cell_type": "markdown",
   "id": "a3a00412",
   "metadata": {},
   "source": [
    "Exercise 54: Display numbers from -10 to -1 using for loop"
   ]
  },
  {
   "cell_type": "code",
   "execution_count": 273,
   "id": "9fe8b234",
   "metadata": {},
   "outputs": [
    {
     "name": "stdout",
     "output_type": "stream",
     "text": [
      "-10 -9 -8 -7 -6 -5 -4 -3 -2 -1 "
     ]
    }
   ],
   "source": [
    "for i in range(-10,0):\n",
    "    print(i,end=\" \")"
   ]
  },
  {
   "cell_type": "markdown",
   "id": "5890311b",
   "metadata": {},
   "source": [
    "Exercise 55: Use else block to display a message “Done” after successful execution of for loop\n",
    "\n",
    "For example, the following loop will execute without any error."
   ]
  },
  {
   "cell_type": "code",
   "execution_count": 277,
   "id": "8fd93b96",
   "metadata": {},
   "outputs": [
    {
     "name": "stdout",
     "output_type": "stream",
     "text": [
      "0\n",
      "1\n",
      "2\n",
      "3\n",
      "4\n",
      "done !!\n"
     ]
    }
   ],
   "source": [
    "for i in range(0,5):\n",
    "    print(i)\n",
    "else:\n",
    "    print(\"done !!\")"
   ]
  },
  {
   "cell_type": "markdown",
   "id": "ce14d460",
   "metadata": {},
   "source": [
    "Exercise 56: Write a program to display all prime numbers within a range\n",
    "\n",
    "Note: A Prime Number is a number which only divisible by one and number itself.but 1 is not prime number"
   ]
  },
  {
   "cell_type": "code",
   "execution_count": 322,
   "id": "5cd8bf3a",
   "metadata": {},
   "outputs": [
    {
     "name": "stdout",
     "output_type": "stream",
     "text": [
      "enter the number : 25\n",
      "enter the number : 50\n",
      "29 31 37 41 43 47 "
     ]
    }
   ],
   "source": [
    "def prime(n):\n",
    "    \n",
    "    if n<=1:\n",
    "        return False\n",
    "    else:\n",
    "        l1=[]\n",
    "        \n",
    "        for i in range(1,n+1):\n",
    "            if n%i==0:\n",
    "                l1.append(i)\n",
    "                \n",
    "        #print(l1)\n",
    "\n",
    "        if len(l1)<=2:\n",
    "            return True\n",
    "        else:\n",
    "            return False\n",
    "        \n",
    "inp1=int(input(\"enter the number : \"))\n",
    "inp2=int(input(\"enter the number : \"))\n",
    "\n",
    "\n",
    "for i in range(inp1,inp2+1):\n",
    "    if prime(i)==True:\n",
    "        print(i,end=\" \")"
   ]
  },
  {
   "cell_type": "markdown",
   "id": "f70c5dbc",
   "metadata": {},
   "source": [
    "Exercise 57: Display Fibonacci series up to 10 terms\n",
    "The Fibonacci Sequence is a series of numbers. The next number is found by adding up the two numbers before it. The first two numbers are 0 and 1.\n",
    "\n",
    "For example, 0, 1, 1, 2, 3, 5, 8, 13, 21. The next number in this series above is 13+21 = 34."
   ]
  },
  {
   "cell_type": "code",
   "execution_count": 20,
   "id": "37185d2e",
   "metadata": {},
   "outputs": [
    {
     "name": "stdout",
     "output_type": "stream",
     "text": [
      "enter the number: 9\n",
      "0 1 1 2 3 5 8 13 21 34 55 "
     ]
    }
   ],
   "source": [
    "n=int(input(\"enter the number: \"))\n",
    "\n",
    "num1=0\n",
    "num2=1\n",
    "\n",
    "print(num1,end=\" \")\n",
    "print(num2,end=\" \")\n",
    "\n",
    "for i in range(0,n):\n",
    "    \n",
    "    num3=num1+num2\n",
    "    num1=num2\n",
    "    num2=num3\n",
    "    \n",
    "    \n",
    "    print(num3,end=\" \")"
   ]
  },
  {
   "cell_type": "markdown",
   "id": "c7be4499",
   "metadata": {},
   "source": [
    "Exercise 58: Find the factorial of a given number\n",
    "Write a program to use the loop to find the factorial of a given number.\n",
    "\n",
    "The factorial (symbol: !) means to multiply all whole numbers from the chosen number down to 1."
   ]
  },
  {
   "cell_type": "code",
   "execution_count": 28,
   "id": "f927f6f0",
   "metadata": {},
   "outputs": [
    {
     "name": "stdout",
     "output_type": "stream",
     "text": [
      "enter the number: 10\n",
      "3628800\n"
     ]
    }
   ],
   "source": [
    "n=int(input(\"enter the number: \"))\n",
    "\n",
    "fact=1\n",
    "\n",
    "for i in range(1,n+1):\n",
    "    fact=fact*i\n",
    "    \n",
    "print(fact)"
   ]
  },
  {
   "cell_type": "markdown",
   "id": "ec55c26c",
   "metadata": {},
   "source": [
    "Exercise 59: Reverse a given integer number\n",
    "Given:\n",
    "\n",
    "76542\n",
    "\n",
    "Expected output:\n",
    "\n",
    "24567"
   ]
  },
  {
   "cell_type": "code",
   "execution_count": 36,
   "id": "e2c06039",
   "metadata": {},
   "outputs": [
    {
     "name": "stdout",
     "output_type": "stream",
     "text": [
      "enter the number: 76542\n",
      "24567\n"
     ]
    }
   ],
   "source": [
    "n=int(input(\"enter the number: \"))\n",
    "\n",
    "x=str(n)\n",
    "\n",
    "x=list(x)[::-1]\n",
    "\n",
    "z=int(\"\".join(x))\n",
    "\n",
    "print(z)\n",
    "#print(type(z))"
   ]
  },
  {
   "cell_type": "markdown",
   "id": "3bd586f2",
   "metadata": {},
   "source": [
    "Exercise 60: Use a loop to display elements from a given list present at odd index positions\n",
    "\n",
    "my_list = [10, 20, 30, 40, 50, 60, 70, 80, 90, 100]"
   ]
  },
  {
   "cell_type": "code",
   "execution_count": 42,
   "id": "f4f63874",
   "metadata": {},
   "outputs": [
    {
     "data": {
      "text/plain": [
       "[20, 40, 60, 80, 100]"
      ]
     },
     "execution_count": 42,
     "metadata": {},
     "output_type": "execute_result"
    }
   ],
   "source": [
    "my_list = [10, 20, 30, 40, 50, 60, 70, 80, 90, 100]\n",
    "\n",
    "my_list[1::2]   #using list slicing"
   ]
  },
  {
   "cell_type": "markdown",
   "id": "d70b3c79",
   "metadata": {},
   "source": [
    "Exercise 61: Calculate the cube of all numbers from 1 to a given number\n",
    "Write a program to rint the cube of all numbers from 1 to a given number\n",
    "\n",
    "Given:\n",
    "\n",
    "input_number = 6"
   ]
  },
  {
   "cell_type": "code",
   "execution_count": 44,
   "id": "df5cbc3f",
   "metadata": {},
   "outputs": [
    {
     "name": "stdout",
     "output_type": "stream",
     "text": [
      "current number is 1 and the cube is 1\n",
      "current number is 2 and the cube is 8\n",
      "current number is 3 and the cube is 27\n",
      "current number is 4 and the cube is 64\n",
      "current number is 5 and the cube is 125\n",
      "current number is 6 and the cube is 216\n"
     ]
    }
   ],
   "source": [
    "n=6\n",
    "for i in range(1,7):\n",
    "    x=pow(i,3)\n",
    "    #print(x)\n",
    "    print(\"current number is {} and the cube is {}\".format(i,x))"
   ]
  },
  {
   "cell_type": "markdown",
   "id": "e292c17b",
   "metadata": {},
   "source": [
    "Exercise 62: Find the sum of the series upto n terms\n",
    "Write a program to calculate the sum of series up to n term. For example, if n =5 the series will become 2 + 22 + 222 + 2222 + 22222 = 24690"
   ]
  },
  {
   "cell_type": "code",
   "execution_count": 53,
   "id": "aa739ede",
   "metadata": {},
   "outputs": [
    {
     "name": "stdout",
     "output_type": "stream",
     "text": [
      "24690\n"
     ]
    }
   ],
   "source": [
    "n=5\n",
    "\n",
    "x=2\n",
    "result=0\n",
    "\n",
    "for i in range(1,6):\n",
    "    y=str(x)*i\n",
    "    z=int(\"\".join(y))\n",
    "    #print(z)\n",
    "    result=result+z\n",
    "    \n",
    "#type(z)\n",
    "print(result)"
   ]
  },
  {
   "cell_type": "markdown",
   "id": "639377ac",
   "metadata": {},
   "source": [
    "Exercise 63: Print downward Half-Pyramid Pattern with Star (asterisk)"
   ]
  },
  {
   "attachments": {
    "downword%20asterick%20pattern.jpg": {
     "image/jpeg": "[encoded data removed]"
    }
   },
   "cell_type": "markdown",
   "id": "f98ead65",
   "metadata": {},
   "source": [
    "![downword%20asterick%20pattern.jpg](attachment:downword%20asterick%20pattern.jpg)"
   ]
  },
  {
   "cell_type": "code",
   "execution_count": 119,
   "id": "db0baca8",
   "metadata": {},
   "outputs": [
    {
     "name": "stdout",
     "output_type": "stream",
     "text": [
      "enter the number : 5\n",
      "* * * * * \n",
      "\n",
      "* * * * \n",
      "\n",
      "* * * \n",
      "\n",
      "* * \n",
      "\n",
      "* \n",
      "\n"
     ]
    }
   ],
   "source": [
    "n=int(input(\"enter the number : \"))\n",
    "\n",
    "for i in range(n+1,1,-1):\n",
    "    for j in range(1,i):\n",
    "        print(\"*\",end=\" \")\n",
    "    print(\"\\n\")"
   ]
  },
  {
   "cell_type": "markdown",
   "id": "3814851b",
   "metadata": {},
   "source": [
    "exerciese 64: print right half side of the pyramid"
   ]
  },
  {
   "cell_type": "code",
   "execution_count": 25,
   "id": "320ff1aa",
   "metadata": {},
   "outputs": [
    {
     "name": "stdout",
     "output_type": "stream",
     "text": [
      "enter the number: 5\n",
      "* \n",
      "* * \n",
      "* * * \n",
      "* * * * \n",
      "* * * * * \n"
     ]
    }
   ],
   "source": [
    "n=int(input(\"enter the number: \"))\n",
    "\n",
    "for i in range(1,n+1):\n",
    "    for j in range(1,i+1):\n",
    "        print(\"*\",end=\" \")\n",
    "        \n",
    "    print(\"\\r\")"
   ]
  },
  {
   "cell_type": "markdown",
   "id": "449cff10",
   "metadata": {},
   "source": [
    "Excercise 65"
   ]
  },
  {
   "cell_type": "code",
   "execution_count": 26,
   "id": "36e68bee",
   "metadata": {},
   "outputs": [
    {
     "name": "stdout",
     "output_type": "stream",
     "text": [
      "     * \n",
      "    * * \n",
      "   * * * \n",
      "  * * * * \n",
      " * * * * * \n"
     ]
    }
   ],
   "source": [
    "#n=int(input(\"enter the number: \"))\n",
    "n=5\n",
    "\n",
    "for i in range(0,n):\n",
    "    \n",
    "    for j in range(0,n-i):\n",
    "        print(end=\" \")\n",
    "    \n",
    "    for k in range(0,i+1):\n",
    "        print(\"*\",end=\" \")\n",
    "        \n",
    "    print()"
   ]
  },
  {
   "cell_type": "markdown",
   "id": "cc4b2b93",
   "metadata": {},
   "source": [
    "Exercise 66: Print the following pattern\n",
    "Write a program to print the following start pattern using the for loop"
   ]
  },
  {
   "attachments": {
    "pattern4.jpg": {
     "image/jpeg": "[encoded data removed]"
    }
   },
   "cell_type": "markdown",
   "id": "ab876a2e",
   "metadata": {},
   "source": [
    "![pattern4.jpg](attachment:pattern4.jpg)"
   ]
  },
  {
   "cell_type": "code",
   "execution_count": 71,
   "id": "116b0609",
   "metadata": {},
   "outputs": [
    {
     "name": "stdout",
     "output_type": "stream",
     "text": [
      "enter the number: 5\n",
      "* \n",
      "\n",
      "* * \n",
      "\n",
      "* * * \n",
      "\n",
      "* * * * \n",
      "\n",
      "* * * * * \n",
      "\n",
      "* * * * \n",
      "\n",
      "* * * \n",
      "\n",
      "* * \n",
      "\n",
      "* \n",
      "\n"
     ]
    }
   ],
   "source": [
    "n=int(input(\"enter the number: \"))\n",
    "\n",
    "for i in range(1,n+1):\n",
    "    for j in range(1,i+1):\n",
    "        print(\"*\",end=\" \")\n",
    "    print(\"\\n\")\n",
    "    \n",
    "for i in range(n-1,0,-1):\n",
    "    for j in range(0,i):\n",
    "        print(\"*\",end=\" \")\n",
    "    print(\"\\n\")"
   ]
  },
  {
   "cell_type": "markdown",
   "id": "3163a7ca",
   "metadata": {},
   "source": [
    "Excercise 67: Write a program that keeps on accepting a number from the user until the user enters Zero. Display the sum and average of all the numbers."
   ]
  },
  {
   "cell_type": "code",
   "execution_count": 29,
   "id": "eea96b51",
   "metadata": {},
   "outputs": [
    {
     "name": "stdout",
     "output_type": "stream",
     "text": [
      "enter the number: 56\n",
      "print another number: 0\n",
      "Thank you\n",
      "your sum is: 56\n",
      "your avg is: 56.0\n"
     ]
    }
   ],
   "source": [
    "n=int(input(\"enter the number: \"))\n",
    "\n",
    "total=0\n",
    "avg=0\n",
    "count=0\n",
    "\n",
    "while True:\n",
    "    if n != 0:\n",
    "        total=total+n\n",
    "        count +=1\n",
    "        avg=total/count\n",
    "        n=int(input(\"print another number: \"))\n",
    "        \n",
    "    else:\n",
    "        print(\"Thank you\")\n",
    "        break\n",
    "        \n",
    "print(\"your sum is:\",total)\n",
    "print(\"your avg is:\",round(avg,2))"
   ]
  },
  {
   "cell_type": "markdown",
   "id": "bd6ed1b2",
   "metadata": {},
   "source": [
    "excercise 68: Write a program to print the first 25 odd numbers"
   ]
  },
  {
   "cell_type": "code",
   "execution_count": 66,
   "id": "fd83d17d",
   "metadata": {},
   "outputs": [
    {
     "name": "stdout",
     "output_type": "stream",
     "text": [
      "[1, 3, 5, 7, 9, 11, 13, 15, 17, 19, 21, 23, 25, 27, 29, 31, 33, 35, 37, 39, 41, 43, 45, 47, 49]\n"
     ]
    }
   ],
   "source": [
    "# get me first 25 odd number\n",
    "\n",
    "# i dont know how many time loop will run--> while loop\n",
    "flag=0\n",
    "i=1\n",
    "\n",
    "odd_list=[]\n",
    "\n",
    "while True:\n",
    "    if i%2 != 0:\n",
    "        odd_list.append(i)\n",
    "        flag=flag+1\n",
    "    if flag==25:\n",
    "        break\n",
    "    i=i+1\n",
    "\n",
    "print(odd_list)"
   ]
  },
  {
   "cell_type": "markdown",
   "id": "cf94cceb",
   "metadata": {},
   "source": [
    "# 4. Python Functions Exercise"
   ]
  },
  {
   "cell_type": "markdown",
   "id": "7e2e207d",
   "metadata": {},
   "source": [
    "Exercise 69: Write a function called exponent(base, exp) that returns an int value of base raises to the power of exp.\n",
    "Note here exp is a non-negative integer, and the base is an integer."
   ]
  },
  {
   "cell_type": "code",
   "execution_count": 102,
   "id": "70c22358",
   "metadata": {},
   "outputs": [
    {
     "name": "stdout",
     "output_type": "stream",
     "text": [
      "100\n"
     ]
    }
   ],
   "source": [
    "def exponent(base,exp):\n",
    "    result=pow(base,exp)\n",
    "    print(result)\n",
    "    \n",
    "exponent(10,2)"
   ]
  },
  {
   "cell_type": "markdown",
   "id": "745fc2ba",
   "metadata": {},
   "source": [
    "Exercise 70: Create a function in Python\n",
    "Write a program to create a function that takes two arguments, name and age, and print their value."
   ]
  },
  {
   "cell_type": "code",
   "execution_count": 98,
   "id": "d8f42065",
   "metadata": {},
   "outputs": [
    {
     "name": "stdout",
     "output_type": "stream",
     "text": [
      "Name of the person is Milind and age is 26\n"
     ]
    }
   ],
   "source": [
    "def biodata(name,age):\n",
    "    print(\"Name of the person is {} and age is {}\".format(name,age))\n",
    "    \n",
    "biodata(\"Milind\",26)"
   ]
  },
  {
   "cell_type": "markdown",
   "id": "00d455fc",
   "metadata": {},
   "source": [
    "Exercise 71: Check if the first and last number of a list is the same\n",
    "Write a function to return True if the first and last number of a given list is same. If numbers are different then return False."
   ]
  },
  {
   "cell_type": "code",
   "execution_count": 97,
   "id": "23e7dc5e",
   "metadata": {},
   "outputs": [
    {
     "data": {
      "text/plain": [
       "True"
      ]
     },
     "execution_count": 97,
     "metadata": {},
     "output_type": "execute_result"
    }
   ],
   "source": [
    "l1=[1,2,3,4,5,1]\n",
    "\n",
    "num1=l1[0]\n",
    "num2=l1[-1]\n",
    "\n",
    "def xyz(list):\n",
    "    if num1==num2:\n",
    "        return True\n",
    "    else:\n",
    "        return False\n",
    "    \n",
    "xyz(l1)"
   ]
  },
  {
   "cell_type": "markdown",
   "id": "f1d312ce",
   "metadata": {},
   "source": [
    "Exercise 72: Calculate the multiplication and sum of two numbers\n",
    "\n",
    "Given two integer numbers return their product only if the product is equal to or lower than 1000, else return their sum."
   ]
  },
  {
   "cell_type": "code",
   "execution_count": 14,
   "id": "d921619d",
   "metadata": {},
   "outputs": [
    {
     "name": "stdout",
     "output_type": "stream",
     "text": [
      "enter the number: 34\n",
      "enter the number: 34\n",
      "68\n"
     ]
    }
   ],
   "source": [
    "num1=int(input(\"enter the number: \" ))\n",
    "num2=int(input(\"enter the number: \" ))\n",
    "\n",
    "\n",
    "def mul_sum_int(num1,num2):\n",
    "    #calculate product of two number\n",
    "    mul=num1*num2\n",
    "    total=num1+num2\n",
    "    #checking if product is less than 1000\n",
    "    if mul<=1000:\n",
    "        return mul\n",
    "    else:\n",
    "        return total\n",
    "    \n",
    "print(mul_sum_int(num1,num2))"
   ]
  },
  {
   "cell_type": "markdown",
   "id": "f52d1798",
   "metadata": {},
   "source": [
    "Exercise 73: Create a function with variable length of arguments\n",
    "\n",
    "Write a program to create function func1() to accept a variable length of arguments and print their value.\n",
    "\n",
    "Note: Create a function in such a way that we can pass any number of arguments to this function, and the function should process them and display each argument’s value."
   ]
  },
  {
   "cell_type": "code",
   "execution_count": 81,
   "id": "8e3ba062",
   "metadata": {},
   "outputs": [],
   "source": [
    "def inputs(*num):\n",
    "    return num"
   ]
  },
  {
   "cell_type": "code",
   "execution_count": 82,
   "id": "740002c0",
   "metadata": {},
   "outputs": [
    {
     "data": {
      "text/plain": [
       "(45, 67, 78)"
      ]
     },
     "execution_count": 82,
     "metadata": {},
     "output_type": "execute_result"
    }
   ],
   "source": [
    "inputs(45,67,78)"
   ]
  },
  {
   "cell_type": "code",
   "execution_count": 76,
   "id": "7825effa",
   "metadata": {},
   "outputs": [
    {
     "name": "stdout",
     "output_type": "stream",
     "text": [
      "(34, 56)\n"
     ]
    }
   ],
   "source": [
    "inputs(34,56)"
   ]
  },
  {
   "cell_type": "markdown",
   "id": "dcf55a84",
   "metadata": {},
   "source": [
    "Exercise 74: Return multiple values from a function\n",
    "\n",
    "Write a program to create function calculation() such that it can accept two variables and calculate addition and subtraction. Also, it must return both addition and subtraction in a single return call."
   ]
  },
  {
   "cell_type": "code",
   "execution_count": 79,
   "id": "a56c1f90",
   "metadata": {},
   "outputs": [],
   "source": [
    "def add_sub(n1,n2):\n",
    "    x1=n1+n2\n",
    "    x2=n1-n2\n",
    "    \n",
    "    return x1,x2"
   ]
  },
  {
   "cell_type": "code",
   "execution_count": 80,
   "id": "a49578f1",
   "metadata": {},
   "outputs": [
    {
     "data": {
      "text/plain": [
       "(50, 30)"
      ]
     },
     "execution_count": 80,
     "metadata": {},
     "output_type": "execute_result"
    }
   ],
   "source": [
    "add_sub(40,10)"
   ]
  },
  {
   "cell_type": "markdown",
   "id": "c2be0c37",
   "metadata": {},
   "source": [
    "Exercise 75: Create a function with a default argument\n",
    "Write a program to create a function show_employee() using the following conditions.\n",
    "\n",
    "It should accept the employee’s name and salary and display both.\n",
    "If the salary is missing in the function call then assign default value 9000 to salary"
   ]
  },
  {
   "cell_type": "code",
   "execution_count": 83,
   "id": "c22b9301",
   "metadata": {},
   "outputs": [],
   "source": [
    "def show_employee(name,salary=\"9000\"):\n",
    "    print(\"name of employee is {} and his\\her salary is {}\".format(name,salary))"
   ]
  },
  {
   "cell_type": "code",
   "execution_count": 85,
   "id": "98fa553a",
   "metadata": {},
   "outputs": [
    {
     "name": "stdout",
     "output_type": "stream",
     "text": [
      "name of employee is milind and his\\her salary is 78686\n"
     ]
    }
   ],
   "source": [
    "show_employee(\"milind\",78686)"
   ]
  },
  {
   "cell_type": "code",
   "execution_count": 86,
   "id": "a22edc8a",
   "metadata": {},
   "outputs": [
    {
     "name": "stdout",
     "output_type": "stream",
     "text": [
      "name of employee is Vishal and his\\her salary is 9000\n"
     ]
    }
   ],
   "source": [
    "show_employee(\"Vishal\")"
   ]
  },
  {
   "cell_type": "code",
   "execution_count": null,
   "id": "e1746b14",
   "metadata": {},
   "outputs": [],
   "source": []
  },
  {
   "cell_type": "markdown",
   "id": "fb7ec00f",
   "metadata": {},
   "source": [
    "Exercise 76: Create an inner function to calculate the addition in the following way\n",
    "    \n",
    "Create an outer function that will accept two parameters, a and b\n",
    "\n",
    "Create an inner function inside an outer function that will calculate the addition of a and b\n",
    "\n",
    "At last, an outer function will add 5 into addition and return it"
   ]
  },
  {
   "cell_type": "code",
   "execution_count": 107,
   "id": "d99a5208",
   "metadata": {},
   "outputs": [],
   "source": [
    "def outerfunc(n1,n2):\n",
    "    \n",
    "    def innerfunc(n1,n2):\n",
    "        return n1+n2\n",
    "    \n",
    "    add=innerfunc(n1,n2)\n",
    "    \n",
    "    return add+5"
   ]
  },
  {
   "cell_type": "code",
   "execution_count": 108,
   "id": "a14236b7",
   "metadata": {},
   "outputs": [
    {
     "data": {
      "text/plain": [
       "20"
      ]
     },
     "execution_count": 108,
     "metadata": {},
     "output_type": "execute_result"
    }
   ],
   "source": [
    "outerfunc(5,10)"
   ]
  },
  {
   "cell_type": "code",
   "execution_count": null,
   "id": "f9ff2bee",
   "metadata": {},
   "outputs": [],
   "source": []
  },
  {
   "cell_type": "markdown",
   "id": "457c572c",
   "metadata": {},
   "source": [
    "Exercise 77: Create a recursive function\n",
    "    \n",
    "A] Write a program to create a recursive function to calculate the sum of numbers from 0 to 10.\n",
    "\n",
    "A recursive function is a function that calls itself again and again.\n",
    "\n",
    "Expected Output:\n",
    "\n",
    "55"
   ]
  },
  {
   "cell_type": "code",
   "execution_count": 134,
   "id": "20987e14",
   "metadata": {},
   "outputs": [],
   "source": [
    "def addition(num):\n",
    "    if num==0:\n",
    "        return 0\n",
    "    else:\n",
    "        return num+addition(num-1)"
   ]
  },
  {
   "cell_type": "code",
   "execution_count": 135,
   "id": "dfe944f3",
   "metadata": {},
   "outputs": [
    {
     "data": {
      "text/plain": [
       "55"
      ]
     },
     "execution_count": 135,
     "metadata": {},
     "output_type": "execute_result"
    }
   ],
   "source": [
    "addition(10)"
   ]
  },
  {
   "cell_type": "markdown",
   "id": "8a9ba667",
   "metadata": {},
   "source": [
    "B] Write a program to create a recursive function to calculate the factorial of numbers from 0 to 10.\n",
    "\n",
    "A recursive function is a function that calls itself again and again.\n",
    "\n",
    "Expected Output:\n",
    "\n",
    "120"
   ]
  },
  {
   "cell_type": "code",
   "execution_count": 132,
   "id": "74c98caa",
   "metadata": {},
   "outputs": [],
   "source": [
    "def factorial(num):\n",
    "    if (num==1):\n",
    "        return 1\n",
    "    else:\n",
    "        return num*factorial(num-1)"
   ]
  },
  {
   "cell_type": "code",
   "execution_count": 133,
   "id": "c1f85a09",
   "metadata": {},
   "outputs": [
    {
     "data": {
      "text/plain": [
       "120"
      ]
     },
     "execution_count": 133,
     "metadata": {},
     "output_type": "execute_result"
    }
   ],
   "source": [
    "factorial(5)"
   ]
  },
  {
   "cell_type": "markdown",
   "id": "77159e8d",
   "metadata": {},
   "source": [
    "Exercise 78: Assign a different name to function and call it through the new name\n",
    "\n",
    "Below is the function display_student(name, age). Assign a new name show_student(name, age) to it and call it using the new name."
   ]
  },
  {
   "cell_type": "code",
   "execution_count": 141,
   "id": "f2d5ad3d",
   "metadata": {},
   "outputs": [],
   "source": [
    "def display_student(name,age):\n",
    "    print(\"name of student {} and his age is {}\".format(name,age))\n",
    "    \n",
    "show_student=display_student"
   ]
  },
  {
   "cell_type": "code",
   "execution_count": 143,
   "id": "89e446dc",
   "metadata": {},
   "outputs": [
    {
     "name": "stdout",
     "output_type": "stream",
     "text": [
      "name of student Mihir and his age is 29\n"
     ]
    }
   ],
   "source": [
    "show_student(\"Mihir\",29)"
   ]
  },
  {
   "cell_type": "markdown",
   "id": "86e63fa5",
   "metadata": {},
   "source": [
    "Exercise 79: Generate a Python list of all the even numbers between 4 to 30"
   ]
  },
  {
   "cell_type": "code",
   "execution_count": 145,
   "id": "66e54278",
   "metadata": {},
   "outputs": [
    {
     "name": "stdout",
     "output_type": "stream",
     "text": [
      "4 6 8 10 12 14 16 18 20 22 24 26 28 30 "
     ]
    }
   ],
   "source": [
    "for i in range(4,31):\n",
    "    if i%2==0:\n",
    "        print(i,end=\" \")"
   ]
  },
  {
   "cell_type": "code",
   "execution_count": 146,
   "id": "802f4022",
   "metadata": {},
   "outputs": [
    {
     "data": {
      "text/plain": [
       "[4, 6, 8, 10, 12, 14, 16, 18, 20, 22, 24, 26, 28, 30]"
      ]
     },
     "execution_count": 146,
     "metadata": {},
     "output_type": "execute_result"
    }
   ],
   "source": [
    "# another way\n",
    "list(range(4,31,2))"
   ]
  },
  {
   "cell_type": "markdown",
   "id": "3333f767",
   "metadata": {},
   "source": [
    "Exercise 80: Find the largest item from a given list"
   ]
  },
  {
   "cell_type": "code",
   "execution_count": 157,
   "id": "0e39ddb3",
   "metadata": {},
   "outputs": [
    {
     "name": "stdout",
     "output_type": "stream",
     "text": [
      "65\n"
     ]
    }
   ],
   "source": [
    "x = [4, 6, 8, 24, 12, 2,65]\n",
    "\n",
    "y=0\n",
    "\n",
    "for i in x:\n",
    "    if i > y:\n",
    "        y=i\n",
    "    \n",
    "print(y)"
   ]
  },
  {
   "cell_type": "markdown",
   "id": "f50d5da6",
   "metadata": {},
   "source": [
    "excercise 81: first 25 prime number"
   ]
  },
  {
   "cell_type": "code",
   "execution_count": 77,
   "id": "13dc07fc",
   "metadata": {},
   "outputs": [
    {
     "name": "stdout",
     "output_type": "stream",
     "text": [
      "it's prime number\n"
     ]
    }
   ],
   "source": [
    "# first we will write code for getting prime number\n",
    "\n",
    "a=23\n",
    "\n",
    "new=[]\n",
    "\n",
    "for i in range(1,a+1):\n",
    "    if a%i==0:\n",
    "        new.append(i)\n",
    "        \n",
    "if len(new)>2:\n",
    "    print(\"it's not a prime number\")\n",
    "else:\n",
    "    print(\"it's prime number\")"
   ]
  },
  {
   "cell_type": "code",
   "execution_count": 78,
   "id": "b673f1de",
   "metadata": {},
   "outputs": [
    {
     "name": "stdout",
     "output_type": "stream",
     "text": [
      "2 3 5 7 11 13 17 19 23 29 31 37 41 43 47 53 59 61 67 71 73 79 83 89 97 "
     ]
    }
   ],
   "source": [
    "# to get first 25 numbers\n",
    "\n",
    "def is_prime(x):\n",
    "    new=[]\n",
    "    if x<=1:\n",
    "        return false\n",
    "    else:\n",
    "        for i in range(1,x+1):\n",
    "            if x%i==0:\n",
    "                new.append(i)\n",
    "    #print(new)            \n",
    "    if len(new)<=2:\n",
    "        return True\n",
    "    else:\n",
    "        return False\n",
    "    \n",
    "#now will write the main code\n",
    "count=0\n",
    "num=2\n",
    "\n",
    "while count<25:\n",
    "    if is_prime(num)==True:\n",
    "        print(num,end=\" \")\n",
    "        count+=1\n",
    "        \n",
    "    num+=1"
   ]
  },
  {
   "cell_type": "markdown",
   "id": "5c50d373",
   "metadata": {},
   "source": [
    "Excercise 82: Print the first 20 numbers of a Fibonacci series"
   ]
  },
  {
   "cell_type": "code",
   "execution_count": 79,
   "id": "9a75fabc",
   "metadata": {},
   "outputs": [
    {
     "name": "stdout",
     "output_type": "stream",
     "text": [
      "enter the number: 12\n",
      "0 1 1 2 3 5 8 13 21 34 55 89 "
     ]
    }
   ],
   "source": [
    "n=int(input(\"enter the number: \"))\n",
    "\n",
    "\n",
    "def fibonacci(n):\n",
    "    \n",
    "    a=0\n",
    "    b=1\n",
    "    count=0\n",
    "    \n",
    "    if n<=0:\n",
    "        print(\"You can enter only Positive integer values\")\n",
    "    elif n==1:\n",
    "        print(a)\n",
    "    else:\n",
    "        while count<n:\n",
    "            print(a,end=' ')\n",
    "            c=a+b\n",
    "            a=b\n",
    "            b=c\n",
    "            \n",
    "            count+=1\n",
    "            \n",
    "fibonacci(n)"
   ]
  },
  {
   "cell_type": "markdown",
   "id": "e3f4b923",
   "metadata": {},
   "source": [
    "# 5. python string Excercise with solutions"
   ]
  },
  {
   "cell_type": "markdown",
   "id": "42a33687",
   "metadata": {},
   "source": [
    "Exercise 83: Return the count of a given substring from a string\n",
    "Write a program to find how many times substring “radha” appears in the given string\n",
    "\n",
    "\"radha is most beutiful,radha is queen of vraj\""
   ]
  },
  {
   "cell_type": "code",
   "execution_count": 95,
   "id": "482c224d",
   "metadata": {},
   "outputs": [
    {
     "name": "stdout",
     "output_type": "stream",
     "text": [
      "3\n"
     ]
    }
   ],
   "source": [
    "sentence=\"radha is most beutiful,radha is queen of vraj,radha is most beloved to govind\"\n",
    "\n",
    "x=sentence.count(\"radha\")\n",
    "\n",
    "print(x)"
   ]
  },
  {
   "cell_type": "markdown",
   "id": "37ee3591",
   "metadata": {},
   "source": [
    "Exercise 84: Print characters from a string that are present at an even index number\n",
    "Write a program to accept a string from the user and display characters that are present at an even index number.\n",
    "\n",
    "For example, str = \"pynative\" so you should display ‘p’, ‘n’, ‘t’, ‘v’."
   ]
  },
  {
   "cell_type": "code",
   "execution_count": 93,
   "id": "a672af06",
   "metadata": {},
   "outputs": [
    {
     "name": "stdout",
     "output_type": "stream",
     "text": [
      "enter the text: milind\n",
      "milind\n",
      "m l n "
     ]
    }
   ],
   "source": [
    "\n",
    "string=input(\"enter the text: \")\n",
    "\n",
    "x=list(string)\n",
    "\n",
    "print(string)\n",
    "\n",
    "for i in x[0::2]:\n",
    "    print(i,end=\" \")"
   ]
  },
  {
   "cell_type": "markdown",
   "id": "c1bee7b9",
   "metadata": {},
   "source": [
    "Exercise 85: Remove first n characters from a string\n",
    "Write a program to remove characters from a string starting from zero up to n and return a new string.\n",
    "\n",
    "For example:\n",
    "\n",
    "remove_chars(\"pynative\", 4) so output must be tive. Here we need to remove first four characters from a string.\n",
    "remove_chars(\"pynative\", 2) so output must be native. Here we need to remove first two characters from a string.\n",
    "Note: n must be less than the length of the string."
   ]
  },
  {
   "cell_type": "code",
   "execution_count": 94,
   "id": "31e0f9b0",
   "metadata": {},
   "outputs": [
    {
     "name": "stdout",
     "output_type": "stream",
     "text": [
      "native\n"
     ]
    }
   ],
   "source": [
    "def remove (word,n):\n",
    "    \n",
    "    x=len(word)\n",
    "    p=list(word)\n",
    "\n",
    "    for i in p:\n",
    "        if n<=x:\n",
    "            z=word[n:]\n",
    "    print(z)\n",
    "    \n",
    "    \n",
    "remove(\"pynative\",2)"
   ]
  },
  {
   "cell_type": "markdown",
   "id": "ebc51af4",
   "metadata": {},
   "source": [
    "Exercise 86 1A: Create a string made of the first, middle and last character\n",
    "    \n",
    "Write a program to create a new string made of an input string’s first, middle, and last character."
   ]
  },
  {
   "cell_type": "code",
   "execution_count": 186,
   "id": "19fca1df",
   "metadata": {},
   "outputs": [
    {
     "name": "stdout",
     "output_type": "stream",
     "text": [
      "j\n",
      "s\n",
      "m\n"
     ]
    },
    {
     "data": {
      "text/plain": [
       "'jms'"
      ]
     },
     "execution_count": 186,
     "metadata": {},
     "output_type": "execute_result"
    }
   ],
   "source": [
    "name=\"james\"\n",
    "\n",
    "a=name[0]\n",
    "print(a)\n",
    "\n",
    "c=name[-1]\n",
    "print(c)\n",
    "\n",
    "l=len(name)\n",
    "x=int(l//2)\n",
    "\n",
    "b=name[x]\n",
    "print(b)\n",
    "\n",
    "\"\".join([a,b,c])"
   ]
  },
  {
   "cell_type": "markdown",
   "id": "c44800b2",
   "metadata": {},
   "source": [
    "Exercise 1B: Create a string made of the middle three characters\n",
    "    \n",
    "Write a program to create a new string made of the middle three characters of an input string.\n",
    "\n",
    "ex.JaSonAy-->Son   \n",
    "\n",
    "JhonDipPeta -->Dip"
   ]
  },
  {
   "cell_type": "code",
   "execution_count": 193,
   "id": "a0ed2f10",
   "metadata": {},
   "outputs": [
    {
     "name": "stdout",
     "output_type": "stream",
     "text": [
      "Son\n"
     ]
    }
   ],
   "source": [
    "name=\"JaSonAy\"\n",
    "\n",
    "l=len(name)\n",
    "\n",
    "if l%2==0:\n",
    "    print(\"not possible\")\n",
    "else:\n",
    "    c=l//2\n",
    "    x=name[c-1]\n",
    "    y=name[c]\n",
    "    z=name[c+1]\n",
    "    \n",
    "    result=\"\".join([x,y,z])\n",
    "    \n",
    "    print(result)"
   ]
  },
  {
   "cell_type": "markdown",
   "id": "332ae405",
   "metadata": {},
   "source": [
    "Excercise 87 :Count the frequency of a particular character in a provided string. Eg 'hello how are you' is the string, the frequency of h in this string is 2."
   ]
  },
  {
   "cell_type": "code",
   "execution_count": 83,
   "id": "c6447dab",
   "metadata": {},
   "outputs": [
    {
     "name": "stdout",
     "output_type": "stream",
     "text": [
      "enter the text: milind mali\n",
      "enter the character: i\n",
      "frequency of searched character is  3 times\n"
     ]
    }
   ],
   "source": [
    "a=input(\"enter the text: \")\n",
    "b=input(\"enter the character: \")\n",
    "\n",
    "count=0\n",
    "\n",
    "for i in a:\n",
    "    if i in b:\n",
    "        count=count+1\n",
    "        \n",
    "print(\"frequency of searched character is \",count,\"times\")"
   ]
  },
  {
   "cell_type": "markdown",
   "id": "ec170609",
   "metadata": {},
   "source": [
    "Excercise 88:Find the index position of a particular character in another string."
   ]
  },
  {
   "cell_type": "code",
   "execution_count": 84,
   "id": "48491c2b",
   "metadata": {},
   "outputs": [
    {
     "name": "stdout",
     "output_type": "stream",
     "text": [
      "enter the text: milind mali\n",
      "enter the character: d\n",
      "5\n"
     ]
    }
   ],
   "source": [
    "a=input(\"enter the text: \")\n",
    "b=input(\"enter the character: \")\n",
    "\n",
    "print(a.index(b))"
   ]
  },
  {
   "cell_type": "markdown",
   "id": "3dbe3826",
   "metadata": {},
   "source": [
    "Excercise 89 Write a program which can remove a particular character from a string."
   ]
  },
  {
   "cell_type": "code",
   "execution_count": 85,
   "id": "2c6cb70e",
   "metadata": {},
   "outputs": [
    {
     "name": "stdout",
     "output_type": "stream",
     "text": [
      "enter the string: milind\n",
      "enter the character you  want to remove: i\n",
      "mlnd\n"
     ]
    }
   ],
   "source": [
    "a=input(\"enter the string: \")\n",
    "b=input('enter the character you  want to remove: ')\n",
    "\n",
    "a=a.replace(b,\"\")\n",
    "\n",
    "print(a)"
   ]
  },
  {
   "cell_type": "markdown",
   "id": "9a82b336",
   "metadata": {},
   "source": [
    "Exercise 90: Append new string in the middle of a given string\n",
    "\n",
    "Given two strings, s1 and s2. Write a program to create a new string s3 by appending s2 in the middle of s1.\n",
    "\n",
    "s1 = \"Ault\"\n",
    "\n",
    "s2 = \"Kelly\"\n",
    "\n",
    "expected-->AuKellylt"
   ]
  },
  {
   "cell_type": "code",
   "execution_count": 206,
   "id": "5974c94b",
   "metadata": {},
   "outputs": [
    {
     "name": "stdout",
     "output_type": "stream",
     "text": [
      "AuKellylt\n"
     ]
    }
   ],
   "source": [
    "s1=\"Ault\"\n",
    "\n",
    "s2=\"Kelly\"\n",
    "\n",
    "l=len(s1)\n",
    "mid=l//2\n",
    "\n",
    "f=s1[:mid]\n",
    "s=s1[mid:]\n",
    "\n",
    "s3=f+s2+s\n",
    "\n",
    "print(s3)"
   ]
  },
  {
   "cell_type": "markdown",
   "id": "1ea9e289",
   "metadata": {},
   "source": [
    "Exercise 91: Create a new string made of the first, middle, and last characters of each input string\n",
    "    \n",
    "Given two strings, s1 and s2, write a program to return a new string made of s1 and s2’s first, middle, and last characters.\n",
    "\n",
    "s1 = \"America\"\n",
    "\n",
    "s2 = \"Japan\"\n",
    "\n",
    "Expected output-->AJrpan"
   ]
  },
  {
   "cell_type": "code",
   "execution_count": 212,
   "id": "3691f2a6",
   "metadata": {},
   "outputs": [],
   "source": [
    "def unite(s1,s2):\n",
    "    l1=len(s1)//2\n",
    "    a=s1[0]\n",
    "    b=s1[l1]\n",
    "    c=s1[-1]\n",
    "    \n",
    "    l2=len(s2)//2\n",
    "    x=s2[0]\n",
    "    y=s2[l2]\n",
    "    z=s2[-1]\n",
    "    \n",
    "    result=\"\".join([a,x,b,y,c,z])\n",
    "\n",
    "    return result"
   ]
  },
  {
   "cell_type": "code",
   "execution_count": 213,
   "id": "f5959a72",
   "metadata": {},
   "outputs": [
    {
     "data": {
      "text/plain": [
       "'ajrpan'"
      ]
     },
     "execution_count": 213,
     "metadata": {},
     "output_type": "execute_result"
    }
   ],
   "source": [
    "unite(\"america\",\"japan\")"
   ]
  },
  {
   "cell_type": "markdown",
   "id": "1e457b7c",
   "metadata": {},
   "source": [
    "Exercise 92: Arrange string characters such that lowercase letters should come first\n",
    "    \n",
    "Given string contains a combination of the lower and upper case letters. Write a program to arrange the characters of a string so that all lowercase letters should come first.\n",
    "\n",
    "given-->PyNaTive\n",
    "\n",
    "expected-->yaivePNT"
   ]
  },
  {
   "cell_type": "code",
   "execution_count": 223,
   "id": "042b31cf",
   "metadata": {},
   "outputs": [
    {
     "name": "stdout",
     "output_type": "stream",
     "text": [
      "yaivePNT\n"
     ]
    }
   ],
   "source": [
    "string=\"PyNaTive\"\n",
    "\n",
    "cap=list(string.upper())\n",
    "sma=list(string.lower())\n",
    "\n",
    "new=[]\n",
    "\n",
    "l1=list(string)\n",
    "\n",
    "for i in l1:\n",
    "    if i in sma:\n",
    "        new.append(i)\n",
    "        \n",
    "for i in l1:\n",
    "    if i in cap:\n",
    "        new.append(i)\n",
    "        \n",
    "result=\"\".join(new)\n",
    "        \n",
    "print(result)"
   ]
  },
  {
   "cell_type": "markdown",
   "id": "c3c16b0c",
   "metadata": {},
   "source": [
    "Exercise 93: Count all letters, digits, and special symbols from a given string\n",
    "\n",
    "given-->str1 = \"P@#yn26at^&i5ve\"\n",
    "\n",
    "expected-->Total counts of chars, digits, and symbols \n",
    "\n",
    "Chars = 8 \n",
    "Digits = 3 \n",
    "Symbol = 4"
   ]
  },
  {
   "cell_type": "code",
   "execution_count": 231,
   "id": "0d6a036b",
   "metadata": {},
   "outputs": [
    {
     "name": "stdout",
     "output_type": "stream",
     "text": [
      "char 8\n",
      "digit 3\n",
      "special_char 4\n"
     ]
    }
   ],
   "source": [
    "str1 = \"P@#yn26at^&i5ve\"\n",
    "\n",
    "l1=list(str1)\n",
    "\n",
    "char=0\n",
    "digit=0\n",
    "special_char=0\n",
    "\n",
    "for i in l1:\n",
    "    if i.isalpha()==True:\n",
    "        char+=1\n",
    "    elif i.isdigit()==True:\n",
    "        digit+=1\n",
    "    else:\n",
    "        special_char+=1\n",
    "\n",
    "print(\"char\",char)\n",
    "print(\"digit\",digit)\n",
    "print(\"special_char\",special_char)"
   ]
  },
  {
   "cell_type": "markdown",
   "id": "469ed37e",
   "metadata": {},
   "source": [
    "Exercise 94: Create a mixed String using the following rules\n",
    "    \n",
    "Given two strings, s1 and s2. Write a program to create a new string s3 made of the first char of s1, then the last char of s2, Next, the second char of s1 and second last char of s2, and so on. Any leftover chars go at the end of the result."
   ]
  },
  {
   "cell_type": "code",
   "execution_count": 235,
   "id": "f9239197",
   "metadata": {},
   "outputs": [
    {
     "name": "stdout",
     "output_type": "stream",
     "text": [
      "AzByCx\n"
     ]
    }
   ],
   "source": [
    "s1=\"ABC\"\n",
    "s2=\"xyz\"\n",
    "\n",
    "a=s1[0]\n",
    "b=s1[len(s1)//2]\n",
    "c=s1[-1]\n",
    "\n",
    "x=s2[0]\n",
    "y=s2[len(s2)//2]\n",
    "z=s2[-1]\n",
    "\n",
    "result=\"\".join([a,z,b,y,c,x])\n",
    "print(result)"
   ]
  },
  {
   "cell_type": "markdown",
   "id": "25587d50",
   "metadata": {},
   "source": [
    "Exercise 95: String characters balance Test\n",
    "    \n",
    "Write a program to check if two strings are balanced. For example, strings s1 and s2 are balanced if all the characters in the s1 are present in s2. The character’s position doesn’t matter."
   ]
  },
  {
   "cell_type": "code",
   "execution_count": 239,
   "id": "08c48f90",
   "metadata": {},
   "outputs": [
    {
     "name": "stdout",
     "output_type": "stream",
     "text": [
      "s1 and s2 are balanced\n"
     ]
    }
   ],
   "source": [
    "s1 = \"Yn\"\n",
    "s2 = \"PYnative\"\n",
    "\n",
    "count=0\n",
    "\n",
    "for i in s1:\n",
    "    if i in s2:\n",
    "        count+=1\n",
    "        \n",
    "if len(s1)==count:\n",
    "    print(\"s1 and s2 are balanced\")\n",
    "else:\n",
    "    print(\"s1 and s2 are not balanced\")"
   ]
  },
  {
   "cell_type": "markdown",
   "id": "071629ea",
   "metadata": {},
   "source": [
    "Exercise 96: Find all occurrences of a substring in a given string by ignoring the case\n",
    "Write a program to find all occurrences of “USA” in a given string ignoring the case.\n",
    "\n",
    "str1 = \"Welcome to USA. usa awesome, isn't it?\"\n",
    "\n",
    "expected ans --> USA:-->2"
   ]
  },
  {
   "cell_type": "code",
   "execution_count": 242,
   "id": "05262ef1",
   "metadata": {},
   "outputs": [
    {
     "name": "stdout",
     "output_type": "stream",
     "text": [
      "WELCOME TO USA. USA AWESOME, ISN'T IT?\n"
     ]
    },
    {
     "data": {
      "text/plain": [
       "2"
      ]
     },
     "execution_count": 242,
     "metadata": {},
     "output_type": "execute_result"
    }
   ],
   "source": [
    "str1 = \"Welcome to USA. usa awesome, isn't it?\"\n",
    "\n",
    "str2=str1.upper()\n",
    "print(str2)\n",
    "\n",
    "str2.count(\"USA\")"
   ]
  },
  {
   "cell_type": "markdown",
   "id": "be75a3cf",
   "metadata": {},
   "source": [
    "Excercise 97 Write a python program to convert a string to title case without using the title()"
   ]
  },
  {
   "cell_type": "code",
   "execution_count": 87,
   "id": "cf16ca7b",
   "metadata": {},
   "outputs": [
    {
     "name": "stdout",
     "output_type": "stream",
     "text": [
      "enter the title: milind mali\n",
      "Milind Mali \n"
     ]
    }
   ],
   "source": [
    "a=input(\"enter the title: \")\n",
    "\n",
    "b=a.split()\n",
    "\n",
    "r=''\n",
    "\n",
    "#print(b)\n",
    "\n",
    "for i in b:\n",
    "    r=r+i.capitalize()+\" \"\n",
    "    \n",
    "print(r)"
   ]
  },
  {
   "cell_type": "markdown",
   "id": "d17e884d",
   "metadata": {},
   "source": [
    "Exercise 98: Calculate the sum and average of the digits present in a string\n",
    "Given a string s1, write a program to return the sum and average of the digits that appear in the string, ignoring all other characters."
   ]
  },
  {
   "cell_type": "code",
   "execution_count": 254,
   "id": "996e42a1",
   "metadata": {},
   "outputs": [
    {
     "name": "stdout",
     "output_type": "stream",
     "text": [
      "sum of digits in the given string is  38\n",
      "avg of digits in the given string is  6.33\n"
     ]
    }
   ],
   "source": [
    "str1 = \"PYnative29@#8496\"\n",
    "\n",
    "str2=list(str1)\n",
    "\n",
    "total=0\n",
    "counter=0\n",
    "\n",
    "for i in str2:\n",
    "    if i.isdigit()==True:\n",
    "        total=total+int(i)\n",
    "        counter+=1\n",
    "        \n",
    "print(\"sum of digits in the given string is \",total)\n",
    "print(\"avg of digits in the given string is \",round(total/counter,2))"
   ]
  },
  {
   "cell_type": "markdown",
   "id": "53b6f6e1",
   "metadata": {},
   "source": [
    "Exercise 99: Reverse a given string\n",
    "\n",
    "str1 = \"PYnative\"\n",
    "\n",
    "expected-->evitanYP"
   ]
  },
  {
   "cell_type": "code",
   "execution_count": 255,
   "id": "30b570b1",
   "metadata": {},
   "outputs": [
    {
     "data": {
      "text/plain": [
       "'evitanYP'"
      ]
     },
     "execution_count": 255,
     "metadata": {},
     "output_type": "execute_result"
    }
   ],
   "source": [
    "str1 = \"PYnative\"\n",
    "\n",
    "str1[::-1]"
   ]
  },
  {
   "cell_type": "markdown",
   "id": "7f636ca0",
   "metadata": {},
   "source": [
    "Exercise 100: Find the last position of a given substring\n",
    "\n",
    "Write a program to find the last position of a substring “Emma” in a given string.\n",
    "\n",
    "str1 = \"Milind is a data scientist who knows Python. Milind works at google.\"\n",
    "\n",
    "expected-->Last occurrence of Emma starts at index 43"
   ]
  },
  {
   "cell_type": "code",
   "execution_count": 256,
   "id": "c9ed85c7",
   "metadata": {},
   "outputs": [
    {
     "data": {
      "text/plain": [
       "45"
      ]
     },
     "execution_count": 256,
     "metadata": {},
     "output_type": "execute_result"
    }
   ],
   "source": [
    "str1 = \"Milind is a data scientist who knows Python. Milind works at google.\"\n",
    "\n",
    "str1.rfind(\"Milind\",2)"
   ]
  },
  {
   "cell_type": "markdown",
   "id": "d4e76deb",
   "metadata": {},
   "source": [
    "Exercise 101: Split a string on hyphens\n",
    "    \n",
    "Write a program to split a given string on hyphens and display each substring.\n",
    "\n",
    "str1 = Emma-is-a-data-scientist\n",
    "\n",
    "Expected-->Displaying each substring\n",
    "\n",
    "Emma\n",
    "\n",
    "is\n",
    "\n",
    "a\n",
    "\n",
    "data\n",
    "\n",
    "scientist"
   ]
  },
  {
   "cell_type": "code",
   "execution_count": 258,
   "id": "ae551505",
   "metadata": {},
   "outputs": [
    {
     "name": "stdout",
     "output_type": "stream",
     "text": [
      "Emma\n",
      "is\n",
      "a\n",
      "data\n",
      "scientist\n"
     ]
    }
   ],
   "source": [
    "str1 = \"Emma-is-a-data-scientist\"\n",
    "\n",
    "str2=str1.split(\"-\")\n",
    "\n",
    "for i in str2:\n",
    "    print(i)"
   ]
  },
  {
   "cell_type": "markdown",
   "id": "f7d6e5d5",
   "metadata": {},
   "source": [
    "Exercise 102: Remove empty strings from a list of strings"
   ]
  },
  {
   "attachments": {
    "string.jpg": {
     "image/jpeg": "[encoded data removed]"
    }
   },
   "cell_type": "markdown",
   "id": "ce4e721a",
   "metadata": {},
   "source": [
    "![string.jpg](attachment:string.jpg)"
   ]
  },
  {
   "cell_type": "code",
   "execution_count": 260,
   "id": "37a5c4a2",
   "metadata": {},
   "outputs": [
    {
     "name": "stdout",
     "output_type": "stream",
     "text": [
      "['Emma', 'Jon', 'Kelly', 'Eric']\n"
     ]
    }
   ],
   "source": [
    "str_list = [\"Emma\", \"Jon\", \"\", \"Kelly\", None, \"Eric\", \"\"]\n",
    "\n",
    "for i in str_list:\n",
    "    if i == \"\" or i==None:\n",
    "        str_list.remove(i)\n",
    "\n",
    "print(str_list)"
   ]
  },
  {
   "cell_type": "markdown",
   "id": "e80bf533",
   "metadata": {},
   "source": [
    "Exercise 103: Remove special symbols / punctuation from a string\n",
    "\n",
    "expected-->\"Jon is developer musician\""
   ]
  },
  {
   "cell_type": "code",
   "execution_count": 269,
   "id": "315dcd8c",
   "metadata": {},
   "outputs": [
    {
     "name": "stdout",
     "output_type": "stream",
     "text": [
      "Jon is developer  musician\n"
     ]
    }
   ],
   "source": [
    "sentence = \"/*Jon is @developer & musician\"\n",
    "\n",
    "import re\n",
    "\n",
    "clean_sentence=re.sub('[^A-Za-z0-9\\s]+',\"\",sentence)\n",
    "\n",
    "print(clean_sentence)\n"
   ]
  },
  {
   "cell_type": "markdown",
   "id": "fff3c3b4",
   "metadata": {},
   "source": [
    "Exercise 104: Removal all characters from a string except integers\n",
    "\n",
    "str1 = 'I am 25 years and 10 months old'\n",
    "\n",
    "expected-->2510"
   ]
  },
  {
   "cell_type": "code",
   "execution_count": 284,
   "id": "1860c2f6",
   "metadata": {},
   "outputs": [
    {
     "name": "stdout",
     "output_type": "stream",
     "text": [
      "2610\n"
     ]
    }
   ],
   "source": [
    "str1 = 'I am 26 years and 10 months old'\n",
    "\n",
    "str2=str1.split()\n",
    "\n",
    "new=[]\n",
    "\n",
    "for i in str2:\n",
    "    if i.isdigit()==True:\n",
    "        new.append(i)\n",
    "        \n",
    "print(\"\".join(new))\n",
    "        "
   ]
  },
  {
   "cell_type": "markdown",
   "id": "c18fd8d6",
   "metadata": {},
   "source": [
    "Exercise 105: Find words with both alphabets and numbers\n",
    "\n",
    "Write a program to find words with both alphabets and numbers from an input string."
   ]
  },
  {
   "cell_type": "code",
   "execution_count": 308,
   "id": "6c1a6d01",
   "metadata": {},
   "outputs": [
    {
     "name": "stdout",
     "output_type": "stream",
     "text": [
      "['Emma253', 'scientist50000']\n"
     ]
    }
   ],
   "source": [
    "#isalnum()\n",
    "\n",
    "str1 = \"Emma253 is Data scientist50000 and AI Expert\"\n",
    "\n",
    "str2=str1.split()\n",
    "\n",
    "new=[]\n",
    "\n",
    "for i in str2:\n",
    "    for j in i:\n",
    "        if j.isdigit()==True:\n",
    "            if i not in new:\n",
    "                new.append(i)\n",
    "            \n",
    "print(new[0:])"
   ]
  },
  {
   "cell_type": "markdown",
   "id": "ad9ec83f",
   "metadata": {},
   "source": [
    "Exercise 106: Replace each special symbol with # in the following string\n",
    "\n",
    "str1 = '/*Jon is @developer & musician!!'\n",
    "\n",
    "Expected-->##Jon is #developer # musician##\n"
   ]
  },
  {
   "cell_type": "code",
   "execution_count": 324,
   "id": "5b51f29d",
   "metadata": {},
   "outputs": [
    {
     "name": "stdout",
     "output_type": "stream",
     "text": [
      "##Jon is #developer # musician##\n"
     ]
    }
   ],
   "source": [
    "str1 = '/*Jon is @developer & musician!!'\n",
    "\n",
    "import string\n",
    "\n",
    "for i in string.punctuation:\n",
    "    if i in str1:\n",
    "        str1=str1.replace(i,\"#\")\n",
    "        \n",
    "print(str1)"
   ]
  },
  {
   "cell_type": "markdown",
   "id": "dc26668e",
   "metadata": {},
   "source": [
    "Exercise:107 extract the email service provider name"
   ]
  },
  {
   "cell_type": "code",
   "execution_count": 1,
   "id": "472c655e",
   "metadata": {},
   "outputs": [],
   "source": [
    "emaillist=[\"KSR@datavizion.com\",\"mymail@yahoo.com\",\"milindmali@google.com\",\"snehal@healthcare.com\"]"
   ]
  },
  {
   "cell_type": "code",
   "execution_count": 2,
   "id": "4c3eae9d",
   "metadata": {},
   "outputs": [
    {
     "name": "stdout",
     "output_type": "stream",
     "text": [
      "datavizion\n",
      "yahoo\n",
      "google\n",
      "healthcare\n"
     ]
    }
   ],
   "source": [
    "for i in emaillist:\n",
    "    i=i.replace(\"@\",\".\").split(\".\")\n",
    "    print(i[1])"
   ]
  },
  {
   "cell_type": "markdown",
   "id": "3951aba6",
   "metadata": {},
   "source": [
    "exercies 108: extract all the emailid for the given string"
   ]
  },
  {
   "cell_type": "code",
   "execution_count": 3,
   "id": "8b060db4",
   "metadata": {},
   "outputs": [],
   "source": [
    "string=\"Hi my name is Govind Das and my mail id is milindmali108@gmail.com and my org mail is milind@google.com\""
   ]
  },
  {
   "cell_type": "code",
   "execution_count": 4,
   "id": "b4bcdf9c",
   "metadata": {},
   "outputs": [
    {
     "name": "stdout",
     "output_type": "stream",
     "text": [
      "milindmali108@gmail.com\n",
      "milind@google.com\n"
     ]
    }
   ],
   "source": [
    "new=list(string.split())\n",
    "\n",
    "for i in new:\n",
    "    if \".com\" in i:\n",
    "        print(i)"
   ]
  },
  {
   "cell_type": "code",
   "execution_count": null,
   "id": "470152a3",
   "metadata": {},
   "outputs": [],
   "source": []
  },
  {
   "cell_type": "markdown",
   "id": "f52dcfdb",
   "metadata": {},
   "source": [
    "# 6. Python Data Structure Exercise for Beginners"
   ]
  },
  {
   "cell_type": "markdown",
   "id": "522775ab",
   "metadata": {},
   "source": [
    "Exercise 109: Create a list by picking an odd-index items from the first list and even index items from the second\n",
    "\n",
    "Given two lists, l1 and l2, write a program to create a third list l3 by picking an odd-index element from the list l1 and even index elements from the list l2."
   ]
  },
  {
   "cell_type": "code",
   "execution_count": 335,
   "id": "ac7e247b",
   "metadata": {},
   "outputs": [
    {
     "name": "stdout",
     "output_type": "stream",
     "text": [
      "[6, 12, 18, 4, 12, 20, 28]\n"
     ]
    }
   ],
   "source": [
    "l1 = [3, 6, 9, 12, 15, 18, 21]\n",
    "l2 = [4, 8, 12, 16, 20, 24, 28]\n",
    "\n",
    "l3=[]\n",
    "\n",
    "for i in l1[1::2]:\n",
    "    l3.append(i)\n",
    "for i in l2[0::2]:\n",
    "    l3.append(i)\n",
    "    \n",
    "print(l3)"
   ]
  },
  {
   "cell_type": "markdown",
   "id": "b56fe416",
   "metadata": {},
   "source": [
    "Exercise 110: Remove and add item in a list\n",
    "\n",
    "Write a program to remove the item present at index 4 and add it to the 2nd position and at the end of the list.\n",
    "\n",
    "sample_list = [34, 54, 67, 89, 11, 43, 94]\n",
    "\n",
    "List After removing element at index 4  [34, 54, 67, 89, 43, 94]\n",
    "\n",
    "List after Adding element at index 2  [34, 54, 11, 67, 89, 43, 94]\n",
    "\n",
    "List after Adding element at last  [34, 54, 11, 67, 89, 43, 94, 11]"
   ]
  },
  {
   "cell_type": "code",
   "execution_count": 351,
   "id": "9793b940",
   "metadata": {},
   "outputs": [
    {
     "name": "stdout",
     "output_type": "stream",
     "text": [
      "[34, 54, 11, 67, 89, 43, 94, 11]\n"
     ]
    }
   ],
   "source": [
    "list1 = [34, 54, 67, 89, 11, 43, 94]\n",
    "\n",
    "list1.pop(4)\n",
    "list1.insert(2,11)\n",
    "list1.append(11)\n",
    "\n",
    "print(list1)"
   ]
  },
  {
   "cell_type": "markdown",
   "id": "0477c02b",
   "metadata": {},
   "source": [
    "Exercise 111: Slice list into 3 equal chunks and reverse each chunk"
   ]
  },
  {
   "cell_type": "code",
   "execution_count": 2,
   "id": "093efbe7",
   "metadata": {},
   "outputs": [
    {
     "name": "stdout",
     "output_type": "stream",
     "text": [
      "chunk 1 [11, 49, 8]\n",
      "Reversed of chunk 1 [8, 49, 11]\n",
      "chunk 2 [23, 14, 12]\n",
      "Reversed of chunk 2 [12, 14, 23]\n",
      "chunk 3 [78, 45, 89]\n",
      "Reversed of chunk 3 [89, 45, 78]\n"
     ]
    }
   ],
   "source": [
    "sample_list = [11,49,8,23,14,12,78,45,89]\n",
    "\n",
    "n=int(len(sample_list)/3)\n",
    "\n",
    "l1=sample_list[0:n]\n",
    "l2=sample_list[n:n*2]\n",
    "l3=sample_list[n*2:n*3]\n",
    "\n",
    "print(\"chunk 1\",l1)\n",
    "print(\"Reversed of chunk 1\",l1[::-1])\n",
    "\n",
    "print(\"chunk 2\",l2)\n",
    "print(\"Reversed of chunk 2\",l2[::-1])\n",
    "\n",
    "print(\"chunk 3\",l3)\n",
    "print(\"Reversed of chunk 3\",l3[::-1])"
   ]
  },
  {
   "cell_type": "markdown",
   "id": "757102f9",
   "metadata": {},
   "source": [
    "Exercise 112: Count the occurrence of each element from a list\n",
    "\n",
    "Write a program to iterate a given list and count the occurrence of each element and create a dictionary to show the count of each element.\n",
    "\n",
    "sample_list = [11, 45, 8, 11, 23, 45, 23, 45, 89]\n",
    "\n",
    "Expected Output:--> Printing count of each item   {11: 2, 45: 3, 8: 1, 23: 2, 89: 1}"
   ]
  },
  {
   "cell_type": "code",
   "execution_count": 7,
   "id": "64cd8369",
   "metadata": {},
   "outputs": [
    {
     "name": "stdout",
     "output_type": "stream",
     "text": [
      "{11: 2, 45: 3, 8: 1, 23: 2, 89: 1}\n"
     ]
    }
   ],
   "source": [
    "list1 = [11, 45, 8, 11, 23, 45, 23, 45, 89]\n",
    "\n",
    "count=dict()\n",
    "\n",
    "for i in list1:\n",
    "    if i in count:\n",
    "        count[i]+=1\n",
    "    else:\n",
    "        count[i]=1\n",
    "        \n",
    "print(count)"
   ]
  },
  {
   "cell_type": "markdown",
   "id": "d036f51c",
   "metadata": {},
   "source": [
    "Exercise 113: Create a Python set such that it shows the element from both lists in a pair\n",
    "    \n",
    "first_list = [2, 3, 4, 5, 6, 7, 8]\n",
    "\n",
    "second_list = [4, 9, 16, 25, 36, 49, 64]\n",
    "\n",
    "Result is  {(6, 36), (8, 64), (4, 16), (5, 25), (3, 9), (7, 49), (2, 4)}"
   ]
  },
  {
   "cell_type": "code",
   "execution_count": 10,
   "id": "f3fd0380",
   "metadata": {},
   "outputs": [
    {
     "name": "stdout",
     "output_type": "stream",
     "text": [
      "{(7, 49), (2, 4), (4, 16), (8, 64), (6, 36), (3, 9), (5, 25)}\n"
     ]
    }
   ],
   "source": [
    "first_list = [2, 3, 4, 5, 6, 7, 8]\n",
    "\n",
    "second_list = [4, 9, 16, 25, 36, 49, 64]\n",
    "\n",
    "result=zip(first_list,second_list)\n",
    "\n",
    "result_set=set(result)\n",
    "\n",
    "print(result_set)"
   ]
  },
  {
   "cell_type": "markdown",
   "id": "484a2aeb",
   "metadata": {},
   "source": [
    "Exercise 114: Find the intersection (common) of two sets and remove those elements from the first set\n",
    "\n",
    "first_set = {23, 42, 65, 57, 78, 83, 29}\n",
    "\n",
    "second_set = {57, 83, 29, 67, 73, 43, 48}\n",
    "\n",
    "Intersection is  {57, 83, 29}\n",
    "\n",
    "First Set after removing common element  {65, 42, 78, 23}"
   ]
  },
  {
   "cell_type": "code",
   "execution_count": 20,
   "id": "008be49c",
   "metadata": {},
   "outputs": [
    {
     "name": "stdout",
     "output_type": "stream",
     "text": [
      "{57, 83, 29}\n",
      "{65, 23, 42, 78}\n"
     ]
    }
   ],
   "source": [
    "first_set = {23, 42, 65, 57, 78, 83, 29}\n",
    "\n",
    "second_set = {57, 83, 29, 67, 73, 43, 48}\n",
    "\n",
    "intersection=first_set.intersection(second_set)\n",
    "\n",
    "print(intersection)\n",
    "\n",
    "for i in intersection:\n",
    "    first_set.remove(i)\n",
    "    \n",
    "print(first_set)"
   ]
  },
  {
   "cell_type": "markdown",
   "id": "8584fa66",
   "metadata": {},
   "source": [
    "Exercise 115: Checks if one set is a subset or superset of another set. If found, delete all elements from that set\n",
    "\n",
    "first_set = {27, 43, 34}\n",
    "\n",
    "second_set = {34, 93, 22, 27, 43, 53, 48}\n",
    "\n",
    "expected output:\n",
    "\n",
    "First set is subset of second set - True\n",
    "\n",
    "Second set is subset of First set -  False\n",
    "\n",
    "First set is Super set of second set -  False\n",
    "\n",
    "Second set is Super set of First set -  True\n",
    "\n",
    "First Set  set{}\n",
    "\n",
    "Second Set  {67, 73, 43, 48, 83, 57, 29}"
   ]
  },
  {
   "cell_type": "code",
   "execution_count": 31,
   "id": "3f5836d8",
   "metadata": {},
   "outputs": [
    {
     "name": "stdout",
     "output_type": "stream",
     "text": [
      "first set is subset of second set:\n",
      " True\n",
      "second set is subset of first set:\n",
      " False\n",
      "first set is superset of second set:\n",
      " False\n",
      "second set is superset of first set:\n",
      " True\n",
      "first set:\n",
      " set()\n",
      "second set:\n",
      " {48, 34, 53, 22, 27, 43, 93}\n"
     ]
    }
   ],
   "source": [
    "first_set = {27, 43, 34}\n",
    "\n",
    "second_set = {34, 93, 22, 27, 43, 53, 48}\n",
    "\n",
    "print(\"first set is subset of second set:\\n\",first_set.issubset(second_set))\n",
    "\n",
    "print(\"second set is subset of first set:\\n\",second_set.issubset(first_set))\n",
    "\n",
    "print(\"first set is superset of second set:\\n\",first_set.issuperset(second_set))\n",
    "\n",
    "print(\"second set is superset of first set:\\n\",second_set.issuperset(first_set))\n",
    "\n",
    "if first_set.issubset(second_set):\n",
    "    first_set.clear()\n",
    "    \n",
    "if second_set.issubset(first_set):\n",
    "    second_set.clear()\n",
    "    \n",
    "print(\"first set:\\n\",first_set)\n",
    "print(\"second set:\\n\",second_set)"
   ]
  },
  {
   "cell_type": "markdown",
   "id": "3a4b97da",
   "metadata": {},
   "source": [
    "Exercise 116: Iterate a given list and check if a given element exists as a key’s value in a dictionary. If not, delete it from the list\n",
    "\n",
    "roll_number = [47, 64, 69, 37, 76, 83, 95, 97]\n",
    "\n",
    "sample_dict = {'Jhon':47, 'Emma':69, 'Kelly':76, 'Jason':97}\n",
    "\n",
    "Expected result:-->\n",
    "After removing unwanted elements from list [47, 69, 76, 97]"
   ]
  },
  {
   "cell_type": "code",
   "execution_count": 36,
   "id": "fe9b6325",
   "metadata": {},
   "outputs": [
    {
     "name": "stdout",
     "output_type": "stream",
     "text": [
      "[47, 69, 76, 97]\n"
     ]
    }
   ],
   "source": [
    "roll_number = [47, 64, 69, 37, 76, 83, 95, 97]\n",
    "\n",
    "sample_dict = {'Jhon':47, 'Emma':69, 'Kelly':76, 'Jason':97}\n",
    "\n",
    "#will modify the original list\n",
    "\n",
    "roll_number[:]=[item for item in roll_number if item in sample_dict.values()]\n",
    "\n",
    "print(roll_number)"
   ]
  },
  {
   "cell_type": "markdown",
   "id": "6518c310",
   "metadata": {},
   "source": [
    "Exercise 117: Get all values from the dictionary and add them to a list but don’t add duplicates\n",
    "\n",
    "speed = {'jan': 47, 'feb': 52, 'march': 47, 'April': 44, 'May': 52, 'June': 53, 'july': 54, 'Aug': 44, 'Sept': 54}\n",
    "\n",
    "expected_output:\n",
    "[47, 52, 44, 53, 54]"
   ]
  },
  {
   "cell_type": "code",
   "execution_count": 37,
   "id": "16c8a0df",
   "metadata": {},
   "outputs": [
    {
     "name": "stdout",
     "output_type": "stream",
     "text": [
      "[47, 52, 44, 53, 54]\n"
     ]
    }
   ],
   "source": [
    "speed = {'jan': 47, 'feb': 52, 'march': 47, 'April': 44, 'May': 52, 'June': 53, 'july': 54, 'Aug': 44, 'Sept': 54}\n",
    "\n",
    "speed_list=[]\n",
    "\n",
    "for value in speed.values():\n",
    "    if value not in speed_list:\n",
    "        speed_list.append(value)\n",
    "        \n",
    "print(speed_list)"
   ]
  },
  {
   "cell_type": "markdown",
   "id": "b006a9fe",
   "metadata": {},
   "source": [
    "Exercise 118: Remove duplicates from a list and create a tuple and find the minimum and maximum number\n",
    "\n",
    "sample_list = [87, 45, 41, 65, 94, 41, 99, 94]\n",
    "\n",
    "Expected-->\n",
    "\n",
    "unique items [87, 45, 41, 65, 99]\n",
    "\n",
    "tuple (87, 45, 41, 65, 99)\n",
    "\n",
    "min: 41\n",
    "\n",
    "max: 99"
   ]
  },
  {
   "cell_type": "code",
   "execution_count": 43,
   "id": "a711d3ee",
   "metadata": {},
   "outputs": [
    {
     "name": "stdout",
     "output_type": "stream",
     "text": [
      "Unique element in the sample list:\n",
      " (65, 99, 41, 45, 87, 94)\n",
      "Maximum number in the sample list:\n",
      " 99\n",
      "Minimun number in the sample list:\n",
      " 41\n"
     ]
    }
   ],
   "source": [
    "sample_list = [87, 45, 41, 65, 94, 41, 99, 94]\n",
    "\n",
    "list1=set(sample_list)  # removed all the duplicates\n",
    "\n",
    "tuple1=tuple(list1)\n",
    "\n",
    "print(\"Unique element in the sample list:\\n\",tuple1)\n",
    "\n",
    "print(\"Maximum number in the sample list:\\n\",max(tuple1))\n",
    "print(\"Minimun number in the sample list:\\n\",min(tuple1))"
   ]
  },
  {
   "cell_type": "markdown",
   "id": "1bc2202d",
   "metadata": {},
   "source": [
    "# 7. python list exercise with solutions"
   ]
  },
  {
   "cell_type": "markdown",
   "id": "93545790",
   "metadata": {},
   "source": [
    "Excercise: 119 Write a python program to find the max item from a list without using the max function"
   ]
  },
  {
   "cell_type": "code",
   "execution_count": 88,
   "id": "708490d7",
   "metadata": {},
   "outputs": [
    {
     "name": "stdout",
     "output_type": "stream",
     "text": [
      "8\n"
     ]
    }
   ],
   "source": [
    "l1=[4,6,2,8,1]\n",
    "\n",
    "l1.sort(reverse=True)\n",
    "\n",
    "print(l1[0])"
   ]
  },
  {
   "cell_type": "markdown",
   "id": "15db76dc",
   "metadata": {},
   "source": [
    "Excercise 120 Find the reverse of a number provided by the user(any number of digit) "
   ]
  },
  {
   "cell_type": "code",
   "execution_count": 82,
   "id": "5c985178",
   "metadata": {},
   "outputs": [
    {
     "name": "stdout",
     "output_type": "stream",
     "text": [
      "enter the number: 1234\n",
      "4321\n"
     ]
    }
   ],
   "source": [
    "n=int(input(\"enter the number: \"))\n",
    "\n",
    "digit_list=list(map(int,str(n)))\n",
    "\n",
    "digit_list=digit_list[::-1]\n",
    "\n",
    "num=int(\"\".join(map(str,digit_list)))\n",
    "\n",
    "print(num)"
   ]
  },
  {
   "cell_type": "markdown",
   "id": "5db5563c",
   "metadata": {},
   "source": [
    "Excercise 121 Take a number from the user and find the number of digits in it. "
   ]
  },
  {
   "cell_type": "code",
   "execution_count": 80,
   "id": "83e9bcec",
   "metadata": {},
   "outputs": [
    {
     "name": "stdout",
     "output_type": "stream",
     "text": [
      "enter the number: 34457\n",
      "[3, 4, 4, 5, 7]\n",
      "5\n"
     ]
    }
   ],
   "source": [
    "n=int(input(\"enter the number: \"))\n",
    "\n",
    "digit_list=list(map(int,str(n)))\n",
    "\n",
    "print(digit_list)\n",
    "\n",
    "print(len(digit_list))"
   ]
  },
  {
   "cell_type": "markdown",
   "id": "54e6b8ea",
   "metadata": {},
   "source": [
    "Exercise 122: Write a python program to remove all the duplicates from a list"
   ]
  },
  {
   "cell_type": "code",
   "execution_count": 31,
   "id": "0a32c6de",
   "metadata": {},
   "outputs": [
    {
     "name": "stdout",
     "output_type": "stream",
     "text": [
      "[1, 2, 3, 4, 5, 6, 7, 8, 9]\n"
     ]
    }
   ],
   "source": [
    "l1=[1,2,3,3,3,4,4,5,6,7,8,9,9]\n",
    "\n",
    "l2=[]\n",
    "\n",
    "for i in l1:\n",
    "    if i not in l2:\n",
    "        l2.append(i)\n",
    "        \n",
    "print(l2)"
   ]
  },
  {
   "cell_type": "markdown",
   "id": "0cfd1571",
   "metadata": {},
   "source": [
    "Exercise 123: Reverse a list in Python"
   ]
  },
  {
   "cell_type": "code",
   "execution_count": 49,
   "id": "7ab8cfb4",
   "metadata": {},
   "outputs": [
    {
     "name": "stdout",
     "output_type": "stream",
     "text": [
      "[500, 400, 300, 200, 100]\n"
     ]
    }
   ],
   "source": [
    "list1 = [100, 200, 300, 400, 500]\n",
    "\n",
    "print(list1[::-1])\n",
    "\n",
    "#or you can also use \"reverse()\" function"
   ]
  },
  {
   "cell_type": "markdown",
   "id": "674288dc",
   "metadata": {},
   "source": [
    "Exercise 124: Concatenate two lists index-wise\n",
    "\n",
    "Write a program to add two lists index-wise. Create a new list that contains the 0th index item from both the list, then the 1st index item, and so on till the last element. any leftover items will get added at the end of the new list.\n",
    "\n",
    "list1 = [\"M\", \"na\", \"i\", \"Ke\"]\n",
    "\n",
    "list2 = [\"y\", \"me\", \"s\", \"lly\"]\n",
    "\n",
    "expected result:\n",
    "\n",
    "['My', 'name', 'is', 'Kelly']"
   ]
  },
  {
   "cell_type": "code",
   "execution_count": 55,
   "id": "79006a8c",
   "metadata": {},
   "outputs": [
    {
     "name": "stdout",
     "output_type": "stream",
     "text": [
      "['My', 'name', 'is', 'Kelly']\n"
     ]
    }
   ],
   "source": [
    "list1 = [\"M\", \"na\", \"i\", \"Ke\"]\n",
    "\n",
    "list2 = [\"y\", \"me\", \"s\", \"lly\"]\n",
    "\n",
    "list3=[i+j for i,j in zip(list1,list2)]\n",
    "\n",
    "print(list3)"
   ]
  },
  {
   "cell_type": "markdown",
   "id": "1df81b9c",
   "metadata": {},
   "source": [
    "Exercise 125: Turn every item of a list into its square\n",
    "    \n",
    "Given a list of numbers. write a program to turn every item of a list into its square."
   ]
  },
  {
   "cell_type": "code",
   "execution_count": 58,
   "id": "5825bd27",
   "metadata": {},
   "outputs": [
    {
     "name": "stdout",
     "output_type": "stream",
     "text": [
      "[1, 4, 9, 16, 25, 36, 49]\n"
     ]
    }
   ],
   "source": [
    "numbers = [1, 2, 3, 4, 5, 6, 7]\n",
    "\n",
    "new=[]\n",
    "\n",
    "for i in numbers:\n",
    "    x=pow(i,2)\n",
    "    new.append(x)\n",
    "    \n",
    "print(new)"
   ]
  },
  {
   "cell_type": "code",
   "execution_count": 59,
   "id": "efa3b63f",
   "metadata": {},
   "outputs": [
    {
     "name": "stdout",
     "output_type": "stream",
     "text": [
      "[1, 4, 9, 16, 25, 36, 49]\n"
     ]
    }
   ],
   "source": [
    "#same using list comprehenssion\n",
    "\n",
    "result=[pow(x,2) for x in numbers]\n",
    "print(result)"
   ]
  },
  {
   "cell_type": "markdown",
   "id": "8e172bca",
   "metadata": {},
   "source": [
    "Exercise 126: Concatenate two lists in the following order\n",
    "    \n",
    "list1 = [\"Hello \", \"take \"]\n",
    "\n",
    "list2 = [\"Dear\", \"Sir\"]\n",
    "\n",
    "Expected result:\n",
    "\n",
    "['Hello Dear', 'Hello Sir', 'take Dear', 'take Sir']"
   ]
  },
  {
   "cell_type": "code",
   "execution_count": 60,
   "id": "4d84e368",
   "metadata": {},
   "outputs": [
    {
     "name": "stdout",
     "output_type": "stream",
     "text": [
      "Hello Dear\n",
      "Hello Sir\n",
      "take Dear\n",
      "take Sir\n"
     ]
    }
   ],
   "source": [
    "list1 = [\"Hello \", \"take \"]\n",
    "\n",
    "list2 = [\"Dear\", \"Sir\"]\n",
    "\n",
    "for i in list1:\n",
    "    for j in list2:\n",
    "        print(i+j)"
   ]
  },
  {
   "cell_type": "code",
   "execution_count": 63,
   "id": "7c4473ca",
   "metadata": {},
   "outputs": [
    {
     "name": "stdout",
     "output_type": "stream",
     "text": [
      "['Hello Dear', 'Hello Sir', 'take Dear', 'take Sir']\n"
     ]
    }
   ],
   "source": [
    "#using list comprehension\n",
    "result=[i+j for i in list1 for j in list2]\n",
    "print(result)"
   ]
  },
  {
   "cell_type": "markdown",
   "id": "6ee80e08",
   "metadata": {},
   "source": [
    "Exercise 127: Iterate both lists simultaneously\n",
    "    \n",
    "Given a two Python list. Write a program to iterate both lists simultaneously and display items from list1 in original order and items from list2 in reverse order.\n",
    "\n",
    "list1 = [10, 20, 30, 40]\n",
    "\n",
    "list2 = [100, 200, 300, 400]\n",
    "\n",
    "Expected-->\n",
    "\n",
    "10 400\n",
    "\n",
    "20 300\n",
    "\n",
    "30 200\n",
    "\n",
    "40 100"
   ]
  },
  {
   "cell_type": "code",
   "execution_count": 64,
   "id": "68b441d6",
   "metadata": {},
   "outputs": [
    {
     "name": "stdout",
     "output_type": "stream",
     "text": [
      "10 400\n",
      "20 300\n",
      "30 200\n",
      "40 100\n"
     ]
    }
   ],
   "source": [
    "list1 = [10, 20, 30, 40]\n",
    "\n",
    "list2 = [100, 200, 300, 400]\n",
    "\n",
    "for x,y in zip(list1,list2[::-1]):\n",
    "    print(x,y)"
   ]
  },
  {
   "cell_type": "markdown",
   "id": "d4b7131c",
   "metadata": {},
   "source": [
    "Exercise 128: Remove empty strings from the list of strings\n",
    "    \n",
    "    list1 = [\"Mike\", \"\", \"Emma\", \"Kelly\", \"\", \"Brad\"]\n",
    "    \n",
    "expected:\n",
    "    \n",
    "    [\"Mike\", \"Emma\", \"Kelly\", \"Brad\"]"
   ]
  },
  {
   "cell_type": "code",
   "execution_count": 76,
   "id": "f25b5a40",
   "metadata": {},
   "outputs": [
    {
     "name": "stdout",
     "output_type": "stream",
     "text": [
      "['Mike', 'Emma', 'Kelly', 'Brad']\n"
     ]
    }
   ],
   "source": [
    "list1 = [\"Mike\", \"\", \"Emma\", \"Kelly\", \"\", \"Brad\"]\n",
    "\n",
    "result=list(filter(lambda x: x!=\"\",list1))\n",
    "\n",
    "print(result)"
   ]
  },
  {
   "cell_type": "markdown",
   "id": "4df7fca4",
   "metadata": {},
   "source": [
    "Exercise 129: Add new item to list after a specified item\n",
    "\n",
    "Write a program to add item 7000 after 6000 in the following Python List\n",
    "\n",
    "list1 = [10, 20, [300, 400, [5000, 6000], 500], 30, 40]\n",
    "\n",
    "Expected output:\n",
    "\n",
    "[10, 20, [300, 400, [5000, 6000, 7000], 500], 30, 40]"
   ]
  },
  {
   "cell_type": "code",
   "execution_count": 78,
   "id": "b5edefbc",
   "metadata": {},
   "outputs": [
    {
     "name": "stdout",
     "output_type": "stream",
     "text": [
      "[10, 20, [300, 400, [5000, 6000, 7000], 500], 30, 40]\n"
     ]
    }
   ],
   "source": [
    "list1 = [10, 20, [300, 400, [5000, 6000], 500], 30, 40]\n",
    "\n",
    "list1[2][2].append(7000)\n",
    "\n",
    "print(list1)"
   ]
  },
  {
   "cell_type": "markdown",
   "id": "15c0dbef",
   "metadata": {},
   "source": [
    "Exercise 130: Extend nested list by adding the sublist\n",
    "\n",
    "You have given a nested list. Write a program to extend it by adding the sublist [\"h\", \"i\", \"j\"] in such a way that it will look like the following list.\n",
    "\n",
    "list1 = [\"a\", \"b\", [\"c\", [\"d\", \"e\", [\"f\", \"g\"], \"k\"], \"l\"], \"m\", \"n\"]\n",
    "\n",
    "*sub list to add\n",
    "sub_list = [\"h\", \"i\", \"j\"]\n",
    "\n",
    "Expected result:\n",
    "\n",
    "['a', 'b', ['c', ['d', 'e', ['f', 'g', 'h', 'i', 'j'], 'k'], 'l'], 'm', 'n']"
   ]
  },
  {
   "cell_type": "code",
   "execution_count": 79,
   "id": "a9ed138b",
   "metadata": {},
   "outputs": [
    {
     "name": "stdout",
     "output_type": "stream",
     "text": [
      "['a', 'b', ['c', ['d', 'e', ['f', 'g', 'h', 'i', 'j'], 'k'], 'l'], 'm', 'n']\n"
     ]
    }
   ],
   "source": [
    "list1 = [\"a\", \"b\", [\"c\", [\"d\", \"e\", [\"f\", \"g\"], \"k\"], \"l\"], \"m\", \"n\"]\n",
    "\n",
    "sub_list = [\"h\", \"i\", \"j\"]\n",
    "\n",
    "list1[2][1][2].extend(sub_list)\n",
    "\n",
    "print(list1)"
   ]
  },
  {
   "cell_type": "markdown",
   "id": "56cffc19",
   "metadata": {},
   "source": [
    "Exercise 131: Replace list’s item with new value if found\n",
    "\n",
    "You have given a Python list. Write a program to find value 20 in the list, and if it is present, replace it with 200. Only update the first occurrence of an item.\n",
    "\n",
    "list1 = [5, 10, 15, 20, 25, 50, 20]\n",
    "\n",
    "Expected output:\n",
    "[5, 10, 15, 200, 25, 50, 20]"
   ]
  },
  {
   "cell_type": "code",
   "execution_count": 81,
   "id": "c85985a5",
   "metadata": {},
   "outputs": [
    {
     "name": "stdout",
     "output_type": "stream",
     "text": [
      "[5, 10, 15, 200, 25, 50, 20]\n"
     ]
    }
   ],
   "source": [
    "list1 = [5, 10, 15, 20, 25, 50, 20]\n",
    "\n",
    "x=list1.index(20)\n",
    "\n",
    "list1[x]=200\n",
    "\n",
    "print(list1)"
   ]
  },
  {
   "cell_type": "markdown",
   "id": "3f0d7ef1",
   "metadata": {},
   "source": [
    "Exercise 132: Remove all occurrences of a specific item from a list.\n",
    "    \n",
    "Given a Python list, write a program to remove all occurrences of item 20.\n",
    "\n",
    "list1 = [5, 20, 15, 20, 25, 50, 20]\n",
    "\n",
    "Expected output:\n",
    "    \n",
    "[5, 15, 25, 50]"
   ]
  },
  {
   "cell_type": "code",
   "execution_count": 83,
   "id": "e6c3af29",
   "metadata": {},
   "outputs": [
    {
     "name": "stdout",
     "output_type": "stream",
     "text": [
      "[5, 15, 25, 50]\n"
     ]
    }
   ],
   "source": [
    "list1 = [5, 20, 15, 20, 25, 50, 20]\n",
    "\n",
    "\n",
    "while 20 in list1:\n",
    "    list1.remove(20)\n",
    "    \n",
    "print(list1)"
   ]
  },
  {
   "cell_type": "markdown",
   "id": "8775e1d0",
   "metadata": {},
   "source": [
    "Excercise 133 Write a python program to remove all the duplicates from a list"
   ]
  },
  {
   "cell_type": "code",
   "execution_count": 86,
   "id": "417cdb16",
   "metadata": {},
   "outputs": [
    {
     "name": "stdout",
     "output_type": "stream",
     "text": [
      "[1, 2, 3, 4, 5, 6, 7, 8, 9]\n"
     ]
    }
   ],
   "source": [
    "l1=[1,2,3,3,3,4,4,5,6,7,8,9,9]\n",
    "\n",
    "l2=[]\n",
    "\n",
    "for i in l1:\n",
    "    if i not in l2:\n",
    "        l2.append(i)\n",
    "        \n",
    "print(l2)"
   ]
  },
  {
   "cell_type": "markdown",
   "id": "2f3b4d99",
   "metadata": {},
   "source": [
    "Excercise 134 :Write a program that can perform union and intersection on 2 given list."
   ]
  },
  {
   "cell_type": "code",
   "execution_count": 90,
   "id": "e6d36470",
   "metadata": {},
   "outputs": [
    {
     "name": "stdout",
     "output_type": "stream",
     "text": [
      "[4, 5]\n",
      "[1, 2, 3, 4, 5, 6, 7, 8]\n"
     ]
    }
   ],
   "source": [
    "l1=[1,2,3,4,5]\n",
    "l2=[4,5,6,7,8]\n",
    "\n",
    "uni=[]\n",
    "inter=[]\n",
    "\n",
    "for i in l1:\n",
    "    if i in l2:\n",
    "        inter.append(i)\n",
    "        \n",
    "print(inter)\n",
    "\n",
    "for i in l1:\n",
    "    if i not in uni:\n",
    "        uni.append(i)\n",
    "    \n",
    "for i in l2:\n",
    "    if  i not in uni:\n",
    "        uni.append(i)\n",
    "    \n",
    "print(uni)"
   ]
  },
  {
   "cell_type": "markdown",
   "id": "9ed50334",
   "metadata": {},
   "source": [
    "# 8. Python Dictionary Exercise with Solutions"
   ]
  },
  {
   "cell_type": "markdown",
   "id": "de876776",
   "metadata": {},
   "source": [
    "Exercise 135: Convert two lists into a dictionary\n",
    "\n",
    "Below are the two lists. Write a Python program to convert them into a dictionary in a way that item from list1 is the key and item from list2 is the value\n",
    "\n",
    "keys = ['Ten', 'Twenty', 'Thirty']\n",
    "\n",
    "values = [10, 20, 30]\n",
    "\n",
    "Expected output:\n",
    "\n",
    "{'Ten': 10, 'Twenty': 20, 'Thirty': 30}"
   ]
  },
  {
   "cell_type": "code",
   "execution_count": 85,
   "id": "48824e06",
   "metadata": {},
   "outputs": [
    {
     "name": "stdout",
     "output_type": "stream",
     "text": [
      "{'Ten': 10, 'Twenty': 20, 'Thirty': 30}\n"
     ]
    }
   ],
   "source": [
    "keys = ['Ten', 'Twenty', 'Thirty']\n",
    "\n",
    "values = [10, 20, 30]\n",
    "\n",
    "my_dict=zip(keys,values)\n",
    "\n",
    "result=dict(my_dict)\n",
    "\n",
    "print(result)"
   ]
  },
  {
   "cell_type": "markdown",
   "id": "79e036c5",
   "metadata": {},
   "source": [
    "Exercise 136: Merge two Python dictionaries into one\n",
    "    \n",
    "dict1 = {'Ten': 10, 'Twenty': 20, 'Thirty': 30}\n",
    "    \n",
    "dict2 = {'Thirty': 30, 'Fourty': 40, 'Fifty': 50}\n",
    "\n",
    "Expected output\n",
    "\n",
    "{'Ten': 10, 'Twenty': 20, 'Thirty': 30, 'Fourty': 40, 'Fifty': 50}"
   ]
  },
  {
   "cell_type": "code",
   "execution_count": 86,
   "id": "2454de19",
   "metadata": {},
   "outputs": [
    {
     "name": "stdout",
     "output_type": "stream",
     "text": [
      "{'Ten': 10, 'Twenty': 20, 'Thirty': 30, 'Fourty': 40, 'Fifty': 50}\n"
     ]
    }
   ],
   "source": [
    "dict1 = {'Ten': 10, 'Twenty': 20, 'Thirty': 30}\n",
    "    \n",
    "dict2 = {'Thirty': 30, 'Fourty': 40, 'Fifty': 50}\n",
    "\n",
    "dict3={**dict1,**dict2}\n",
    "\n",
    "print(dict3)"
   ]
  },
  {
   "cell_type": "code",
   "execution_count": 92,
   "id": "329ea181",
   "metadata": {},
   "outputs": [
    {
     "name": "stdout",
     "output_type": "stream",
     "text": [
      "{'Ten': 10, 'Twenty': 20, 'Thirty': 30, 'Fourty': 40, 'Fifty': 50}\n"
     ]
    }
   ],
   "source": [
    "# another way of achieving same is:\n",
    "dict1 = {'Ten': 10, 'Twenty': 20, 'Thirty': 30}\n",
    "    \n",
    "dict2 = {'Thirty': 30, 'Fourty': 40, 'Fifty': 50}\n",
    "\n",
    "dict3=dict1.copy()\n",
    "\n",
    "dict3.update(dict2)\n",
    "\n",
    "print(dict3)"
   ]
  },
  {
   "cell_type": "markdown",
   "id": "b9ac9b2c",
   "metadata": {},
   "source": [
    "Exercise 137: Print the value of key ‘history’ from the below dict\n",
    "\n",
    "expected output: 80"
   ]
  },
  {
   "cell_type": "markdown",
   "id": "4958b0d4",
   "metadata": {},
   "source": [
    "sampleDict = {\n",
    "    \"class\": {\n",
    "        \"student\": {\n",
    "            \"name\": \"Mike\",\n",
    "            \"marks\": {\n",
    "                \"physics\": 70,\n",
    "                \"history\": 80\n",
    "            }\n",
    "        }\n",
    "    }\n",
    "}"
   ]
  },
  {
   "cell_type": "code",
   "execution_count": 107,
   "id": "e2913e70",
   "metadata": {},
   "outputs": [
    {
     "data": {
      "text/plain": [
       "80"
      ]
     },
     "execution_count": 107,
     "metadata": {},
     "output_type": "execute_result"
    }
   ],
   "source": [
    "sampleDict = {\"class\": {\"student\": {\"name\": \"Mike\",\"marks\": {\"physics\": 70,\"history\": 80}}}}\n",
    "\n",
    "sampleDict[\"class\"][\"student\"][\"marks\"][\"history\"]"
   ]
  },
  {
   "cell_type": "markdown",
   "id": "af51aec5",
   "metadata": {},
   "source": [
    "Exercise 138: Initialize dictionary with default values\n",
    "In Python, we can initialize the keys with the same values.\n",
    "\n",
    "employees = ['Kelly', 'Emma']\n",
    "\n",
    "defaults = {\"designation\": 'Developer', \"salary\": 8000}\n",
    "\n",
    "expected output:\n",
    "{'Kelly': {'designation': 'Developer', 'salary': 8000}, 'Emma': {'designation': 'Developer', 'salary': 8000}}"
   ]
  },
  {
   "cell_type": "code",
   "execution_count": 116,
   "id": "027a0b9c",
   "metadata": {},
   "outputs": [
    {
     "name": "stdout",
     "output_type": "stream",
     "text": [
      "{'Kelly': {'designation': 'Developer', 'salary': 8000}, 'Emma': {'designation': 'Developer', 'salary': 8000}}\n",
      "====================================================================================================\n",
      "Details of kelly:  {'designation': 'Developer', 'salary': 8000}\n"
     ]
    }
   ],
   "source": [
    "employees = ['Kelly', 'Emma']\n",
    "\n",
    "defaults = {\"designation\": 'Developer', \"salary\": 8000}\n",
    "\n",
    "result=dict.fromkeys(employees,defaults)\n",
    "\n",
    "print(result)\n",
    "print(\"=\"*100)\n",
    "print(\"Details of kelly: \",result[\"Kelly\"])"
   ]
  },
  {
   "cell_type": "markdown",
   "id": "68dae011",
   "metadata": {},
   "source": [
    "Exercise 139: Create a dictionary by extracting the keys from a given dictionary\n",
    "    \n",
    "Write a Python program to create a new dictionary by extracting the mentioned keys from the below dictionary.\n",
    "\n",
    "sample_dict = {\n",
    "    \"name\": \"Kelly\",\n",
    "    \"age\": 25,\n",
    "    \"salary\": 8000,\n",
    "    \"city\": \"New york\"}\n",
    "\n",
    "*key to extract\n",
    "keys = [\"name\", \"salary\"]\n",
    "\n",
    "expected output:\n",
    "\n",
    "{'name': 'Kelly', 'salary': 8000}"
   ]
  },
  {
   "cell_type": "code",
   "execution_count": 120,
   "id": "4a902f58",
   "metadata": {},
   "outputs": [
    {
     "name": "stdout",
     "output_type": "stream",
     "text": [
      "{'name': 'Kelly', 'salary': 8000}\n"
     ]
    }
   ],
   "source": [
    "sample_dict = {\n",
    "    \"name\": \"Kelly\",\n",
    "    \"age\": 25,\n",
    "    \"salary\": 8000,\n",
    "    \"city\": \"New york\"}\n",
    "\n",
    "keys=[\"name\",\"salary\"]\n",
    "\n",
    "result=dict()\n",
    "\n",
    "for k in keys:\n",
    "    result.update({k:sample_dict[k]})\n",
    "    \n",
    "print(result)"
   ]
  },
  {
   "cell_type": "code",
   "execution_count": 124,
   "id": "512cc197",
   "metadata": {},
   "outputs": [
    {
     "name": "stdout",
     "output_type": "stream",
     "text": [
      "{'name': 'Kelly', 'salary': 8000}\n"
     ]
    }
   ],
   "source": [
    "#using dictionary comprehension\n",
    "sample_dict = {\n",
    "    \"name\": \"Kelly\",\n",
    "    \"age\": 25,\n",
    "    \"salary\": 8000,\n",
    "    \"city\": \"New york\"}\n",
    "\n",
    "keys=[\"name\",\"salary\"]\n",
    "\n",
    "new_dict={k:sample_dict[k] for k in keys}\n",
    "\n",
    "print(new_dict)"
   ]
  },
  {
   "cell_type": "markdown",
   "id": "7acd173f",
   "metadata": {},
   "source": [
    "Exercise 140: Check if a value exists in a dictionary\n",
    "\n",
    "We know how to check if the key exists in a dictionary. Sometimes it is required to check if the given value is present.\n",
    "\n",
    "Write a Python program to check if value 200 exists in the following dictionary.\n",
    "\n",
    "given:\n",
    "\n",
    "sample_dict = {'a': 100, 'b': 200, 'c': 300}\n",
    "\n",
    "expected:\n",
    "\n",
    "200 present in a dict"
   ]
  },
  {
   "cell_type": "code",
   "execution_count": 125,
   "id": "0abeb338",
   "metadata": {},
   "outputs": [
    {
     "name": "stdout",
     "output_type": "stream",
     "text": [
      "200 is present in given dict\n"
     ]
    }
   ],
   "source": [
    "sample_dict = {'a': 100, 'b': 200, 'c': 300}\n",
    "\n",
    "if 200 in sample_dict.values():\n",
    "    print(\"200 is present in given dict\")"
   ]
  },
  {
   "cell_type": "markdown",
   "id": "274f3384",
   "metadata": {},
   "source": [
    "Exercise 141: Rename key of a dictionary\n",
    "    \n",
    "Write a program to rename a key city to a location in the following dictionary.\n",
    "\n",
    "sample_dict = {\n",
    "  \"name\": \"Kelly\",\n",
    "  \"age\":25,\n",
    "  \"salary\": 8000,\n",
    "  \"city\": \"New york\"\n",
    "}\n",
    "\n",
    "expected:\n",
    "    \n",
    "    {'name': 'Kelly', 'age': 25, 'salary': 8000, 'location': 'New york'}"
   ]
  },
  {
   "cell_type": "code",
   "execution_count": 126,
   "id": "3cea1df6",
   "metadata": {},
   "outputs": [
    {
     "name": "stdout",
     "output_type": "stream",
     "text": [
      "{'name': 'Kelly', 'age': 25, 'salary': 8000, 'location': 'New york'}\n"
     ]
    }
   ],
   "source": [
    "sample_dict = {\n",
    "  \"name\": \"Kelly\",\n",
    "  \"age\":25,\n",
    "  \"salary\": 8000,\n",
    "  \"city\": \"New york\"\n",
    "}\n",
    "\n",
    "sample_dict[\"location\"]=sample_dict.pop(\"city\")\n",
    "\n",
    "print(sample_dict)"
   ]
  },
  {
   "cell_type": "markdown",
   "id": "8d6362ff",
   "metadata": {},
   "source": [
    "Exercise 142: Get the key of a minimum value from the following dictionary\n",
    "    \n",
    "sample_dict = {\n",
    "  'Physics': 82,\n",
    "  'Math': 65,\n",
    "  'history': 75\n",
    "}\n",
    "\n",
    "Expected:\n",
    "\n",
    "math"
   ]
  },
  {
   "cell_type": "code",
   "execution_count": 129,
   "id": "e58afc89",
   "metadata": {},
   "outputs": [
    {
     "data": {
      "text/plain": [
       "'Math'"
      ]
     },
     "execution_count": 129,
     "metadata": {},
     "output_type": "execute_result"
    }
   ],
   "source": [
    "sample_dict = {\n",
    "  'Physics': 82,\n",
    "  'Math': 65,\n",
    "  'history': 75\n",
    "}\n",
    "\n",
    "list1=[]\n",
    "\n",
    "min(sample_dict,key=sample_dict.get)"
   ]
  },
  {
   "cell_type": "markdown",
   "id": "c4b4ed81",
   "metadata": {},
   "source": [
    "Exercise 143: Change value of a key in a nested dictionary\n",
    "    \n",
    "Write a Python program to change Brad’s salary to 8500 in the following dictionary.\n",
    "\n",
    "sample_dict = {\n",
    "    'emp1': {'name': 'Jhon', 'salary': 7500},\n",
    "    'emp2': {'name': 'Emma', 'salary': 8000},\n",
    "    'emp3': {'name': 'Brad', 'salary': 500}\n",
    "}\n",
    "\n",
    "\n",
    "expected output:\n",
    "\n",
    "{\n",
    "   'emp1': {'name': 'Jhon', 'salary': 7500},\n",
    "   'emp2': {'name': 'Emma', 'salary': 8000},\n",
    "   'emp3': {'name': 'Brad', 'salary': 8500}\n",
    "}"
   ]
  },
  {
   "cell_type": "code",
   "execution_count": 130,
   "id": "f05ee78c",
   "metadata": {},
   "outputs": [
    {
     "name": "stdout",
     "output_type": "stream",
     "text": [
      "{'emp1': {'name': 'Jhon', 'salary': 7500}, 'emp2': {'name': 'Emma', 'salary': 8000}, 'emp3': {'name': 'Brad', 'salary': 8500}}\n"
     ]
    }
   ],
   "source": [
    "sample_dict = {\n",
    "    'emp1': {'name': 'Jhon', 'salary': 7500},\n",
    "    'emp2': {'name': 'Emma', 'salary': 8000},\n",
    "    'emp3': {'name': 'Brad', 'salary': 500}\n",
    "}\n",
    "\n",
    "sample_dict[\"emp3\"][\"salary\"]=8500\n",
    "\n",
    "print(sample_dict)"
   ]
  },
  {
   "cell_type": "markdown",
   "id": "6b00d77d",
   "metadata": {},
   "source": [
    "# 9. Python Set Exercise with Solutions"
   ]
  },
  {
   "cell_type": "markdown",
   "id": "4b03d1aa",
   "metadata": {},
   "source": [
    "Exercise 144: Add a list of elements to a set\n",
    "    \n",
    "Given a Python list, Write a program to add all its elements into a given set.\n",
    "\n",
    "sample_set = {\"Yellow\", \"Orange\", \"Black\"}\n",
    "\n",
    "sample_list = [\"Blue\", \"Green\", \"Red\"]"
   ]
  },
  {
   "cell_type": "code",
   "execution_count": 135,
   "id": "db3b97be",
   "metadata": {},
   "outputs": [
    {
     "name": "stdout",
     "output_type": "stream",
     "text": [
      "{'Blue', 'Green', 'Black', 'Red', 'Orange', 'Yellow'}\n"
     ]
    }
   ],
   "source": [
    "sample_set = {\"Yellow\", \"Orange\", \"Black\"}\n",
    "\n",
    "sample_list = [\"Blue\", \"Green\", \"Red\"]\n",
    "\n",
    "sample_set.update(sample_list)\n",
    "\n",
    "print(sample_set)"
   ]
  },
  {
   "cell_type": "markdown",
   "id": "dda13b4b",
   "metadata": {},
   "source": [
    "Exercise 145: Return a new set of identical items from two sets\n",
    "    \n",
    "set1 = {10, 20, 30, 40, 50}\n",
    "\n",
    "set2 = {30, 40, 50, 60, 70}\n",
    "\n",
    "Expected output:\n",
    "    {40, 50, 30}"
   ]
  },
  {
   "cell_type": "code",
   "execution_count": 136,
   "id": "f08425d2",
   "metadata": {},
   "outputs": [
    {
     "name": "stdout",
     "output_type": "stream",
     "text": [
      "{40, 50, 30}\n"
     ]
    }
   ],
   "source": [
    "set1 = {10, 20, 30, 40, 50}\n",
    "\n",
    "set2 = {30, 40, 50, 60, 70}\n",
    "\n",
    "set3=set1.intersection(set2)\n",
    "\n",
    "print(set3)"
   ]
  },
  {
   "cell_type": "markdown",
   "id": "3961524e",
   "metadata": {},
   "source": [
    "Exercise 146: Get Only unique items from two sets\n",
    "\n",
    "Write a Python program to return a new set with unique items from both sets by removing duplicates.\n",
    "\n",
    "set1 = {10, 20, 30, 40, 50}\n",
    "\n",
    "set2 = {30, 40, 50, 60, 70}\n",
    "\n",
    "Expected:\n",
    "{70, 40, 10, 50, 20, 60, 30}"
   ]
  },
  {
   "cell_type": "code",
   "execution_count": 137,
   "id": "2525d5db",
   "metadata": {},
   "outputs": [
    {
     "name": "stdout",
     "output_type": "stream",
     "text": [
      "{70, 40, 10, 50, 20, 60, 30}\n"
     ]
    }
   ],
   "source": [
    "set1 = {10, 20, 30, 40, 50}\n",
    "\n",
    "set2 = {30, 40, 50, 60, 70}\n",
    "\n",
    "set3=set1.union(set2)\n",
    "\n",
    "print(set3)"
   ]
  },
  {
   "cell_type": "markdown",
   "id": "6066d1ab",
   "metadata": {},
   "source": [
    "Exercise 147: Update the first set with items that don’t exist in the second set\n",
    "    \n",
    "Given two Python sets, write a Python program to update the first set with items that exist only in the first set and not in the second set.\n",
    "\n",
    "set1 = {10, 20, 30}\n",
    "\n",
    "set2 = {20, 40, 50}\n",
    "\n",
    "expected result:\n",
    "\n",
    "set1 {10, 30}"
   ]
  },
  {
   "cell_type": "code",
   "execution_count": 141,
   "id": "8e705def",
   "metadata": {},
   "outputs": [
    {
     "name": "stdout",
     "output_type": "stream",
     "text": [
      "{10, 30}\n"
     ]
    }
   ],
   "source": [
    "set1 = {10, 20, 30}\n",
    "\n",
    "set2 = {20, 40, 50}\n",
    "\n",
    "set1.difference_update(set2)\n",
    "\n",
    "print(set1)\n"
   ]
  },
  {
   "cell_type": "markdown",
   "id": "af7490db",
   "metadata": {},
   "source": [
    "Exercise 148: Remove items from the set at once\n",
    "    \n",
    "Write a Python program to remove items 10, 20, 30 from the following set at once.\n",
    "\n",
    "set1 = {10, 20, 30, 40, 50}\n",
    "\n",
    "expected:\n",
    "    \n",
    "    {40, 50}"
   ]
  },
  {
   "cell_type": "code",
   "execution_count": 143,
   "id": "7a4c57af",
   "metadata": {},
   "outputs": [
    {
     "name": "stdout",
     "output_type": "stream",
     "text": [
      "{50, 40}\n"
     ]
    }
   ],
   "source": [
    "set1 = {10, 20, 30, 40, 50}\n",
    "\n",
    "set2={10,20,30}\n",
    "\n",
    "set1.difference_update(set2)\n",
    "\n",
    "print(set1)"
   ]
  },
  {
   "cell_type": "markdown",
   "id": "87d72b72",
   "metadata": {},
   "source": [
    "Exercise 149: Return a set of elements present in Set A or B, but not both\n",
    "    \n",
    "set1 = {10, 20, 30, 40, 50}\n",
    "\n",
    "set2 = {30, 40, 50, 60, 70}\n",
    "    \n",
    "Expected Output:\n",
    "\n",
    "{20, 70, 10, 60}"
   ]
  },
  {
   "cell_type": "code",
   "execution_count": 145,
   "id": "5bf67ba5",
   "metadata": {},
   "outputs": [
    {
     "data": {
      "text/plain": [
       "{10, 20, 60, 70}"
      ]
     },
     "execution_count": 145,
     "metadata": {},
     "output_type": "execute_result"
    }
   ],
   "source": [
    "set1 = {10, 20, 30, 40, 50}\n",
    "\n",
    "set2 = {30, 40, 50, 60, 70}\n",
    "\n",
    "set1.symmetric_difference(set2)"
   ]
  },
  {
   "cell_type": "markdown",
   "id": "98293a91",
   "metadata": {},
   "source": [
    "Exercise 150: Check if two sets have any elements in common. If yes, display the common elements\n",
    "\n",
    "set1 = {10, 20, 30, 40, 50}\n",
    "\n",
    "set2 = {60, 70, 80, 90, 10}\n",
    "\n",
    "expected:\n",
    "\n",
    "Two sets have items in common {10}"
   ]
  },
  {
   "cell_type": "code",
   "execution_count": 149,
   "id": "1fd646f6",
   "metadata": {},
   "outputs": [
    {
     "name": "stdout",
     "output_type": "stream",
     "text": [
      "{10}\n"
     ]
    }
   ],
   "source": [
    "set1 = {10, 20, 30, 40, 50}\n",
    "\n",
    "set2 = {60, 70, 80, 90, 10}\n",
    "\n",
    "if set1.isdisjoint(set2):\n",
    "    print(\"above two set dont have any common element\")\n",
    "else:\n",
    "    set1.intersection(set2)\n",
    "\n",
    "print(set1.intersection(set2))"
   ]
  },
  {
   "cell_type": "markdown",
   "id": "2d699e19",
   "metadata": {},
   "source": [
    "Exercise 151: Update set1 by adding items from set2, except common items\n",
    "    \n",
    "set1 = {10, 20, 30, 40, 50}\n",
    "\n",
    "set2 = {30, 40, 50, 60, 70}\n",
    "\n",
    "Expected;\n",
    "\n",
    "{70, 10, 20, 60}"
   ]
  },
  {
   "cell_type": "code",
   "execution_count": 152,
   "id": "2058d888",
   "metadata": {},
   "outputs": [
    {
     "name": "stdout",
     "output_type": "stream",
     "text": [
      "{20, 70, 10, 60}\n"
     ]
    }
   ],
   "source": [
    "set1 = {10, 20, 30, 40, 50}\n",
    "\n",
    "set2 = {30, 40, 50, 60, 70}\n",
    "\n",
    "set1.symmetric_difference_update(set2)\n",
    "\n",
    "print(set1)"
   ]
  },
  {
   "cell_type": "markdown",
   "id": "30274ed7",
   "metadata": {},
   "source": [
    "Exercise 152: Remove items from set1 that are common to both set1 and set2\n",
    "\n",
    "set1 = {10, 20, 30, 40, 50}\n",
    "\n",
    "set2 = {30, 40, 50, 60, 70}\n",
    "\n",
    "Expected output:\n",
    "\n",
    "{40, 50, 30}"
   ]
  },
  {
   "cell_type": "code",
   "execution_count": 156,
   "id": "d8c1e4cc",
   "metadata": {},
   "outputs": [
    {
     "data": {
      "text/plain": [
       "{30, 40, 50}"
      ]
     },
     "execution_count": 156,
     "metadata": {},
     "output_type": "execute_result"
    }
   ],
   "source": [
    "set1 = {10, 20, 30, 40, 50}\n",
    "\n",
    "set2 = {30, 40, 50, 60, 70}\n",
    "\n",
    "set1.intersection_update(set2)\n",
    "\n",
    "set1"
   ]
  },
  {
   "cell_type": "markdown",
   "id": "326ec939",
   "metadata": {},
   "source": [
    "# 10. Python Tuple Exercise with Solutions"
   ]
  },
  {
   "cell_type": "markdown",
   "id": "81827e0d",
   "metadata": {},
   "source": [
    "Exercise 153: Reverse the tuple\n",
    "    \n",
    "    tuple1 = (10, 20, 30, 40, 50)"
   ]
  },
  {
   "cell_type": "code",
   "execution_count": 157,
   "id": "92f94a66",
   "metadata": {},
   "outputs": [
    {
     "data": {
      "text/plain": [
       "(50, 40, 30, 20, 10)"
      ]
     },
     "execution_count": 157,
     "metadata": {},
     "output_type": "execute_result"
    }
   ],
   "source": [
    "tuple1 = (10, 20, 30, 40, 50)\n",
    "\n",
    "tuple1[::-1]"
   ]
  },
  {
   "cell_type": "markdown",
   "id": "4d8e98e7",
   "metadata": {},
   "source": [
    "Exercise 154: Access value 20 from the tuple\n",
    "\n",
    "The given tuple is a nested tuple. write a Python program to print the value 20.\n",
    "\n",
    "tuple1 = (\"Orange\", [10, 20, 30], (5, 15, 25))"
   ]
  },
  {
   "cell_type": "code",
   "execution_count": 158,
   "id": "a0b87cd8",
   "metadata": {},
   "outputs": [
    {
     "data": {
      "text/plain": [
       "20"
      ]
     },
     "execution_count": 158,
     "metadata": {},
     "output_type": "execute_result"
    }
   ],
   "source": [
    "tuple1 = (\"Orange\", [10, 20, 30], (5, 15, 25))\n",
    "\n",
    "tuple1[1][1]"
   ]
  },
  {
   "cell_type": "markdown",
   "id": "67028deb",
   "metadata": {},
   "source": [
    "Exercise 155: Create a tuple with single item 50"
   ]
  },
  {
   "cell_type": "code",
   "execution_count": 159,
   "id": "ae3aff4a",
   "metadata": {},
   "outputs": [
    {
     "name": "stdout",
     "output_type": "stream",
     "text": [
      "(50,)\n"
     ]
    }
   ],
   "source": [
    "tuple1=(50,)\n",
    "\n",
    "print(tuple1)"
   ]
  },
  {
   "cell_type": "markdown",
   "id": "fd1d411f",
   "metadata": {},
   "source": [
    "Exercise 156: Unpack the tuple into 4 variables\n",
    "    \n",
    "Write a program to unpack the following tuple into four variables and display each variable.\n",
    "\n",
    "tuple1 = (10, 20, 30, 40)\n",
    "* your code\n",
    "\n",
    "print(a) # should print 10\n",
    "\n",
    "print(b) # should print 20\n",
    "\n",
    "print(c) # should print 30\n",
    "\n",
    "print(d) # should print 40"
   ]
  },
  {
   "cell_type": "code",
   "execution_count": 160,
   "id": "e61429ab",
   "metadata": {},
   "outputs": [
    {
     "name": "stdout",
     "output_type": "stream",
     "text": [
      "10\n",
      "20\n",
      "30\n",
      "40\n"
     ]
    }
   ],
   "source": [
    "tuple1 = (10, 20, 30, 40)\n",
    "\n",
    "a,b,c,d=tuple1\n",
    "\n",
    "print(a)\n",
    "print(b)\n",
    "print(c)\n",
    "print(d)"
   ]
  },
  {
   "cell_type": "markdown",
   "id": "cfb40b7e",
   "metadata": {},
   "source": [
    "Exercise 157: Swap two tuples in Python\n",
    "    \n",
    "tuple1 = (11, 22)\n",
    "    \n",
    "tuple2 = (99, 88)"
   ]
  },
  {
   "cell_type": "code",
   "execution_count": 163,
   "id": "63ad2ae4",
   "metadata": {},
   "outputs": [
    {
     "name": "stdout",
     "output_type": "stream",
     "text": [
      "tuple1 (99, 88)\n",
      "tuple2 (11, 22)\n"
     ]
    }
   ],
   "source": [
    "tuple1 = (11, 22)\n",
    "    \n",
    "tuple2 = (99, 88)\n",
    "\n",
    "tuple1,tuple2=tuple2,tuple1\n",
    "\n",
    "print(\"tuple1\",tuple1)\n",
    "print(\"tuple2\",tuple2)"
   ]
  },
  {
   "cell_type": "markdown",
   "id": "50b3dbd9",
   "metadata": {},
   "source": [
    "Exercise 158: Copy specific elements from one tuple to a new tuple\n",
    "Write a program to copy elements 44 and 55 from the following tuple into a new tuple.\n",
    "\n",
    "tuple1 = (11, 22, 33, 44, 55, 66)\n",
    "\n",
    "Expected\n",
    "\n",
    "tuple2: (44, 55)"
   ]
  },
  {
   "cell_type": "code",
   "execution_count": 164,
   "id": "2c73d8dc",
   "metadata": {},
   "outputs": [
    {
     "name": "stdout",
     "output_type": "stream",
     "text": [
      "(44, 55)\n"
     ]
    }
   ],
   "source": [
    "tuple1 = (11, 22, 33, 44, 55, 66)\n",
    "\n",
    "tuple2=tuple1[3:5]\n",
    "\n",
    "print(tuple2)"
   ]
  },
  {
   "cell_type": "markdown",
   "id": "61d2a451",
   "metadata": {},
   "source": [
    "Exercise 159: Modify the tuple\n",
    "\n",
    "Given is a nested tuple. Write a program to modify the first item (22) of a list inside a following tuple to 222\n",
    "\n",
    "tuple1 = (11, [22, 33], 44, 55)\n",
    "\n",
    "Expected\n",
    "\n",
    "tuple1: (11, [222, 33], 44, 55)"
   ]
  },
  {
   "cell_type": "code",
   "execution_count": 167,
   "id": "669e3967",
   "metadata": {},
   "outputs": [
    {
     "data": {
      "text/plain": [
       "(11, [222, 33], 44, 55)"
      ]
     },
     "execution_count": 167,
     "metadata": {},
     "output_type": "execute_result"
    }
   ],
   "source": [
    "tuple1 = (11, [22, 33], 44, 55)\n",
    "\n",
    "tuple1[1][0]=222\n",
    "\n",
    "tuple1"
   ]
  },
  {
   "cell_type": "markdown",
   "id": "58287f3c",
   "metadata": {},
   "source": [
    "Exercise 160: Sort a tuple of tuples by 2nd item\n",
    "    \n",
    "    tuple1 = (('a', 23),('b', 37),('c', 11), ('d',29))\n",
    "    \n",
    "Expected:\n",
    "    \n",
    "    (('c', 11), ('a', 23), ('d', 29), ('b', 37))"
   ]
  },
  {
   "cell_type": "code",
   "execution_count": 175,
   "id": "da7985d9",
   "metadata": {},
   "outputs": [
    {
     "data": {
      "text/plain": [
       "(('c', 11), ('a', 23), ('d', 29), ('b', 37))"
      ]
     },
     "execution_count": 175,
     "metadata": {},
     "output_type": "execute_result"
    }
   ],
   "source": [
    "tuple1 = (('a', 23),('b', 37),('c', 11), ('d',29))\n",
    "\n",
    "tuple1=sorted(list(tuple1),key=lambda x:x[1])\n",
    "\n",
    "tuple(tuple1)\n"
   ]
  },
  {
   "cell_type": "markdown",
   "id": "4882cbc4",
   "metadata": {},
   "source": [
    "Exercise 161: Counts the number of occurrences of item 50 from a tuple\n",
    "    \n",
    "    tuple1 = (50, 10, 60, 70, 50)"
   ]
  },
  {
   "cell_type": "code",
   "execution_count": 176,
   "id": "b2f3af2a",
   "metadata": {},
   "outputs": [
    {
     "data": {
      "text/plain": [
       "2"
      ]
     },
     "execution_count": 176,
     "metadata": {},
     "output_type": "execute_result"
    }
   ],
   "source": [
    "tuple1 = (50, 10, 60, 70, 50)\n",
    "\n",
    "tuple1.count(50)"
   ]
  },
  {
   "cell_type": "markdown",
   "id": "3aaa3c2b",
   "metadata": {},
   "source": [
    "Exercise 162: Check if all items in the tuple are the same\n",
    "    \n",
    "tuple1 = (45, 45, 45, 45)"
   ]
  },
  {
   "cell_type": "code",
   "execution_count": 199,
   "id": "5c2bf58e",
   "metadata": {},
   "outputs": [
    {
     "name": "stdout",
     "output_type": "stream",
     "text": [
      "yes all the item are same in the given tuple\n"
     ]
    }
   ],
   "source": [
    "t = (45, 45, 45, 45)\n",
    "\n",
    "#to check whether all the item are same\n",
    "\n",
    "all_same=all(i==t[0] for i in t)\n",
    "\n",
    "if all_same:\n",
    "    print(\"yes all the item are same in the given tuple\")\n",
    "else:\n",
    "    print(\"No all the item are not same in the given table\")"
   ]
  },
  {
   "cell_type": "markdown",
   "id": "b68fb224",
   "metadata": {},
   "source": [
    "# 11. Python Date and Time Exercise with Solutions"
   ]
  },
  {
   "cell_type": "markdown",
   "id": "cd3acf4f",
   "metadata": {},
   "source": [
    "Exercise 163: Print current date and time in Python"
   ]
  },
  {
   "cell_type": "code",
   "execution_count": 201,
   "id": "cc48bdaf",
   "metadata": {},
   "outputs": [
    {
     "name": "stdout",
     "output_type": "stream",
     "text": [
      "2023-05-24 15:12:07.167241\n",
      "15:12:07.167241\n"
     ]
    }
   ],
   "source": [
    "import datetime\n",
    "\n",
    "# for date and time\n",
    "print(datetime.datetime.now())\n",
    "\n",
    "# for time only\n",
    "print(datetime.datetime.now().time())"
   ]
  },
  {
   "cell_type": "markdown",
   "id": "7d5cb8e7",
   "metadata": {},
   "source": [
    "Exercise 164: Convert string into a datetime object\n",
    "    \n",
    "For example, You received the following date in string format. Please convert it into Python’s DateTime object\n",
    "\n",
    "date_string = \"Feb 25 2020 4:20PM\""
   ]
  },
  {
   "cell_type": "code",
   "execution_count": 210,
   "id": "b38a6855",
   "metadata": {},
   "outputs": [
    {
     "name": "stdout",
     "output_type": "stream",
     "text": [
      "2020-02-25 16:20:00\n"
     ]
    }
   ],
   "source": [
    "from datetime import datetime\n",
    "\n",
    "date_string=\"Feb 25 2020 4:20PM\"\n",
    "\n",
    "date_time_object=datetime.strptime(date_string,\"%b %d %Y %I:%M%p\")\n",
    "\n",
    "print(date_time_object)"
   ]
  },
  {
   "cell_type": "markdown",
   "id": "2f8379f8",
   "metadata": {},
   "source": [
    "Exercise 165: Subtract a week (7 days)  from a given date in Python\n",
    "    \n",
    "    given_date = datetime(2020, 2, 25)\n",
    "    \n",
    "expected date:\n",
    "    \n",
    "    2020-02-18"
   ]
  },
  {
   "cell_type": "code",
   "execution_count": 212,
   "id": "41293ead",
   "metadata": {},
   "outputs": [
    {
     "name": "stdout",
     "output_type": "stream",
     "text": [
      "2020-02-25 00:00:00\n",
      "2020-02-18 00:00:00\n"
     ]
    }
   ],
   "source": [
    "given_date = datetime(2020, 2, 25)\n",
    "\n",
    "from datetime import datetime ,timedelta\n",
    "\n",
    "print(given_date)\n",
    "\n",
    "days_to_substract=7\n",
    "\n",
    "res_date=given_date-timedelta(days_to_substract)\n",
    "\n",
    "print(res_date)"
   ]
  },
  {
   "cell_type": "markdown",
   "id": "1cf35b5d",
   "metadata": {},
   "source": [
    "Exercise 166: Print a date in a the following format\n",
    "    \n",
    "    given_date = datetime(2020, 2, 25)\n",
    "    \n",
    "expected:\n",
    "    \n",
    "    Tuesday 25 February 2020"
   ]
  },
  {
   "cell_type": "code",
   "execution_count": 217,
   "id": "f94d97dd",
   "metadata": {},
   "outputs": [
    {
     "data": {
      "text/plain": [
       "'Tuesday 25 Feb 2020'"
      ]
     },
     "execution_count": 217,
     "metadata": {},
     "output_type": "execute_result"
    }
   ],
   "source": [
    "from datetime import datetime\n",
    "\n",
    "given_date = datetime(2020, 2, 25)\n",
    "\n",
    "given_date.strftime(\"%A %d %b %Y\")"
   ]
  },
  {
   "cell_type": "markdown",
   "id": "20a83e7c",
   "metadata": {},
   "source": [
    "Exercise 167: Find the day of the week of a given date\n",
    "    \n",
    "Given:\n",
    "\n",
    "given_date = datetime(2020, 7, 26)\n",
    "\n",
    "\n",
    "Expected output:\n",
    "\n",
    "Sunday"
   ]
  },
  {
   "cell_type": "code",
   "execution_count": 218,
   "id": "3969944c",
   "metadata": {},
   "outputs": [
    {
     "data": {
      "text/plain": [
       "'Sunday'"
      ]
     },
     "execution_count": 218,
     "metadata": {},
     "output_type": "execute_result"
    }
   ],
   "source": [
    "given_date = datetime(2020, 7, 26)\n",
    "\n",
    "given_date.strftime(\"%A\")"
   ]
  },
  {
   "cell_type": "markdown",
   "id": "d5e5c3a5",
   "metadata": {},
   "source": [
    "Exercise 168: Add a week (7 days) and 12 hours to a given date\n",
    "\n",
    "Given:\n",
    "\n",
    "#2020-03-22 10:00:00\n",
    "\n",
    "given_date = datetime(2020, 3, 22, 10, 0, 0)\n",
    "\n",
    "Expected output:\n",
    "\n",
    "2020-03-29 22:00:00"
   ]
  },
  {
   "cell_type": "code",
   "execution_count": 221,
   "id": "1d9e6963",
   "metadata": {},
   "outputs": [
    {
     "name": "stdout",
     "output_type": "stream",
     "text": [
      "new date will be: \n",
      " 2020-03-29 10:00:12\n"
     ]
    }
   ],
   "source": [
    "given_date = datetime(2020, 3, 22, 10, 0, 0)\n",
    "\n",
    "days_to_add=7\n",
    "\n",
    "res_date=given_date+timedelta(days_to_add,12)\n",
    "\n",
    "print(\"new date will be: \\n\",res_date)"
   ]
  },
  {
   "cell_type": "markdown",
   "id": "9025be0d",
   "metadata": {},
   "source": [
    "Exercise 169: Print current time in milliseconds"
   ]
  },
  {
   "cell_type": "code",
   "execution_count": 222,
   "id": "4790954d",
   "metadata": {},
   "outputs": [
    {
     "name": "stdout",
     "output_type": "stream",
     "text": [
      "1684923177395\n"
     ]
    }
   ],
   "source": [
    "import time\n",
    "\n",
    "milliseconds=int(round(time.time()*1000))\n",
    "\n",
    "print(milliseconds)"
   ]
  },
  {
   "cell_type": "markdown",
   "id": "d50a550f",
   "metadata": {},
   "source": [
    "Exercise 170: Convert the following datetime into a string\n",
    "    \n",
    "Given:\n",
    "\n",
    "given_date = datetime(2020, 2, 25)\n",
    "\n",
    "Expected output:\n",
    "\n",
    "\"2020-02-25 00:00:00\""
   ]
  },
  {
   "cell_type": "code",
   "execution_count": 227,
   "id": "d3650312",
   "metadata": {},
   "outputs": [
    {
     "data": {
      "text/plain": [
       "'2020-02-25 00:00:00'"
      ]
     },
     "execution_count": 227,
     "metadata": {},
     "output_type": "execute_result"
    }
   ],
   "source": [
    "given_date = datetime(2020, 2, 25)\n",
    "\n",
    "string_date=given_date.strftime(\"%Y-%m-%d %H:%M:%S\")\n",
    "\n",
    "string_date"
   ]
  },
  {
   "cell_type": "markdown",
   "id": "631b3f12",
   "metadata": {},
   "source": [
    "Exercise 171: Calculate the date 4 months from the current date\n",
    "\n",
    "Given:\n",
    "\n",
    "#2020-02-25\n",
    "\n",
    "given_date = datetime(2020, 2, 25).date()\n",
    "\n",
    "Expected output:\n",
    "\n",
    "2020-06-25"
   ]
  },
  {
   "cell_type": "code",
   "execution_count": 233,
   "id": "6f253f6f",
   "metadata": {},
   "outputs": [
    {
     "name": "stdout",
     "output_type": "stream",
     "text": [
      "2020-06-25\n"
     ]
    }
   ],
   "source": [
    "# 2020-02-25\n",
    "\n",
    "from dateutil.relativedelta import relativedelta\n",
    "\n",
    "given_date = datetime(2020, 2, 25).date()\n",
    "\n",
    "months_to_add=4\n",
    "\n",
    "result_date=given_date+relativedelta(months= + months_to_add)\n",
    "\n",
    "print(result_date)"
   ]
  },
  {
   "cell_type": "markdown",
   "id": "c8e4afce",
   "metadata": {},
   "source": [
    "Exercise 172: Calculate number of days between two given dates\n",
    "    \n",
    "Given:\n",
    "\n",
    "#2020-02-25\n",
    "\n",
    "date_1 = datetime(2020, 2, 25)\n",
    "\n",
    "#2020-09-17\n",
    "\n",
    "date_2 = datetime(2020, 9, 17)\n",
    "\n",
    "Expected output:\n",
    "\n",
    "205 days"
   ]
  },
  {
   "cell_type": "code",
   "execution_count": 237,
   "id": "eec8884b",
   "metadata": {},
   "outputs": [
    {
     "name": "stdout",
     "output_type": "stream",
     "text": [
      "Difference of the days will be: \n",
      " 205\n"
     ]
    }
   ],
   "source": [
    "# 2020-02-25\n",
    "date_1 = datetime(2020, 2, 25).date()\n",
    "\n",
    "# 2020-09-17\n",
    "date_2 = datetime(2020, 9, 17).date()\n",
    "\n",
    "delta=None\n",
    "\n",
    "if date_1>date_2:\n",
    "    delta=date_1-date_2\n",
    "    \n",
    "else:\n",
    "    delta=date_2-date_1\n",
    "    \n",
    "print(\"Difference of the days will be: \\n\",delta.days)"
   ]
  },
  {
   "cell_type": "markdown",
   "id": "ca80add9",
   "metadata": {},
   "source": [
    "# 12.Python Object-Oriented Programming (OOP) Exercise: Classes and Objects Exercises"
   ]
  },
  {
   "cell_type": "markdown",
   "id": "80b93039",
   "metadata": {},
   "source": [
    "OOP Exercise 173: Create a Class with instance attributes\n",
    "\n",
    "Write a Python program to create a Vehicle class with max_speed and mileage instance attributes."
   ]
  },
  {
   "cell_type": "code",
   "execution_count": 249,
   "id": "7dd25893",
   "metadata": {},
   "outputs": [
    {
     "name": "stdout",
     "output_type": "stream",
     "text": [
      "120 15\n"
     ]
    }
   ],
   "source": [
    "class Vehicle:\n",
    "    def __init__ (self,max_speed,mileage):\n",
    "        self.max_speed=max_speed\n",
    "        self.mileage=mileage\n",
    "        \n",
    "maruti=Vehicle(120,15)\n",
    "\n",
    "print(maruti.max_speed,maruti.mileage)"
   ]
  },
  {
   "cell_type": "markdown",
   "id": "ddd9aafd",
   "metadata": {},
   "source": [
    "OOP Exercise 174: Create a Vehicle class without any variables and methods"
   ]
  },
  {
   "cell_type": "code",
   "execution_count": 250,
   "id": "486215a8",
   "metadata": {},
   "outputs": [],
   "source": [
    "class Vehicle:\n",
    "    pass"
   ]
  },
  {
   "cell_type": "markdown",
   "id": "ae238a14",
   "metadata": {},
   "source": [
    "OOP Exercise 3: Create a child class Bus that will inherit all of the variables and methods of the Vehicle class"
   ]
  },
  {
   "cell_type": "code",
   "execution_count": 252,
   "id": "ee39eb37",
   "metadata": {},
   "outputs": [
    {
     "name": "stdout",
     "output_type": "stream",
     "text": [
      "70 10\n"
     ]
    }
   ],
   "source": [
    "class Vehicle:\n",
    "    def __init__ (self,max_speed,mileage):\n",
    "        self.max_speed=max_speed\n",
    "        self.mileage=mileage\n",
    "        \n",
    "class Bus(Vehicle):\n",
    "    pass\n",
    "\n",
    "School_bus=Bus(70,10)\n",
    "print(School_bus.max_speed,School_bus.mileage)\n",
    "    "
   ]
  },
  {
   "cell_type": "markdown",
   "id": "40119af9",
   "metadata": {},
   "source": [
    "OOP Exercise 175: Class Inheritance\n",
    "\n",
    "Given:\n",
    "\n",
    "Create a Bus class that inherits from the Vehicle class. Give the capacity argument of Bus.seating_capacity() a default value of 50.\n",
    "\n",
    "Use the following code for your parent Vehicle class."
   ]
  },
  {
   "cell_type": "code",
   "execution_count": 5,
   "id": "bffae52c",
   "metadata": {},
   "outputs": [],
   "source": [
    "class Vehicle:\n",
    "\n",
    "    def __init__(self, name, max_speed, mileage):\n",
    "        self.name = name\n",
    "        self.max_speed = max_speed\n",
    "        self.mileage = mileage\n",
    "        \n",
    "    def sitting_capacity(self,capacity):\n",
    "        return f\"sitting capacity of bus {self.name} is {capacity} passanger\""
   ]
  },
  {
   "cell_type": "code",
   "execution_count": 6,
   "id": "d046c1ea",
   "metadata": {},
   "outputs": [],
   "source": [
    "class Bus(Vehicle):\n",
    "    #assign defualt value to capacity 50\n",
    "    def sitting_capacity(self,capacity=50):\n",
    "        return super().sitting_capacity(capacity=50)"
   ]
  },
  {
   "cell_type": "code",
   "execution_count": 14,
   "id": "a30ee69c",
   "metadata": {},
   "outputs": [],
   "source": [
    "School_bus=Bus(\"Volvo\",120,23)"
   ]
  },
  {
   "cell_type": "code",
   "execution_count": 12,
   "id": "fd13a3b4",
   "metadata": {},
   "outputs": [
    {
     "data": {
      "text/plain": [
       "'sitting capacity of bus Volvo is 50 passanger'"
      ]
     },
     "execution_count": 12,
     "metadata": {},
     "output_type": "execute_result"
    }
   ],
   "source": [
    "School_bus.sitting_capacity()"
   ]
  },
  {
   "cell_type": "markdown",
   "id": "3e8ae0eb",
   "metadata": {},
   "source": [
    "OOP Exercise 176: Define a property that must have the same value for every class instance (object)\n",
    "Define a class attribute”color” with a default value white. I.e., Every Vehicle should be white."
   ]
  },
  {
   "cell_type": "code",
   "execution_count": 34,
   "id": "68ab8c4f",
   "metadata": {},
   "outputs": [],
   "source": [
    "class Vehicle:\n",
    "    \n",
    "    Color=\"White\"\n",
    "    \n",
    "    def __init__(self, name, max_speed, mileage):\n",
    "        self.name = name\n",
    "        self.max_speed = max_speed\n",
    "        self.mileage = mileage\n",
    "\n",
    "class Bus(Vehicle):\n",
    "    pass\n",
    "\n",
    "class Car(Vehicle):\n",
    "    pass"
   ]
  },
  {
   "cell_type": "code",
   "execution_count": 37,
   "id": "6aa2f614",
   "metadata": {},
   "outputs": [
    {
     "name": "stdout",
     "output_type": "stream",
     "text": [
      "Volvo White 120 23\n"
     ]
    }
   ],
   "source": [
    "School_bus=Bus(\"Volvo\",120,23)\n",
    "print(School_bus.name,School_bus.Color,School_bus.max_speed,School_bus.mileage)"
   ]
  },
  {
   "cell_type": "code",
   "execution_count": 39,
   "id": "666536ff",
   "metadata": {},
   "outputs": [
    {
     "name": "stdout",
     "output_type": "stream",
     "text": [
      "Swift White 90 41\n"
     ]
    }
   ],
   "source": [
    "Maruti=Car(\"Swift\",90,41)\n",
    "print(Maruti.name,Maruti.Color,Maruti.max_speed,Maruti.mileage)"
   ]
  },
  {
   "cell_type": "markdown",
   "id": "1507d9d0",
   "metadata": {},
   "source": [
    "OOP Exercise 177: Class Inheritance\n",
    "Given:\n",
    "\n",
    "Create a Bus child class that inherits from the Vehicle class. The default fare charge of any vehicle is seating capacity * 100. If Vehicle is Bus instance, we need to add an extra 10% on full fare as a maintenance charge. So total fare for bus instance will become the final amount = total fare + 10% of the total fare.\n",
    "\n",
    "Note: The bus seating capacity is 50. so the final fare amount should be 5500. You need to override the fare() method of a Vehicle class in Bus class."
   ]
  },
  {
   "cell_type": "code",
   "execution_count": 46,
   "id": "28c85ef2",
   "metadata": {},
   "outputs": [
    {
     "name": "stdout",
     "output_type": "stream",
     "text": [
      "Total Bus fare is: 5500.0\n"
     ]
    }
   ],
   "source": [
    "class Vehicle:\n",
    "    def __init__(self, name, mileage, capacity):\n",
    "        self.name = name\n",
    "        self.mileage = mileage\n",
    "        self.capacity = capacity\n",
    "\n",
    "    def fare(self):\n",
    "        return self.capacity * 100\n",
    "\n",
    "class Bus(Vehicle):\n",
    "    def fare(self):\n",
    "        amount=super().fare()\n",
    "        amount+=amount*0.1\n",
    "        return amount\n",
    "\n",
    "School_bus = Bus(\"School Volvo\", 12, 50)\n",
    "print(\"Total Bus fare is:\", School_bus.fare())"
   ]
  },
  {
   "cell_type": "markdown",
   "id": "405e990b",
   "metadata": {},
   "source": [
    "OOP Exercise 178: Check type of an object\n",
    "\n",
    "Write a program to determine which class a given Bus object belongs to."
   ]
  },
  {
   "cell_type": "code",
   "execution_count": 47,
   "id": "56f0af1b",
   "metadata": {},
   "outputs": [],
   "source": [
    "class Vehicle:\n",
    "    def __init__(self, name, mileage, capacity):\n",
    "        self.name = name\n",
    "        self.mileage = mileage\n",
    "        self.capacity = capacity\n",
    "\n",
    "class Bus(Vehicle):\n",
    "    pass\n",
    "\n",
    "School_bus = Bus(\"School Volvo\", 12, 50)"
   ]
  },
  {
   "cell_type": "code",
   "execution_count": 48,
   "id": "e9f0e246",
   "metadata": {},
   "outputs": [
    {
     "data": {
      "text/plain": [
       "__main__.Bus"
      ]
     },
     "execution_count": 48,
     "metadata": {},
     "output_type": "execute_result"
    }
   ],
   "source": [
    "type(School_bus)"
   ]
  },
  {
   "cell_type": "code",
   "execution_count": 49,
   "id": "517c86d3",
   "metadata": {},
   "outputs": [],
   "source": [
    "# so given object is belong to class bus"
   ]
  },
  {
   "cell_type": "markdown",
   "id": "4060f6fe",
   "metadata": {},
   "source": [
    "OOP Exercise 179: Determine if School_bus is also an instance of the Vehicle class"
   ]
  },
  {
   "cell_type": "code",
   "execution_count": 50,
   "id": "6b74ec29",
   "metadata": {},
   "outputs": [],
   "source": [
    "class Vehicle:\n",
    "    def __init__(self, name, mileage, capacity):\n",
    "        self.name = name\n",
    "        self.mileage = mileage\n",
    "        self.capacity = capacity\n",
    "\n",
    "class Bus(Vehicle):\n",
    "    pass\n",
    "\n",
    "School_bus = Bus(\"School Volvo\", 12, 50)"
   ]
  },
  {
   "cell_type": "code",
   "execution_count": 52,
   "id": "337076c5",
   "metadata": {},
   "outputs": [
    {
     "data": {
      "text/plain": [
       "True"
      ]
     },
     "execution_count": 52,
     "metadata": {},
     "output_type": "execute_result"
    }
   ],
   "source": [
    "isinstance(School_bus,Vehicle)"
   ]
  },
  {
   "cell_type": "markdown",
   "id": "53fadb2c",
   "metadata": {},
   "source": [
    "# 13. Python JSON(Java Script Object Notation) Exercise"
   ]
  },
  {
   "cell_type": "markdown",
   "id": "51868623",
   "metadata": {},
   "source": [
    "Exercise 180: Convert the following dictionary into JSON format\n",
    "\n",
    "data = {\"key1\" : \"value1\", \"key2\" : \"value2\"}\n",
    "\n",
    "Expected Output:\n",
    "\n",
    "data = {\"key1\" : \"value1\", \"key2\" : \"value2\"}"
   ]
  },
  {
   "cell_type": "code",
   "execution_count": 59,
   "id": "4f930374",
   "metadata": {},
   "outputs": [
    {
     "name": "stdout",
     "output_type": "stream",
     "text": [
      "{\"key1\": \"value1\", \"key2\": \"value2\"}\n"
     ]
    }
   ],
   "source": [
    "import json\n",
    "\n",
    "data = {\"key1\" : \"value1\", \"key2\" : \"value2\"}   \n",
    "\n",
    "jsondata=json.dumps(data)   #dict converted to string\n",
    "\n",
    "print(jsondata)"
   ]
  },
  {
   "cell_type": "markdown",
   "id": "2efbf026",
   "metadata": {},
   "source": [
    "Exercise 181: Access the value of key2 from the following JSON\n",
    "\n",
    "import json\n",
    "\n",
    "sampleJson = \"\"\"{\"key1\": \"value1\", \"key2\": \"value2\"}\"\"\"\n",
    "\n",
    "#write code to print the value of key2\n",
    "\n",
    "Expected Output:\n",
    "\n",
    "value2"
   ]
  },
  {
   "cell_type": "code",
   "execution_count": 60,
   "id": "f43397f7",
   "metadata": {},
   "outputs": [
    {
     "data": {
      "text/plain": [
       "'value2'"
      ]
     },
     "execution_count": 60,
     "metadata": {},
     "output_type": "execute_result"
    }
   ],
   "source": [
    "sampleJson =\"\"\"{\"key1\": \"value1\", \"key2\": \"value2\"}\"\"\"\n",
    "\n",
    "data=json.loads(sampleJson)   # converted to dictionary\n",
    "\n",
    "data[\"key2\"]"
   ]
  },
  {
   "cell_type": "markdown",
   "id": "ed3f9419",
   "metadata": {},
   "source": [
    "Exercise 182: PrettyPrint following JSON data\n",
    "    \n",
    "PrettyPrint following JSON data with indent level 2 and key-value separators should be (\",\", \" = \").\n",
    "\n",
    "sampleJson = {\"key1\": \"value1\", \"key2\": \"value2\"}\n",
    "\n",
    "Expected Output:\n",
    "\n",
    "{\n",
    "\n",
    "  \"key1\" = \"value1\",\n",
    "  \n",
    "  \"key2\" = \"value2\",\n",
    "  \n",
    "  \"key3\" = \"value3\"\n",
    "  \n",
    "}"
   ]
  },
  {
   "cell_type": "code",
   "execution_count": 75,
   "id": "293e001b",
   "metadata": {},
   "outputs": [
    {
     "name": "stdout",
     "output_type": "stream",
     "text": [
      "{\n",
      "  \"key1\"=\"value1\",\n",
      "  \"key2\"=\"value2\",\n",
      "  \"key3\"=\"value3\"\n",
      "}\n"
     ]
    }
   ],
   "source": [
    "sampleJson = {\"key1\" : \"value1\", \"key2\" : \"value2\", \"key3\" : \"value3\"}\n",
    "\n",
    "PrettyPrintedJson = json.dumps(sampleJson,indent=2,separators=(\",\",\"=\"))\n",
    "\n",
    "print(PrettyPrintedJson)"
   ]
  },
  {
   "cell_type": "markdown",
   "id": "c17cbc9e",
   "metadata": {},
   "source": [
    "Exercise 183: Sort JSON keys in and write them into a file\n",
    "\n",
    "Sort following JSON data alphabetical order of keys\n",
    "\n",
    "sampleJson = {\"id\" : 1, \"name\" : \"value2\", \"age\" : 29}\n",
    "\n",
    "Expected Output:\n",
    "\n",
    "{\n",
    "\n",
    "    \"age\": 29,\n",
    "    \n",
    "    \"id\": 1,\n",
    "    \n",
    "    \"name\": \"value2\"\n",
    "    \n",
    "}"
   ]
  },
  {
   "cell_type": "code",
   "execution_count": 78,
   "id": "fde2a5a5",
   "metadata": {},
   "outputs": [
    {
     "name": "stdout",
     "output_type": "stream",
     "text": [
      "Done writing data into Json file\n"
     ]
    }
   ],
   "source": [
    "sampleJson = {\"id\" : 1, \"name\" : \"value2\", \"age\" : 29}\n",
    "\n",
    "with open (\"sampleJson.json\",\"w\") as write_file:\n",
    "    json.dump(sampleJson,write_file,indent=4,sort_keys=True)\n",
    "    \n",
    "print(\"Done writing data into Json file\")"
   ]
  },
  {
   "attachments": {
    "Capture.PNG": {
     "image/png": "[encoded data removed]"
    }
   },
   "cell_type": "markdown",
   "id": "c99f645d",
   "metadata": {},
   "source": [
    "Exercise 184: Access the nested key ‘salary’ from the following JSON\n",
    "![Capture.PNG](attachment:Capture.PNG)"
   ]
  },
  {
   "cell_type": "code",
   "execution_count": 84,
   "id": "f798a97a",
   "metadata": {},
   "outputs": [
    {
     "name": "stdout",
     "output_type": "stream",
     "text": [
      "7000\n"
     ]
    }
   ],
   "source": [
    "import json\n",
    "\n",
    "sampleJson = \"\"\"{ \n",
    "   \"company\":{ \n",
    "      \"employee\":{ \n",
    "         \"name\":\"emma\",\n",
    "         \"payble\":{ \n",
    "            \"salary\":7000,\n",
    "            \"bonus\":800\n",
    "         }\n",
    "      }\n",
    "   }\n",
    "}\"\"\"\n",
    "\n",
    "data=json.loads(sampleJson)\n",
    "\n",
    "print(data[\"company\"][\"employee\"][\"payble\"][\"salary\"])"
   ]
  },
  {
   "attachments": {
    "JSON.JPG": {
     "image/jpeg": "[encoded data removed]"
    }
   },
   "cell_type": "markdown",
   "id": "e8f5b45a",
   "metadata": {},
   "source": [
    "Exercise 185: Convert the following Vehicle Object into JSON\n",
    "    \n",
    "   ![JSON.JPG](attachment:JSON.JPG)\n",
    "    "
   ]
  },
  {
   "cell_type": "code",
   "execution_count": 85,
   "id": "3d8fb902",
   "metadata": {},
   "outputs": [],
   "source": [
    "import json\n",
    "\n",
    "class Vehicle:\n",
    "    def __init__(self, name, engine, price):\n",
    "        self.name = name\n",
    "        self.engine = engine\n",
    "        self.price = price\n",
    "\n",
    "vehicle = Vehicle(\"Toyota Rav4\", \"2.5L\", 32000)"
   ]
  },
  {
   "cell_type": "code",
   "execution_count": 86,
   "id": "cd4d2ed8",
   "metadata": {},
   "outputs": [
    {
     "name": "stdout",
     "output_type": "stream",
     "text": [
      "Encode Vehicle Object into JSON\n",
      "{\n",
      "    \"name\": \"Toyota Rav4\",\n",
      "    \"engine\": \"2.5L\",\n",
      "    \"price\": 32000\n",
      "}\n"
     ]
    }
   ],
   "source": [
    "from json import JSONEncoder\n",
    "\n",
    "class Vehicle:\n",
    "    def __init__(self, name, engine, price):\n",
    "        self.name = name\n",
    "        self.engine = engine\n",
    "        self.price = price\n",
    "\n",
    "class VehicleEncoder(JSONEncoder):\n",
    "    def default(self,o):\n",
    "        return o.__dict__\n",
    "    \n",
    "vehicle = Vehicle(\"Toyota Rav4\", \"2.5L\", 32000)\n",
    "\n",
    "print(\"Encode Vehicle Object into JSON\")\n",
    "vehicleJson = json.dumps(vehicle, indent=4, cls=VehicleEncoder)\n",
    "print(vehicleJson)"
   ]
  },
  {
   "cell_type": "markdown",
   "id": "9772256a",
   "metadata": {},
   "source": [
    "Exercise 186: Convert the following JSON into Vehicle Object\n",
    "\n",
    "{ \"name\": \"Toyota Rav4\", \"engine\": \"2.5L\", \"price\": 32000 }\n",
    "\n",
    "For example, we should be able to access Vehicle Object using the dot operator like this.\n",
    "\n",
    "vehicleObj.name, vehicleObj.engine, vehicleObj.price"
   ]
  },
  {
   "cell_type": "code",
   "execution_count": 87,
   "id": "12ba5b75",
   "metadata": {},
   "outputs": [
    {
     "name": "stdout",
     "output_type": "stream",
     "text": [
      "Type of decoded object from JSON Data\n",
      "<class '__main__.Vehicle'>\n",
      "Vehicle Details\n",
      "Toyota Rav4 2.5L 32000\n"
     ]
    }
   ],
   "source": [
    "import json\n",
    "\n",
    "class Vehicle:\n",
    "    def __init__(self, name, engine, price):\n",
    "        self.name = name\n",
    "        self.engine = engine\n",
    "        self.price = price\n",
    "\n",
    "def vehicleDecoder(obj):\n",
    "        return Vehicle(obj['name'], obj['engine'], obj['price'])\n",
    "\n",
    "vehicleObj = json.loads('{ \"name\": \"Toyota Rav4\", \"engine\": \"2.5L\", \"price\": 32000 }',\n",
    "           object_hook=vehicleDecoder)\n",
    "\n",
    "print(\"Type of decoded object from JSON Data\")\n",
    "print(type(vehicleObj))\n",
    "print(\"Vehicle Details\")\n",
    "print(vehicleObj.name, vehicleObj.engine, vehicleObj.price)"
   ]
  },
  {
   "attachments": {
    "JSON2.JPG": {
     "image/jpeg": "[encoded data removed]"
    }
   },
   "cell_type": "markdown",
   "id": "56d3e70e",
   "metadata": {},
   "source": [
    "Exercise 187: Check whether following json is valid or invalid. If Invalid correct it\n",
    "\n",
    "![JSON2.JPG](attachment:JSON2.JPG)"
   ]
  },
  {
   "cell_type": "code",
   "execution_count": 90,
   "id": "90939794",
   "metadata": {},
   "outputs": [
    {
     "name": "stdout",
     "output_type": "stream",
     "text": [
      "{\n",
      "    \"company\": {\n",
      "        \"employee\": {\n",
      "            \"name\": \"emma\",\n",
      "            \"payble\": {\n",
      "                \"salary\": 7000,\n",
      "                \"bonus\": 800\n",
      "            }\n",
      "        }\n",
      "    }\n",
      "}\n"
     ]
    }
   ],
   "source": [
    "echo { \"company\":{ \"employee\":{ \"name\":\"emma\", \"payble\":{ \"salary\":7000, \"bonus\":800} } } } | python -m json.tool\n"
   ]
  },
  {
   "attachments": {
    "JSON3.JPG": {
     "image/jpeg": "[encoded data removed]"
    }
   },
   "cell_type": "markdown",
   "id": "4c6284b1",
   "metadata": {},
   "source": [
    "Exercise 188: Parse the following JSON to get all the values of a key ‘name’ within an array\n",
    "    \n",
    "   ![JSON3.JPG](attachment:JSON3.JPG)\n",
    "    "
   ]
  },
  {
   "cell_type": "code",
   "execution_count": 91,
   "id": "26741196",
   "metadata": {},
   "outputs": [
    {
     "name": "stdout",
     "output_type": "stream",
     "text": [
      "['name1', 'name2']\n"
     ]
    }
   ],
   "source": [
    "import json\n",
    "\n",
    "sampleJson = \"\"\"[ \n",
    "   { \n",
    "      \"id\":1,\n",
    "      \"name\":\"name1\",\n",
    "      \"color\":[ \n",
    "         \"red\",\n",
    "         \"green\"\n",
    "      ]\n",
    "   },\n",
    "   { \n",
    "      \"id\":2,\n",
    "      \"name\":\"name2\",\n",
    "      \"color\":[ \n",
    "         \"pink\",\n",
    "         \"yellow\"\n",
    "      ]\n",
    "   }\n",
    "]\"\"\"\n",
    "\n",
    "data = []\n",
    "try:\n",
    "    data = json.loads(sampleJson)\n",
    "except Exception as e:\n",
    "    print(e)\n",
    "\n",
    "dataList = [item.get('name') for item in data]\n",
    "print(dataList)\n"
   ]
  },
  {
   "cell_type": "markdown",
   "id": "aa597eae",
   "metadata": {},
   "source": [
    "# 14. Python NumPy Exercise"
   ]
  },
  {
   "cell_type": "markdown",
   "id": "ba793878",
   "metadata": {},
   "source": [
    "Excercise 189:the max item of each row of a matrix."
   ]
  },
  {
   "cell_type": "code",
   "execution_count": 92,
   "id": "ad58c978",
   "metadata": {},
   "outputs": [
    {
     "name": "stdout",
     "output_type": "stream",
     "text": [
      "[[1 2 3]\n",
      " [4 5 6]\n",
      " [7 8 9]]\n"
     ]
    },
    {
     "data": {
      "text/plain": [
       "9"
      ]
     },
     "execution_count": 92,
     "metadata": {},
     "output_type": "execute_result"
    }
   ],
   "source": [
    "import numpy as np\n",
    "\n",
    "x=[[1,2,3],[4,5,6],[7,8,9]]\n",
    "\n",
    "y=np.asarray(x)\n",
    "\n",
    "print(y)\n",
    "\n",
    "y.max()"
   ]
  },
  {
   "cell_type": "markdown",
   "id": "721740da",
   "metadata": {},
   "source": [
    "Exercise 190: Create a 4X2 integer array and Prints its attributes\n",
    "    \n",
    "Note: The element must be a type of unsigned int16. And print the following Attributes: –\n",
    "\n",
    "* The shape of an array.\n",
    "* Array dimensions.\n",
    "* The Length of each element of the array in bytes."
   ]
  },
  {
   "cell_type": "code",
   "execution_count": 99,
   "id": "6304d96c",
   "metadata": {},
   "outputs": [
    {
     "name": "stdout",
     "output_type": "stream",
     "text": [
      "[[41232 40805]\n",
      " [17953 58303]\n",
      " [ 1887  4407]\n",
      " [31432 20031]]\n",
      "shape of the array is:  (4, 2)\n",
      "dimension of the array is:  2\n",
      "itemsize of each element in array is: 2\n"
     ]
    }
   ],
   "source": [
    "import numpy as np\n",
    "\n",
    "\n",
    "firstArray = np.empty([4,2], dtype = np.uint16) \n",
    "\n",
    "print(firstArray)\n",
    "\n",
    "print(\"shape of the array is: \",firstArray.shape)\n",
    "print(\"dimension of the array is: \",firstArray.ndim)\n",
    "print(\"itemsize of each element in array is:\",firstArray.itemsize)\n"
   ]
  },
  {
   "cell_type": "markdown",
   "id": "c09c398e",
   "metadata": {},
   "source": [
    "Exercise 191: Create a 5X2 integer array from a range between 100 to 200 such that the difference between each element is 10"
   ]
  },
  {
   "cell_type": "code",
   "execution_count": 104,
   "id": "013e80be",
   "metadata": {},
   "outputs": [
    {
     "name": "stdout",
     "output_type": "stream",
     "text": [
      "[[100 110]\n",
      " [120 130]\n",
      " [140 150]\n",
      " [160 170]\n",
      " [180 190]]\n"
     ]
    }
   ],
   "source": [
    "my_array=np.arange(100,200,10)\n",
    "\n",
    "my_array=my_array.reshape(5,2)\n",
    "\n",
    "print(my_array)"
   ]
  },
  {
   "cell_type": "markdown",
   "id": "989e4bd6",
   "metadata": {},
   "source": [
    "Exercise 192: Following is the provided numPy array. Return array of items by taking the third column from all rows\n",
    "\n",
    "sampleArray = numpy.array([[11 ,22, 33], [44, 55, 66], [77, 88, 99]])"
   ]
  },
  {
   "cell_type": "code",
   "execution_count": 112,
   "id": "e32cba3c",
   "metadata": {},
   "outputs": [
    {
     "name": "stdout",
     "output_type": "stream",
     "text": [
      "[33 66 99]\n"
     ]
    }
   ],
   "source": [
    "sampleArray = np.array([[11 ,22, 33], [44, 55, 66], [77, 88, 99]])\n",
    "\n",
    "#print(sampleArray)\n",
    "\n",
    "new_array=sampleArray[...,2]\n",
    "\n",
    "print(new_array)"
   ]
  },
  {
   "cell_type": "markdown",
   "id": "fc11fb2c",
   "metadata": {},
   "source": [
    "Exercise 193: Return array of odd rows and even columns from below numpy array\n",
    "    \n",
    "sampleArray = numpy.array([[3 ,6, 9, 12], [15 ,18, 21, 24], \n",
    "[27 ,30, 33, 36], [39 ,42, 45, 48], [51 ,54, 57, 60]])"
   ]
  },
  {
   "cell_type": "code",
   "execution_count": 113,
   "id": "8fa1eac1",
   "metadata": {},
   "outputs": [
    {
     "name": "stdout",
     "output_type": "stream",
     "text": [
      "[[ 3  6  9 12]\n",
      " [15 18 21 24]\n",
      " [27 30 33 36]\n",
      " [39 42 45 48]\n",
      " [51 54 57 60]]\n"
     ]
    }
   ],
   "source": [
    "sampleArray = np.array([[3 ,6, 9, 12], [15 ,18, 21, 24], \n",
    "[27 ,30, 33, 36], [39 ,42, 45, 48], [51 ,54, 57, 60]])\n",
    "\n",
    "print(sampleArray)"
   ]
  },
  {
   "cell_type": "code",
   "execution_count": 115,
   "id": "b1275687",
   "metadata": {},
   "outputs": [
    {
     "name": "stdout",
     "output_type": "stream",
     "text": [
      "[[ 6 12]\n",
      " [30 36]\n",
      " [54 60]]\n"
     ]
    }
   ],
   "source": [
    "new_array=sampleArray[::2,1::2]\n",
    "print(new_array)"
   ]
  },
  {
   "cell_type": "markdown",
   "id": "2c85b8ef",
   "metadata": {},
   "source": [
    "Exercise 194: Create a result array by adding the following two NumPy arrays. Next, modify the result array by calculating the square of each element\n",
    "\n",
    "arrayOne = numpy.array([[5, 6, 9], [21 ,18, 27]])\n",
    "\n",
    "arrayTwo = numpy.array([[15 ,33, 24], [4 ,7, 1]])"
   ]
  },
  {
   "cell_type": "code",
   "execution_count": 122,
   "id": "f14e1012",
   "metadata": {},
   "outputs": [
    {
     "name": "stdout",
     "output_type": "stream",
     "text": [
      "[[20 39 33]\n",
      " [25 25 28]]\n",
      "[[ 400 1521 1089]\n",
      " [ 625  625  784]]\n"
     ]
    }
   ],
   "source": [
    "arrayOne = np.array([[5, 6, 9], [21 ,18, 27]])\n",
    "\n",
    "arrayTwo = np.array([[15 ,33, 24], [4 ,7, 1]])\n",
    "\n",
    "#print(arrayOne)\n",
    "\n",
    "#print(arrayTwo)\n",
    "\n",
    "result_array=arrayOne+arrayTwo\n",
    "\n",
    "print(result_array)\n",
    "\n",
    "final_output=pow(result_array,2)\n",
    "\n",
    "print(final_output)"
   ]
  },
  {
   "cell_type": "markdown",
   "id": "3ef5f24b",
   "metadata": {},
   "source": [
    "Exercise 195: Split the array into four equal-sized sub-arrays\n",
    "\n",
    "Note: Create an 8X3 integer array from a range between 10 to 34 such that the difference between each element is 1 and then Split the array into four equal-sized sub-arrays."
   ]
  },
  {
   "cell_type": "code",
   "execution_count": 129,
   "id": "db03d784",
   "metadata": {},
   "outputs": [
    {
     "name": "stdout",
     "output_type": "stream",
     "text": [
      "[[10 11 12]\n",
      " [13 14 15]\n",
      " [16 17 18]\n",
      " [19 20 21]\n",
      " [22 23 24]\n",
      " [25 26 27]\n",
      " [28 29 30]\n",
      " [31 32 33]]\n",
      "====================================================================================================\n",
      "[array([[10, 11, 12],\n",
      "       [13, 14, 15]]), array([[16, 17, 18],\n",
      "       [19, 20, 21]]), array([[22, 23, 24],\n",
      "       [25, 26, 27]]), array([[28, 29, 30],\n",
      "       [31, 32, 33]])]\n"
     ]
    }
   ],
   "source": [
    "new_array=np.arange(10,34,1)\n",
    "new_array=new_array.reshape(8,3)\n",
    "print(new_array)\n",
    "\n",
    "# now to divide array into 4 equal division\n",
    "\n",
    "subarray=np.split(new_array,4)\n",
    "\n",
    "print(\"=\"*100)\n",
    "\n",
    "print(subarray)"
   ]
  },
  {
   "cell_type": "markdown",
   "id": "0ea1dd9c",
   "metadata": {},
   "source": [
    "Exercise 196: Sort following NumPy array\n",
    "\n",
    "Case 1: Sort array by the second row\n",
    "\n",
    "Case 2: Sort the array by the second column\n",
    "\n",
    "sampleArray = numpy.array([[34,43,73],[82,22,12],[53,94,66]])"
   ]
  },
  {
   "cell_type": "code",
   "execution_count": 132,
   "id": "c697d644",
   "metadata": {},
   "outputs": [
    {
     "name": "stdout",
     "output_type": "stream",
     "text": [
      "[[34 43 73]\n",
      " [82 22 12]\n",
      " [53 94 66]]\n",
      "Sorting Original array by secoond row\n",
      "[[73 43 34]\n",
      " [12 22 82]\n",
      " [66 94 53]]\n",
      "Sorting Original array by second column\n",
      "[[82 22 12]\n",
      " [34 43 73]\n",
      " [53 94 66]]\n"
     ]
    }
   ],
   "source": [
    "sampleArray = np.array([[34,43,73],[82,22,12],[53,94,66]])\n",
    "\n",
    "print(sampleArray)\n",
    "\n",
    "#sorting original array by second row\n",
    "sortArrayByRow = sampleArray[:,sampleArray[1,:].argsort()]\n",
    "print(\"Sorting Original array by secoond row\")\n",
    "print(sortArrayByRow)\n",
    "\n",
    "print(\"Sorting Original array by second column\")\n",
    "sortArrayByColumn = sampleArray[sampleArray[:,1].argsort()]\n",
    "print(sortArrayByColumn)"
   ]
  },
  {
   "cell_type": "markdown",
   "id": "eb642200",
   "metadata": {},
   "source": [
    "Exercise 197: Print max from axis 0 and min from axis 1 from the following 2-D array.\n",
    "    \n",
    "sampleArray = numpy.array([[34,43,73],[82,22,12],[53,94,66]])"
   ]
  },
  {
   "cell_type": "code",
   "execution_count": 134,
   "id": "5933fd78",
   "metadata": {},
   "outputs": [
    {
     "name": "stdout",
     "output_type": "stream",
     "text": [
      "Printing Original array\n",
      "[[34 43 73]\n",
      " [82 22 12]\n",
      " [53 94 66]]\n",
      "Printing amin Of Axis 1\n",
      "[34 12 53]\n",
      "Printing amax Of Axis 0\n",
      "[82 94 73]\n"
     ]
    }
   ],
   "source": [
    "import numpy\n",
    "\n",
    "print(\"Printing Original array\")\n",
    "sampleArray = numpy.array([[34,43,73],[82,22,12],[53,94,66]]) \n",
    "print (sampleArray)\n",
    "\n",
    "minOfAxisOne = numpy.amin(sampleArray, 1) \n",
    "print(\"Printing amin Of Axis 1\")\n",
    "print(minOfAxisOne)\n",
    "\n",
    "maxOfAxisOne = numpy.amax(sampleArray, 0) \n",
    "print(\"Printing amax Of Axis 0\")\n",
    "print(maxOfAxisOne)"
   ]
  },
  {
   "cell_type": "markdown",
   "id": "92fdbcc2",
   "metadata": {},
   "source": [
    "Exercise 198: Delete the second column from a given array and insert the following new column in its place.\n",
    "    \n",
    "sampleArray = numpy.array([[34,43,73],[82,22,12],[53,94,66]]) \n",
    "\n",
    "newColumn = numpy.array([[10,10,10]])"
   ]
  },
  {
   "cell_type": "code",
   "execution_count": 135,
   "id": "caee0316",
   "metadata": {},
   "outputs": [
    {
     "name": "stdout",
     "output_type": "stream",
     "text": [
      "Printing Original array\n",
      "[[34 43 73]\n",
      " [82 22 12]\n",
      " [53 94 66]]\n",
      "Array after deleting column 2 on axis 1\n",
      "[[34 73]\n",
      " [82 12]\n",
      " [53 66]]\n",
      "Array after inserting column 2 on axis 1\n",
      "[[34 10 73]\n",
      " [82 10 12]\n",
      " [53 10 66]]\n"
     ]
    }
   ],
   "source": [
    "import numpy\n",
    "\n",
    "print(\"Printing Original array\")\n",
    "sampleArray = numpy.array([[34,43,73],[82,22,12],[53,94,66]]) \n",
    "print (sampleArray)\n",
    "\n",
    "print(\"Array after deleting column 2 on axis 1\")\n",
    "sampleArray = numpy.delete(sampleArray , 1, axis = 1) \n",
    "print (sampleArray)\n",
    "\n",
    "arr = numpy.array([[10,10,10]])\n",
    "\n",
    "print(\"Array after inserting column 2 on axis 1\")\n",
    "sampleArray = numpy.insert(sampleArray , 1, arr, axis = 1) \n",
    "print (sampleArray)"
   ]
  },
  {
   "cell_type": "markdown",
   "id": "24b1e535",
   "metadata": {},
   "source": [
    "# 15. Python Pandas Exercise"
   ]
  },
  {
   "cell_type": "markdown",
   "id": "b25bbf44",
   "metadata": {},
   "source": [
    "Excercise 199: basic operation of pandas"
   ]
  },
  {
   "cell_type": "code",
   "execution_count": 5,
   "id": "56fe83e2",
   "metadata": {},
   "outputs": [],
   "source": [
    "import pandas as pd"
   ]
  },
  {
   "cell_type": "code",
   "execution_count": 6,
   "id": "45984c6c",
   "metadata": {},
   "outputs": [],
   "source": [
    "df=pd.read_csv(\"iris_data.csv\")"
   ]
  },
  {
   "cell_type": "code",
   "execution_count": 7,
   "id": "9f2ff9f6",
   "metadata": {},
   "outputs": [
    {
     "data": {
      "text/html": [
       "<div>\n",
       "<style scoped>\n",
       "    .dataframe tbody tr th:only-of-type {\n",
       "        vertical-align: middle;\n",
       "    }\n",
       "\n",
       "    .dataframe tbody tr th {\n",
       "        vertical-align: top;\n",
       "    }\n",
       "\n",
       "    .dataframe thead th {\n",
       "        text-align: right;\n",
       "    }\n",
       "</style>\n",
       "<table border=\"1\" class=\"dataframe\">\n",
       "  <thead>\n",
       "    <tr style=\"text-align: right;\">\n",
       "      <th></th>\n",
       "      <th>Id</th>\n",
       "      <th>SepalLengthCm</th>\n",
       "      <th>SepalWidthCm</th>\n",
       "      <th>PetalLengthCm</th>\n",
       "      <th>PetalWidthCm</th>\n",
       "      <th>Species</th>\n",
       "    </tr>\n",
       "  </thead>\n",
       "  <tbody>\n",
       "    <tr>\n",
       "      <th>0</th>\n",
       "      <td>1</td>\n",
       "      <td>5.1</td>\n",
       "      <td>3.5</td>\n",
       "      <td>1.4</td>\n",
       "      <td>0.2</td>\n",
       "      <td>Iris-setosa</td>\n",
       "    </tr>\n",
       "    <tr>\n",
       "      <th>1</th>\n",
       "      <td>2</td>\n",
       "      <td>4.9</td>\n",
       "      <td>3.0</td>\n",
       "      <td>1.4</td>\n",
       "      <td>0.2</td>\n",
       "      <td>Iris-setosa</td>\n",
       "    </tr>\n",
       "    <tr>\n",
       "      <th>2</th>\n",
       "      <td>3</td>\n",
       "      <td>4.7</td>\n",
       "      <td>3.2</td>\n",
       "      <td>1.3</td>\n",
       "      <td>0.2</td>\n",
       "      <td>Iris-setosa</td>\n",
       "    </tr>\n",
       "    <tr>\n",
       "      <th>3</th>\n",
       "      <td>4</td>\n",
       "      <td>4.6</td>\n",
       "      <td>3.1</td>\n",
       "      <td>1.5</td>\n",
       "      <td>0.2</td>\n",
       "      <td>Iris-setosa</td>\n",
       "    </tr>\n",
       "    <tr>\n",
       "      <th>4</th>\n",
       "      <td>5</td>\n",
       "      <td>5.0</td>\n",
       "      <td>3.6</td>\n",
       "      <td>1.4</td>\n",
       "      <td>0.2</td>\n",
       "      <td>Iris-setosa</td>\n",
       "    </tr>\n",
       "  </tbody>\n",
       "</table>\n",
       "</div>"
      ],
      "text/plain": [
       "   Id  SepalLengthCm  SepalWidthCm  PetalLengthCm  PetalWidthCm      Species\n",
       "0   1            5.1           3.5            1.4           0.2  Iris-setosa\n",
       "1   2            4.9           3.0            1.4           0.2  Iris-setosa\n",
       "2   3            4.7           3.2            1.3           0.2  Iris-setosa\n",
       "3   4            4.6           3.1            1.5           0.2  Iris-setosa\n",
       "4   5            5.0           3.6            1.4           0.2  Iris-setosa"
      ]
     },
     "execution_count": 7,
     "metadata": {},
     "output_type": "execute_result"
    }
   ],
   "source": [
    "df.head()"
   ]
  },
  {
   "cell_type": "code",
   "execution_count": 8,
   "id": "7d725dee",
   "metadata": {},
   "outputs": [],
   "source": [
    "df=df.drop(\"Id\",axis=1)"
   ]
  },
  {
   "cell_type": "code",
   "execution_count": 9,
   "id": "ab0abb49",
   "metadata": {},
   "outputs": [
    {
     "data": {
      "text/html": [
       "<div>\n",
       "<style scoped>\n",
       "    .dataframe tbody tr th:only-of-type {\n",
       "        vertical-align: middle;\n",
       "    }\n",
       "\n",
       "    .dataframe tbody tr th {\n",
       "        vertical-align: top;\n",
       "    }\n",
       "\n",
       "    .dataframe thead th {\n",
       "        text-align: right;\n",
       "    }\n",
       "</style>\n",
       "<table border=\"1\" class=\"dataframe\">\n",
       "  <thead>\n",
       "    <tr style=\"text-align: right;\">\n",
       "      <th></th>\n",
       "      <th>SepalLengthCm</th>\n",
       "      <th>SepalWidthCm</th>\n",
       "      <th>PetalLengthCm</th>\n",
       "      <th>PetalWidthCm</th>\n",
       "      <th>Species</th>\n",
       "    </tr>\n",
       "  </thead>\n",
       "  <tbody>\n",
       "    <tr>\n",
       "      <th>0</th>\n",
       "      <td>5.1</td>\n",
       "      <td>3.5</td>\n",
       "      <td>1.4</td>\n",
       "      <td>0.2</td>\n",
       "      <td>Iris-setosa</td>\n",
       "    </tr>\n",
       "    <tr>\n",
       "      <th>1</th>\n",
       "      <td>4.9</td>\n",
       "      <td>3.0</td>\n",
       "      <td>1.4</td>\n",
       "      <td>0.2</td>\n",
       "      <td>Iris-setosa</td>\n",
       "    </tr>\n",
       "    <tr>\n",
       "      <th>2</th>\n",
       "      <td>4.7</td>\n",
       "      <td>3.2</td>\n",
       "      <td>1.3</td>\n",
       "      <td>0.2</td>\n",
       "      <td>Iris-setosa</td>\n",
       "    </tr>\n",
       "    <tr>\n",
       "      <th>3</th>\n",
       "      <td>4.6</td>\n",
       "      <td>3.1</td>\n",
       "      <td>1.5</td>\n",
       "      <td>0.2</td>\n",
       "      <td>Iris-setosa</td>\n",
       "    </tr>\n",
       "    <tr>\n",
       "      <th>4</th>\n",
       "      <td>5.0</td>\n",
       "      <td>3.6</td>\n",
       "      <td>1.4</td>\n",
       "      <td>0.2</td>\n",
       "      <td>Iris-setosa</td>\n",
       "    </tr>\n",
       "  </tbody>\n",
       "</table>\n",
       "</div>"
      ],
      "text/plain": [
       "   SepalLengthCm  SepalWidthCm  PetalLengthCm  PetalWidthCm      Species\n",
       "0            5.1           3.5            1.4           0.2  Iris-setosa\n",
       "1            4.9           3.0            1.4           0.2  Iris-setosa\n",
       "2            4.7           3.2            1.3           0.2  Iris-setosa\n",
       "3            4.6           3.1            1.5           0.2  Iris-setosa\n",
       "4            5.0           3.6            1.4           0.2  Iris-setosa"
      ]
     },
     "execution_count": 9,
     "metadata": {},
     "output_type": "execute_result"
    }
   ],
   "source": [
    "df.head()"
   ]
  },
  {
   "cell_type": "code",
   "execution_count": 10,
   "id": "24e5f8e6",
   "metadata": {},
   "outputs": [],
   "source": [
    "# rename the column name\n",
    "df=df.rename(columns={\"SepalLengthCm\":\"sepal_length\",\"SepalWidthCm\":\"sepal_width\",\"PetalLengthCm\":\"petal_length\",\"PetalWidthCm\":\"petal_width\",\"Species\":\"species\"})"
   ]
  },
  {
   "cell_type": "code",
   "execution_count": 13,
   "id": "b7cfe83d",
   "metadata": {},
   "outputs": [],
   "source": [
    "df[\"species\"]=df[\"species\"].str.replace(\"Iris-\",\"\")"
   ]
  },
  {
   "cell_type": "code",
   "execution_count": 14,
   "id": "63524c93",
   "metadata": {},
   "outputs": [
    {
     "data": {
      "text/html": [
       "<div>\n",
       "<style scoped>\n",
       "    .dataframe tbody tr th:only-of-type {\n",
       "        vertical-align: middle;\n",
       "    }\n",
       "\n",
       "    .dataframe tbody tr th {\n",
       "        vertical-align: top;\n",
       "    }\n",
       "\n",
       "    .dataframe thead th {\n",
       "        text-align: right;\n",
       "    }\n",
       "</style>\n",
       "<table border=\"1\" class=\"dataframe\">\n",
       "  <thead>\n",
       "    <tr style=\"text-align: right;\">\n",
       "      <th></th>\n",
       "      <th>sepal_length</th>\n",
       "      <th>sepal_width</th>\n",
       "      <th>petal_length</th>\n",
       "      <th>petal_width</th>\n",
       "      <th>species</th>\n",
       "    </tr>\n",
       "  </thead>\n",
       "  <tbody>\n",
       "    <tr>\n",
       "      <th>0</th>\n",
       "      <td>5.1</td>\n",
       "      <td>3.5</td>\n",
       "      <td>1.4</td>\n",
       "      <td>0.2</td>\n",
       "      <td>setosa</td>\n",
       "    </tr>\n",
       "    <tr>\n",
       "      <th>1</th>\n",
       "      <td>4.9</td>\n",
       "      <td>3.0</td>\n",
       "      <td>1.4</td>\n",
       "      <td>0.2</td>\n",
       "      <td>setosa</td>\n",
       "    </tr>\n",
       "    <tr>\n",
       "      <th>2</th>\n",
       "      <td>4.7</td>\n",
       "      <td>3.2</td>\n",
       "      <td>1.3</td>\n",
       "      <td>0.2</td>\n",
       "      <td>setosa</td>\n",
       "    </tr>\n",
       "    <tr>\n",
       "      <th>3</th>\n",
       "      <td>4.6</td>\n",
       "      <td>3.1</td>\n",
       "      <td>1.5</td>\n",
       "      <td>0.2</td>\n",
       "      <td>setosa</td>\n",
       "    </tr>\n",
       "    <tr>\n",
       "      <th>4</th>\n",
       "      <td>5.0</td>\n",
       "      <td>3.6</td>\n",
       "      <td>1.4</td>\n",
       "      <td>0.2</td>\n",
       "      <td>setosa</td>\n",
       "    </tr>\n",
       "  </tbody>\n",
       "</table>\n",
       "</div>"
      ],
      "text/plain": [
       "   sepal_length  sepal_width  petal_length  petal_width species\n",
       "0           5.1          3.5           1.4          0.2  setosa\n",
       "1           4.9          3.0           1.4          0.2  setosa\n",
       "2           4.7          3.2           1.3          0.2  setosa\n",
       "3           4.6          3.1           1.5          0.2  setosa\n",
       "4           5.0          3.6           1.4          0.2  setosa"
      ]
     },
     "execution_count": 14,
     "metadata": {},
     "output_type": "execute_result"
    }
   ],
   "source": [
    "df.head()"
   ]
  },
  {
   "cell_type": "code",
   "execution_count": 15,
   "id": "0386f4a4",
   "metadata": {},
   "outputs": [
    {
     "data": {
      "text/plain": [
       "(150, 5)"
      ]
     },
     "execution_count": 15,
     "metadata": {},
     "output_type": "execute_result"
    }
   ],
   "source": [
    "#shape of the table\n",
    "df.shape"
   ]
  },
  {
   "cell_type": "code",
   "execution_count": 16,
   "id": "46539389",
   "metadata": {},
   "outputs": [
    {
     "data": {
      "text/plain": [
       "3"
      ]
     },
     "execution_count": 16,
     "metadata": {},
     "output_type": "execute_result"
    }
   ],
   "source": [
    "# how many different species are there?\n",
    "df[\"species\"].nunique()"
   ]
  },
  {
   "cell_type": "code",
   "execution_count": 17,
   "id": "f24c2af2",
   "metadata": {},
   "outputs": [
    {
     "data": {
      "text/plain": [
       "setosa        50\n",
       "versicolor    50\n",
       "virginica     50\n",
       "Name: species, dtype: int64"
      ]
     },
     "execution_count": 17,
     "metadata": {},
     "output_type": "execute_result"
    }
   ],
   "source": [
    "#how many time each species is repeated in given dataset\n",
    "df[\"species\"].value_counts()"
   ]
  },
  {
   "cell_type": "code",
   "execution_count": 18,
   "id": "5b854726",
   "metadata": {},
   "outputs": [
    {
     "data": {
      "text/plain": [
       "70"
      ]
     },
     "execution_count": 18,
     "metadata": {},
     "output_type": "execute_result"
    }
   ],
   "source": [
    "#how many rows are there whose sepal length is greater than its mean\n",
    "(df[\"sepal_length\"]>df[\"sepal_length\"].mean()).sum()\n",
    "# 70 rows are there whose sepal length is greater than avg sepal length"
   ]
  },
  {
   "cell_type": "code",
   "execution_count": 19,
   "id": "3901c633",
   "metadata": {},
   "outputs": [
    {
     "data": {
      "text/html": [
       "<div>\n",
       "<style scoped>\n",
       "    .dataframe tbody tr th:only-of-type {\n",
       "        vertical-align: middle;\n",
       "    }\n",
       "\n",
       "    .dataframe tbody tr th {\n",
       "        vertical-align: top;\n",
       "    }\n",
       "\n",
       "    .dataframe thead th {\n",
       "        text-align: right;\n",
       "    }\n",
       "</style>\n",
       "<table border=\"1\" class=\"dataframe\">\n",
       "  <thead>\n",
       "    <tr style=\"text-align: right;\">\n",
       "      <th></th>\n",
       "      <th>sepal_length</th>\n",
       "      <th>sepal_width</th>\n",
       "      <th>petal_length</th>\n",
       "      <th>petal_width</th>\n",
       "      <th>species</th>\n",
       "    </tr>\n",
       "  </thead>\n",
       "  <tbody>\n",
       "    <tr>\n",
       "      <th>56</th>\n",
       "      <td>6.3</td>\n",
       "      <td>3.3</td>\n",
       "      <td>4.7</td>\n",
       "      <td>1.6</td>\n",
       "      <td>versicolor</td>\n",
       "    </tr>\n",
       "    <tr>\n",
       "      <th>70</th>\n",
       "      <td>5.9</td>\n",
       "      <td>3.2</td>\n",
       "      <td>4.8</td>\n",
       "      <td>1.8</td>\n",
       "      <td>versicolor</td>\n",
       "    </tr>\n",
       "    <tr>\n",
       "      <th>85</th>\n",
       "      <td>6.0</td>\n",
       "      <td>3.4</td>\n",
       "      <td>4.5</td>\n",
       "      <td>1.6</td>\n",
       "      <td>versicolor</td>\n",
       "    </tr>\n",
       "    <tr>\n",
       "      <th>106</th>\n",
       "      <td>4.9</td>\n",
       "      <td>2.5</td>\n",
       "      <td>4.5</td>\n",
       "      <td>1.7</td>\n",
       "      <td>virginica</td>\n",
       "    </tr>\n",
       "    <tr>\n",
       "      <th>121</th>\n",
       "      <td>5.6</td>\n",
       "      <td>2.8</td>\n",
       "      <td>4.9</td>\n",
       "      <td>2.0</td>\n",
       "      <td>virginica</td>\n",
       "    </tr>\n",
       "    <tr>\n",
       "      <th>123</th>\n",
       "      <td>6.3</td>\n",
       "      <td>2.7</td>\n",
       "      <td>4.9</td>\n",
       "      <td>1.8</td>\n",
       "      <td>virginica</td>\n",
       "    </tr>\n",
       "    <tr>\n",
       "      <th>126</th>\n",
       "      <td>6.2</td>\n",
       "      <td>2.8</td>\n",
       "      <td>4.8</td>\n",
       "      <td>1.8</td>\n",
       "      <td>virginica</td>\n",
       "    </tr>\n",
       "    <tr>\n",
       "      <th>127</th>\n",
       "      <td>6.1</td>\n",
       "      <td>3.0</td>\n",
       "      <td>4.9</td>\n",
       "      <td>1.8</td>\n",
       "      <td>virginica</td>\n",
       "    </tr>\n",
       "    <tr>\n",
       "      <th>138</th>\n",
       "      <td>6.0</td>\n",
       "      <td>3.0</td>\n",
       "      <td>4.8</td>\n",
       "      <td>1.8</td>\n",
       "      <td>virginica</td>\n",
       "    </tr>\n",
       "  </tbody>\n",
       "</table>\n",
       "</div>"
      ],
      "text/plain": [
       "     sepal_length  sepal_width  petal_length  petal_width     species\n",
       "56            6.3          3.3           4.7          1.6  versicolor\n",
       "70            5.9          3.2           4.8          1.8  versicolor\n",
       "85            6.0          3.4           4.5          1.6  versicolor\n",
       "106           4.9          2.5           4.5          1.7   virginica\n",
       "121           5.6          2.8           4.9          2.0   virginica\n",
       "123           6.3          2.7           4.9          1.8   virginica\n",
       "126           6.2          2.8           4.8          1.8   virginica\n",
       "127           6.1          3.0           4.9          1.8   virginica\n",
       "138           6.0          3.0           4.8          1.8   virginica"
      ]
     },
     "execution_count": 19,
     "metadata": {},
     "output_type": "execute_result"
    }
   ],
   "source": [
    "#extract all the rows whose petal width is greater than 1.5 and  petal length is lesser than 5\n",
    "df[(df[\"petal_width\"]>1.5) & (df[\"petal_length\"]<5)]"
   ]
  },
  {
   "cell_type": "code",
   "execution_count": 20,
   "id": "fd65e22f",
   "metadata": {},
   "outputs": [
    {
     "data": {
      "text/plain": [
       "7.9"
      ]
     },
     "execution_count": 20,
     "metadata": {},
     "output_type": "execute_result"
    }
   ],
   "source": [
    "#which species has highest sepal length\n",
    "\n",
    "df[\"sepal_length\"].max()"
   ]
  },
  {
   "cell_type": "code",
   "execution_count": 21,
   "id": "7c04e027",
   "metadata": {},
   "outputs": [
    {
     "data": {
      "text/html": [
       "<div>\n",
       "<style scoped>\n",
       "    .dataframe tbody tr th:only-of-type {\n",
       "        vertical-align: middle;\n",
       "    }\n",
       "\n",
       "    .dataframe tbody tr th {\n",
       "        vertical-align: top;\n",
       "    }\n",
       "\n",
       "    .dataframe thead th {\n",
       "        text-align: right;\n",
       "    }\n",
       "</style>\n",
       "<table border=\"1\" class=\"dataframe\">\n",
       "  <thead>\n",
       "    <tr style=\"text-align: right;\">\n",
       "      <th></th>\n",
       "      <th>sepal_length</th>\n",
       "      <th>sepal_width</th>\n",
       "      <th>petal_length</th>\n",
       "      <th>petal_width</th>\n",
       "      <th>species</th>\n",
       "    </tr>\n",
       "  </thead>\n",
       "  <tbody>\n",
       "    <tr>\n",
       "      <th>131</th>\n",
       "      <td>7.9</td>\n",
       "      <td>3.8</td>\n",
       "      <td>6.4</td>\n",
       "      <td>2.0</td>\n",
       "      <td>virginica</td>\n",
       "    </tr>\n",
       "  </tbody>\n",
       "</table>\n",
       "</div>"
      ],
      "text/plain": [
       "     sepal_length  sepal_width  petal_length  petal_width    species\n",
       "131           7.9          3.8           6.4          2.0  virginica"
      ]
     },
     "execution_count": 21,
     "metadata": {},
     "output_type": "execute_result"
    }
   ],
   "source": [
    "df[df[\"sepal_length\"]==df[\"sepal_length\"].max()]"
   ]
  },
  {
   "cell_type": "code",
   "execution_count": 22,
   "id": "e4c79324",
   "metadata": {},
   "outputs": [],
   "source": [
    "#extract mean median of sepal lenth,sepal width ,petal lenth , petal width for all the species individually"
   ]
  },
  {
   "cell_type": "code",
   "execution_count": 23,
   "id": "58907e39",
   "metadata": {},
   "outputs": [
    {
     "data": {
      "text/html": [
       "<div>\n",
       "<style scoped>\n",
       "    .dataframe tbody tr th:only-of-type {\n",
       "        vertical-align: middle;\n",
       "    }\n",
       "\n",
       "    .dataframe tbody tr th {\n",
       "        vertical-align: top;\n",
       "    }\n",
       "\n",
       "    .dataframe thead tr th {\n",
       "        text-align: left;\n",
       "    }\n",
       "\n",
       "    .dataframe thead tr:last-of-type th {\n",
       "        text-align: right;\n",
       "    }\n",
       "</style>\n",
       "<table border=\"1\" class=\"dataframe\">\n",
       "  <thead>\n",
       "    <tr>\n",
       "      <th></th>\n",
       "      <th colspan=\"2\" halign=\"left\">sepal_length</th>\n",
       "      <th colspan=\"2\" halign=\"left\">sepal_width</th>\n",
       "      <th colspan=\"2\" halign=\"left\">petal_length</th>\n",
       "      <th colspan=\"2\" halign=\"left\">petal_width</th>\n",
       "    </tr>\n",
       "    <tr>\n",
       "      <th></th>\n",
       "      <th>mean</th>\n",
       "      <th>median</th>\n",
       "      <th>mean</th>\n",
       "      <th>median</th>\n",
       "      <th>mean</th>\n",
       "      <th>median</th>\n",
       "      <th>mean</th>\n",
       "      <th>median</th>\n",
       "    </tr>\n",
       "    <tr>\n",
       "      <th>species</th>\n",
       "      <th></th>\n",
       "      <th></th>\n",
       "      <th></th>\n",
       "      <th></th>\n",
       "      <th></th>\n",
       "      <th></th>\n",
       "      <th></th>\n",
       "      <th></th>\n",
       "    </tr>\n",
       "  </thead>\n",
       "  <tbody>\n",
       "    <tr>\n",
       "      <th>setosa</th>\n",
       "      <td>5.006</td>\n",
       "      <td>5.0</td>\n",
       "      <td>3.418</td>\n",
       "      <td>3.4</td>\n",
       "      <td>1.464</td>\n",
       "      <td>1.50</td>\n",
       "      <td>0.244</td>\n",
       "      <td>0.2</td>\n",
       "    </tr>\n",
       "    <tr>\n",
       "      <th>versicolor</th>\n",
       "      <td>5.936</td>\n",
       "      <td>5.9</td>\n",
       "      <td>2.770</td>\n",
       "      <td>2.8</td>\n",
       "      <td>4.260</td>\n",
       "      <td>4.35</td>\n",
       "      <td>1.326</td>\n",
       "      <td>1.3</td>\n",
       "    </tr>\n",
       "    <tr>\n",
       "      <th>virginica</th>\n",
       "      <td>6.588</td>\n",
       "      <td>6.5</td>\n",
       "      <td>2.974</td>\n",
       "      <td>3.0</td>\n",
       "      <td>5.552</td>\n",
       "      <td>5.55</td>\n",
       "      <td>2.026</td>\n",
       "      <td>2.0</td>\n",
       "    </tr>\n",
       "  </tbody>\n",
       "</table>\n",
       "</div>"
      ],
      "text/plain": [
       "           sepal_length        sepal_width        petal_length         \\\n",
       "                   mean median        mean median         mean median   \n",
       "species                                                                 \n",
       "setosa            5.006    5.0       3.418    3.4        1.464   1.50   \n",
       "versicolor        5.936    5.9       2.770    2.8        4.260   4.35   \n",
       "virginica         6.588    6.5       2.974    3.0        5.552   5.55   \n",
       "\n",
       "           petal_width         \n",
       "                  mean median  \n",
       "species                        \n",
       "setosa           0.244    0.2  \n",
       "versicolor       1.326    1.3  \n",
       "virginica        2.026    2.0  "
      ]
     },
     "execution_count": 23,
     "metadata": {},
     "output_type": "execute_result"
    }
   ],
   "source": [
    "df.groupby(\"species\").agg([\"mean\",\"median\"])"
   ]
  },
  {
   "cell_type": "markdown",
   "id": "01fdc514",
   "metadata": {},
   "source": [
    "Excercise 200"
   ]
  },
  {
   "cell_type": "code",
   "execution_count": 105,
   "id": "38ed489b",
   "metadata": {},
   "outputs": [],
   "source": [
    "import pandas as pd"
   ]
  },
  {
   "cell_type": "code",
   "execution_count": 106,
   "id": "b23ff4cf",
   "metadata": {},
   "outputs": [
    {
     "data": {
      "text/html": [
       "<div>\n",
       "<style scoped>\n",
       "    .dataframe tbody tr th:only-of-type {\n",
       "        vertical-align: middle;\n",
       "    }\n",
       "\n",
       "    .dataframe tbody tr th {\n",
       "        vertical-align: top;\n",
       "    }\n",
       "\n",
       "    .dataframe thead th {\n",
       "        text-align: right;\n",
       "    }\n",
       "</style>\n",
       "<table border=\"1\" class=\"dataframe\">\n",
       "  <thead>\n",
       "    <tr style=\"text-align: right;\">\n",
       "      <th></th>\n",
       "      <th>index</th>\n",
       "      <th>company</th>\n",
       "      <th>body-style</th>\n",
       "      <th>wheel-base</th>\n",
       "      <th>length</th>\n",
       "      <th>engine-type</th>\n",
       "      <th>num-of-cylinders</th>\n",
       "      <th>horsepower</th>\n",
       "      <th>average-mileage</th>\n",
       "      <th>price</th>\n",
       "    </tr>\n",
       "  </thead>\n",
       "  <tbody>\n",
       "    <tr>\n",
       "      <th>0</th>\n",
       "      <td>0</td>\n",
       "      <td>alfa-romero</td>\n",
       "      <td>convertible</td>\n",
       "      <td>88.6</td>\n",
       "      <td>168.8</td>\n",
       "      <td>dohc</td>\n",
       "      <td>four</td>\n",
       "      <td>111</td>\n",
       "      <td>21</td>\n",
       "      <td>13495.0</td>\n",
       "    </tr>\n",
       "    <tr>\n",
       "      <th>1</th>\n",
       "      <td>1</td>\n",
       "      <td>alfa-romero</td>\n",
       "      <td>convertible</td>\n",
       "      <td>88.6</td>\n",
       "      <td>168.8</td>\n",
       "      <td>dohc</td>\n",
       "      <td>four</td>\n",
       "      <td>111</td>\n",
       "      <td>21</td>\n",
       "      <td>16500.0</td>\n",
       "    </tr>\n",
       "    <tr>\n",
       "      <th>2</th>\n",
       "      <td>2</td>\n",
       "      <td>alfa-romero</td>\n",
       "      <td>hatchback</td>\n",
       "      <td>94.5</td>\n",
       "      <td>171.2</td>\n",
       "      <td>ohcv</td>\n",
       "      <td>six</td>\n",
       "      <td>154</td>\n",
       "      <td>19</td>\n",
       "      <td>16500.0</td>\n",
       "    </tr>\n",
       "    <tr>\n",
       "      <th>3</th>\n",
       "      <td>3</td>\n",
       "      <td>audi</td>\n",
       "      <td>sedan</td>\n",
       "      <td>99.8</td>\n",
       "      <td>176.6</td>\n",
       "      <td>ohc</td>\n",
       "      <td>four</td>\n",
       "      <td>102</td>\n",
       "      <td>24</td>\n",
       "      <td>13950.0</td>\n",
       "    </tr>\n",
       "    <tr>\n",
       "      <th>4</th>\n",
       "      <td>4</td>\n",
       "      <td>audi</td>\n",
       "      <td>sedan</td>\n",
       "      <td>99.4</td>\n",
       "      <td>176.6</td>\n",
       "      <td>ohc</td>\n",
       "      <td>five</td>\n",
       "      <td>115</td>\n",
       "      <td>18</td>\n",
       "      <td>17450.0</td>\n",
       "    </tr>\n",
       "    <tr>\n",
       "      <th>...</th>\n",
       "      <td>...</td>\n",
       "      <td>...</td>\n",
       "      <td>...</td>\n",
       "      <td>...</td>\n",
       "      <td>...</td>\n",
       "      <td>...</td>\n",
       "      <td>...</td>\n",
       "      <td>...</td>\n",
       "      <td>...</td>\n",
       "      <td>...</td>\n",
       "    </tr>\n",
       "    <tr>\n",
       "      <th>56</th>\n",
       "      <td>81</td>\n",
       "      <td>volkswagen</td>\n",
       "      <td>sedan</td>\n",
       "      <td>97.3</td>\n",
       "      <td>171.7</td>\n",
       "      <td>ohc</td>\n",
       "      <td>four</td>\n",
       "      <td>85</td>\n",
       "      <td>27</td>\n",
       "      <td>7975.0</td>\n",
       "    </tr>\n",
       "    <tr>\n",
       "      <th>57</th>\n",
       "      <td>82</td>\n",
       "      <td>volkswagen</td>\n",
       "      <td>sedan</td>\n",
       "      <td>97.3</td>\n",
       "      <td>171.7</td>\n",
       "      <td>ohc</td>\n",
       "      <td>four</td>\n",
       "      <td>52</td>\n",
       "      <td>37</td>\n",
       "      <td>7995.0</td>\n",
       "    </tr>\n",
       "    <tr>\n",
       "      <th>58</th>\n",
       "      <td>86</td>\n",
       "      <td>volkswagen</td>\n",
       "      <td>sedan</td>\n",
       "      <td>97.3</td>\n",
       "      <td>171.7</td>\n",
       "      <td>ohc</td>\n",
       "      <td>four</td>\n",
       "      <td>100</td>\n",
       "      <td>26</td>\n",
       "      <td>9995.0</td>\n",
       "    </tr>\n",
       "    <tr>\n",
       "      <th>59</th>\n",
       "      <td>87</td>\n",
       "      <td>volvo</td>\n",
       "      <td>sedan</td>\n",
       "      <td>104.3</td>\n",
       "      <td>188.8</td>\n",
       "      <td>ohc</td>\n",
       "      <td>four</td>\n",
       "      <td>114</td>\n",
       "      <td>23</td>\n",
       "      <td>12940.0</td>\n",
       "    </tr>\n",
       "    <tr>\n",
       "      <th>60</th>\n",
       "      <td>88</td>\n",
       "      <td>volvo</td>\n",
       "      <td>wagon</td>\n",
       "      <td>104.3</td>\n",
       "      <td>188.8</td>\n",
       "      <td>ohc</td>\n",
       "      <td>four</td>\n",
       "      <td>114</td>\n",
       "      <td>23</td>\n",
       "      <td>13415.0</td>\n",
       "    </tr>\n",
       "  </tbody>\n",
       "</table>\n",
       "<p>61 rows × 10 columns</p>\n",
       "</div>"
      ],
      "text/plain": [
       "    index      company   body-style  wheel-base  length engine-type  \\\n",
       "0       0  alfa-romero  convertible        88.6   168.8        dohc   \n",
       "1       1  alfa-romero  convertible        88.6   168.8        dohc   \n",
       "2       2  alfa-romero    hatchback        94.5   171.2        ohcv   \n",
       "3       3         audi        sedan        99.8   176.6         ohc   \n",
       "4       4         audi        sedan        99.4   176.6         ohc   \n",
       "..    ...          ...          ...         ...     ...         ...   \n",
       "56     81   volkswagen        sedan        97.3   171.7         ohc   \n",
       "57     82   volkswagen        sedan        97.3   171.7         ohc   \n",
       "58     86   volkswagen        sedan        97.3   171.7         ohc   \n",
       "59     87        volvo        sedan       104.3   188.8         ohc   \n",
       "60     88        volvo        wagon       104.3   188.8         ohc   \n",
       "\n",
       "   num-of-cylinders  horsepower  average-mileage    price  \n",
       "0              four         111               21  13495.0  \n",
       "1              four         111               21  16500.0  \n",
       "2               six         154               19  16500.0  \n",
       "3              four         102               24  13950.0  \n",
       "4              five         115               18  17450.0  \n",
       "..              ...         ...              ...      ...  \n",
       "56             four          85               27   7975.0  \n",
       "57             four          52               37   7995.0  \n",
       "58             four         100               26   9995.0  \n",
       "59             four         114               23  12940.0  \n",
       "60             four         114               23  13415.0  \n",
       "\n",
       "[61 rows x 10 columns]"
      ]
     },
     "execution_count": 106,
     "metadata": {},
     "output_type": "execute_result"
    }
   ],
   "source": [
    "df = pd.read_csv(\"Automobile_data.csv\", na_values={\n",
    "'price':[\"?\",\"n.a\"],\n",
    "'stroke':[\"?\",\"n.a\"],\n",
    "'horsepower':[\"?\",\"n.a\"],\n",
    "'peak-rpm':[\"?\",\"n.a\"],\n",
    "'average-mileage':[\"?\",\"n.a\"]})\n",
    "\n",
    "df"
   ]
  },
  {
   "cell_type": "markdown",
   "id": "553e6bc1",
   "metadata": {},
   "source": [
    "Exercise 200: From the given dataset print the first and last five rows"
   ]
  },
  {
   "cell_type": "code",
   "execution_count": 107,
   "id": "c6034aca",
   "metadata": {},
   "outputs": [
    {
     "data": {
      "text/html": [
       "<div>\n",
       "<style scoped>\n",
       "    .dataframe tbody tr th:only-of-type {\n",
       "        vertical-align: middle;\n",
       "    }\n",
       "\n",
       "    .dataframe tbody tr th {\n",
       "        vertical-align: top;\n",
       "    }\n",
       "\n",
       "    .dataframe thead th {\n",
       "        text-align: right;\n",
       "    }\n",
       "</style>\n",
       "<table border=\"1\" class=\"dataframe\">\n",
       "  <thead>\n",
       "    <tr style=\"text-align: right;\">\n",
       "      <th></th>\n",
       "      <th>index</th>\n",
       "      <th>company</th>\n",
       "      <th>body-style</th>\n",
       "      <th>wheel-base</th>\n",
       "      <th>length</th>\n",
       "      <th>engine-type</th>\n",
       "      <th>num-of-cylinders</th>\n",
       "      <th>horsepower</th>\n",
       "      <th>average-mileage</th>\n",
       "      <th>price</th>\n",
       "    </tr>\n",
       "  </thead>\n",
       "  <tbody>\n",
       "    <tr>\n",
       "      <th>0</th>\n",
       "      <td>0</td>\n",
       "      <td>alfa-romero</td>\n",
       "      <td>convertible</td>\n",
       "      <td>88.6</td>\n",
       "      <td>168.8</td>\n",
       "      <td>dohc</td>\n",
       "      <td>four</td>\n",
       "      <td>111</td>\n",
       "      <td>21</td>\n",
       "      <td>13495.0</td>\n",
       "    </tr>\n",
       "    <tr>\n",
       "      <th>1</th>\n",
       "      <td>1</td>\n",
       "      <td>alfa-romero</td>\n",
       "      <td>convertible</td>\n",
       "      <td>88.6</td>\n",
       "      <td>168.8</td>\n",
       "      <td>dohc</td>\n",
       "      <td>four</td>\n",
       "      <td>111</td>\n",
       "      <td>21</td>\n",
       "      <td>16500.0</td>\n",
       "    </tr>\n",
       "    <tr>\n",
       "      <th>2</th>\n",
       "      <td>2</td>\n",
       "      <td>alfa-romero</td>\n",
       "      <td>hatchback</td>\n",
       "      <td>94.5</td>\n",
       "      <td>171.2</td>\n",
       "      <td>ohcv</td>\n",
       "      <td>six</td>\n",
       "      <td>154</td>\n",
       "      <td>19</td>\n",
       "      <td>16500.0</td>\n",
       "    </tr>\n",
       "    <tr>\n",
       "      <th>3</th>\n",
       "      <td>3</td>\n",
       "      <td>audi</td>\n",
       "      <td>sedan</td>\n",
       "      <td>99.8</td>\n",
       "      <td>176.6</td>\n",
       "      <td>ohc</td>\n",
       "      <td>four</td>\n",
       "      <td>102</td>\n",
       "      <td>24</td>\n",
       "      <td>13950.0</td>\n",
       "    </tr>\n",
       "    <tr>\n",
       "      <th>4</th>\n",
       "      <td>4</td>\n",
       "      <td>audi</td>\n",
       "      <td>sedan</td>\n",
       "      <td>99.4</td>\n",
       "      <td>176.6</td>\n",
       "      <td>ohc</td>\n",
       "      <td>five</td>\n",
       "      <td>115</td>\n",
       "      <td>18</td>\n",
       "      <td>17450.0</td>\n",
       "    </tr>\n",
       "  </tbody>\n",
       "</table>\n",
       "</div>"
      ],
      "text/plain": [
       "   index      company   body-style  wheel-base  length engine-type  \\\n",
       "0      0  alfa-romero  convertible        88.6   168.8        dohc   \n",
       "1      1  alfa-romero  convertible        88.6   168.8        dohc   \n",
       "2      2  alfa-romero    hatchback        94.5   171.2        ohcv   \n",
       "3      3         audi        sedan        99.8   176.6         ohc   \n",
       "4      4         audi        sedan        99.4   176.6         ohc   \n",
       "\n",
       "  num-of-cylinders  horsepower  average-mileage    price  \n",
       "0             four         111               21  13495.0  \n",
       "1             four         111               21  16500.0  \n",
       "2              six         154               19  16500.0  \n",
       "3             four         102               24  13950.0  \n",
       "4             five         115               18  17450.0  "
      ]
     },
     "execution_count": 107,
     "metadata": {},
     "output_type": "execute_result"
    }
   ],
   "source": [
    "df.head()"
   ]
  },
  {
   "cell_type": "code",
   "execution_count": 186,
   "id": "b8b43dcc",
   "metadata": {},
   "outputs": [],
   "source": [
    "missing_value=[\"?\",\"n.a\",np.NaN]\n",
    "df=pd.read_csv(\"Automobile_data.csv\",na_values=missing_value)"
   ]
  },
  {
   "cell_type": "code",
   "execution_count": 187,
   "id": "a1ab5be8",
   "metadata": {},
   "outputs": [
    {
     "data": {
      "text/plain": [
       "index               0\n",
       "company             0\n",
       "body-style          0\n",
       "wheel-base          0\n",
       "length              0\n",
       "engine-type         0\n",
       "num-of-cylinders    0\n",
       "horsepower          0\n",
       "average-mileage     0\n",
       "price               3\n",
       "dtype: int64"
      ]
     },
     "execution_count": 187,
     "metadata": {},
     "output_type": "execute_result"
    }
   ],
   "source": [
    "df.isnull().sum()"
   ]
  },
  {
   "cell_type": "code",
   "execution_count": 189,
   "id": "ff05a489",
   "metadata": {},
   "outputs": [
    {
     "data": {
      "text/plain": [
       "index               0\n",
       "company             0\n",
       "body-style          0\n",
       "wheel-base          0\n",
       "length              0\n",
       "engine-type         0\n",
       "num-of-cylinders    0\n",
       "horsepower          0\n",
       "average-mileage     0\n",
       "price               3\n",
       "dtype: int64"
      ]
     },
     "execution_count": 189,
     "metadata": {},
     "output_type": "execute_result"
    }
   ],
   "source": [
    "df.isnull().sum()"
   ]
  },
  {
   "cell_type": "code",
   "execution_count": 190,
   "id": "5b4852dd",
   "metadata": {},
   "outputs": [],
   "source": [
    "df=df.drop(\"index\",axis=1)"
   ]
  },
  {
   "cell_type": "markdown",
   "id": "3479f41b",
   "metadata": {},
   "source": [
    "Exercise 3: Find the most expensive car company name\n",
    "\n",
    "Print most expensive car’s company name and price."
   ]
  },
  {
   "cell_type": "code",
   "execution_count": 191,
   "id": "172b110b",
   "metadata": {},
   "outputs": [
    {
     "data": {
      "text/plain": [
       "45400.0"
      ]
     },
     "execution_count": 191,
     "metadata": {},
     "output_type": "execute_result"
    }
   ],
   "source": [
    "df[\"price\"].max()"
   ]
  },
  {
   "cell_type": "code",
   "execution_count": 192,
   "id": "5e535513",
   "metadata": {},
   "outputs": [
    {
     "data": {
      "text/html": [
       "<div>\n",
       "<style scoped>\n",
       "    .dataframe tbody tr th:only-of-type {\n",
       "        vertical-align: middle;\n",
       "    }\n",
       "\n",
       "    .dataframe tbody tr th {\n",
       "        vertical-align: top;\n",
       "    }\n",
       "\n",
       "    .dataframe thead th {\n",
       "        text-align: right;\n",
       "    }\n",
       "</style>\n",
       "<table border=\"1\" class=\"dataframe\">\n",
       "  <thead>\n",
       "    <tr style=\"text-align: right;\">\n",
       "      <th></th>\n",
       "      <th>company</th>\n",
       "      <th>price</th>\n",
       "    </tr>\n",
       "  </thead>\n",
       "  <tbody>\n",
       "    <tr>\n",
       "      <th>35</th>\n",
       "      <td>mercedes-benz</td>\n",
       "      <td>45400.0</td>\n",
       "    </tr>\n",
       "  </tbody>\n",
       "</table>\n",
       "</div>"
      ],
      "text/plain": [
       "          company    price\n",
       "35  mercedes-benz  45400.0"
      ]
     },
     "execution_count": 192,
     "metadata": {},
     "output_type": "execute_result"
    }
   ],
   "source": [
    "most_exp_car=df[[\"company\",\"price\"]][df.price==df[\"price\"].max()]\n",
    "most_exp_car"
   ]
  },
  {
   "cell_type": "markdown",
   "id": "6cceed29",
   "metadata": {},
   "source": [
    "Exercise 201: Print All Toyota Cars details"
   ]
  },
  {
   "cell_type": "code",
   "execution_count": 201,
   "id": "f24b6625",
   "metadata": {},
   "outputs": [
    {
     "data": {
      "text/html": [
       "<div>\n",
       "<style scoped>\n",
       "    .dataframe tbody tr th:only-of-type {\n",
       "        vertical-align: middle;\n",
       "    }\n",
       "\n",
       "    .dataframe tbody tr th {\n",
       "        vertical-align: top;\n",
       "    }\n",
       "\n",
       "    .dataframe thead th {\n",
       "        text-align: right;\n",
       "    }\n",
       "</style>\n",
       "<table border=\"1\" class=\"dataframe\">\n",
       "  <thead>\n",
       "    <tr style=\"text-align: right;\">\n",
       "      <th></th>\n",
       "      <th>company</th>\n",
       "      <th>body-style</th>\n",
       "      <th>wheel-base</th>\n",
       "      <th>length</th>\n",
       "      <th>engine-type</th>\n",
       "      <th>num-of-cylinders</th>\n",
       "      <th>horsepower</th>\n",
       "      <th>average-mileage</th>\n",
       "      <th>price</th>\n",
       "    </tr>\n",
       "  </thead>\n",
       "  <tbody>\n",
       "    <tr>\n",
       "      <th>48</th>\n",
       "      <td>toyota</td>\n",
       "      <td>hatchback</td>\n",
       "      <td>95.7</td>\n",
       "      <td>158.7</td>\n",
       "      <td>ohc</td>\n",
       "      <td>four</td>\n",
       "      <td>62</td>\n",
       "      <td>35</td>\n",
       "      <td>5348.0</td>\n",
       "    </tr>\n",
       "    <tr>\n",
       "      <th>49</th>\n",
       "      <td>toyota</td>\n",
       "      <td>hatchback</td>\n",
       "      <td>95.7</td>\n",
       "      <td>158.7</td>\n",
       "      <td>ohc</td>\n",
       "      <td>four</td>\n",
       "      <td>62</td>\n",
       "      <td>31</td>\n",
       "      <td>6338.0</td>\n",
       "    </tr>\n",
       "    <tr>\n",
       "      <th>50</th>\n",
       "      <td>toyota</td>\n",
       "      <td>hatchback</td>\n",
       "      <td>95.7</td>\n",
       "      <td>158.7</td>\n",
       "      <td>ohc</td>\n",
       "      <td>four</td>\n",
       "      <td>62</td>\n",
       "      <td>31</td>\n",
       "      <td>6488.0</td>\n",
       "    </tr>\n",
       "    <tr>\n",
       "      <th>51</th>\n",
       "      <td>toyota</td>\n",
       "      <td>wagon</td>\n",
       "      <td>95.7</td>\n",
       "      <td>169.7</td>\n",
       "      <td>ohc</td>\n",
       "      <td>four</td>\n",
       "      <td>62</td>\n",
       "      <td>31</td>\n",
       "      <td>6918.0</td>\n",
       "    </tr>\n",
       "    <tr>\n",
       "      <th>52</th>\n",
       "      <td>toyota</td>\n",
       "      <td>wagon</td>\n",
       "      <td>95.7</td>\n",
       "      <td>169.7</td>\n",
       "      <td>ohc</td>\n",
       "      <td>four</td>\n",
       "      <td>62</td>\n",
       "      <td>27</td>\n",
       "      <td>7898.0</td>\n",
       "    </tr>\n",
       "    <tr>\n",
       "      <th>53</th>\n",
       "      <td>toyota</td>\n",
       "      <td>wagon</td>\n",
       "      <td>95.7</td>\n",
       "      <td>169.7</td>\n",
       "      <td>ohc</td>\n",
       "      <td>four</td>\n",
       "      <td>62</td>\n",
       "      <td>27</td>\n",
       "      <td>8778.0</td>\n",
       "    </tr>\n",
       "    <tr>\n",
       "      <th>54</th>\n",
       "      <td>toyota</td>\n",
       "      <td>wagon</td>\n",
       "      <td>104.5</td>\n",
       "      <td>187.8</td>\n",
       "      <td>dohc</td>\n",
       "      <td>six</td>\n",
       "      <td>156</td>\n",
       "      <td>19</td>\n",
       "      <td>15750.0</td>\n",
       "    </tr>\n",
       "  </tbody>\n",
       "</table>\n",
       "</div>"
      ],
      "text/plain": [
       "   company body-style  wheel-base  length engine-type num-of-cylinders  \\\n",
       "48  toyota  hatchback        95.7   158.7         ohc             four   \n",
       "49  toyota  hatchback        95.7   158.7         ohc             four   \n",
       "50  toyota  hatchback        95.7   158.7         ohc             four   \n",
       "51  toyota      wagon        95.7   169.7         ohc             four   \n",
       "52  toyota      wagon        95.7   169.7         ohc             four   \n",
       "53  toyota      wagon        95.7   169.7         ohc             four   \n",
       "54  toyota      wagon       104.5   187.8        dohc              six   \n",
       "\n",
       "    horsepower  average-mileage    price  \n",
       "48          62               35   5348.0  \n",
       "49          62               31   6338.0  \n",
       "50          62               31   6488.0  \n",
       "51          62               31   6918.0  \n",
       "52          62               27   7898.0  \n",
       "53          62               27   8778.0  \n",
       "54         156               19  15750.0  "
      ]
     },
     "execution_count": 201,
     "metadata": {},
     "output_type": "execute_result"
    }
   ],
   "source": [
    "df.groupby(\"company\").get_group(\"toyota\")"
   ]
  },
  {
   "cell_type": "markdown",
   "id": "8426c020",
   "metadata": {},
   "source": [
    "Exercise 202: Count total cars per company"
   ]
  },
  {
   "cell_type": "code",
   "execution_count": 202,
   "id": "233f95e1",
   "metadata": {},
   "outputs": [
    {
     "data": {
      "text/plain": [
       "toyota           7\n",
       "bmw              6\n",
       "mazda            5\n",
       "nissan           5\n",
       "audi             4\n",
       "mercedes-benz    4\n",
       "mitsubishi       4\n",
       "volkswagen       4\n",
       "alfa-romero      3\n",
       "chevrolet        3\n",
       "honda            3\n",
       "isuzu            3\n",
       "jaguar           3\n",
       "porsche          3\n",
       "dodge            2\n",
       "volvo            2\n",
       "Name: company, dtype: int64"
      ]
     },
     "execution_count": 202,
     "metadata": {},
     "output_type": "execute_result"
    }
   ],
   "source": [
    "df[\"company\"].value_counts()"
   ]
  },
  {
   "cell_type": "markdown",
   "id": "2b84f240",
   "metadata": {},
   "source": [
    "Exercise 203: Find each company’s Higesht price car"
   ]
  },
  {
   "cell_type": "code",
   "execution_count": 211,
   "id": "a7c80f65",
   "metadata": {},
   "outputs": [],
   "source": [
    "import warnings\n",
    "warnings.filterwarnings(\"ignore\")"
   ]
  },
  {
   "cell_type": "code",
   "execution_count": 220,
   "id": "b6559eaf",
   "metadata": {},
   "outputs": [
    {
     "data": {
      "text/html": [
       "<div>\n",
       "<style scoped>\n",
       "    .dataframe tbody tr th:only-of-type {\n",
       "        vertical-align: middle;\n",
       "    }\n",
       "\n",
       "    .dataframe tbody tr th {\n",
       "        vertical-align: top;\n",
       "    }\n",
       "\n",
       "    .dataframe thead th {\n",
       "        text-align: right;\n",
       "    }\n",
       "</style>\n",
       "<table border=\"1\" class=\"dataframe\">\n",
       "  <thead>\n",
       "    <tr style=\"text-align: right;\">\n",
       "      <th></th>\n",
       "      <th>company</th>\n",
       "      <th>price</th>\n",
       "    </tr>\n",
       "    <tr>\n",
       "      <th>company</th>\n",
       "      <th></th>\n",
       "      <th></th>\n",
       "    </tr>\n",
       "  </thead>\n",
       "  <tbody>\n",
       "    <tr>\n",
       "      <th>alfa-romero</th>\n",
       "      <td>alfa-romero</td>\n",
       "      <td>16500.0</td>\n",
       "    </tr>\n",
       "    <tr>\n",
       "      <th>audi</th>\n",
       "      <td>audi</td>\n",
       "      <td>18920.0</td>\n",
       "    </tr>\n",
       "    <tr>\n",
       "      <th>bmw</th>\n",
       "      <td>bmw</td>\n",
       "      <td>41315.0</td>\n",
       "    </tr>\n",
       "    <tr>\n",
       "      <th>chevrolet</th>\n",
       "      <td>chevrolet</td>\n",
       "      <td>6575.0</td>\n",
       "    </tr>\n",
       "    <tr>\n",
       "      <th>dodge</th>\n",
       "      <td>dodge</td>\n",
       "      <td>6377.0</td>\n",
       "    </tr>\n",
       "    <tr>\n",
       "      <th>honda</th>\n",
       "      <td>honda</td>\n",
       "      <td>12945.0</td>\n",
       "    </tr>\n",
       "    <tr>\n",
       "      <th>isuzu</th>\n",
       "      <td>isuzu</td>\n",
       "      <td>6785.0</td>\n",
       "    </tr>\n",
       "    <tr>\n",
       "      <th>jaguar</th>\n",
       "      <td>jaguar</td>\n",
       "      <td>36000.0</td>\n",
       "    </tr>\n",
       "    <tr>\n",
       "      <th>mazda</th>\n",
       "      <td>mazda</td>\n",
       "      <td>18344.0</td>\n",
       "    </tr>\n",
       "    <tr>\n",
       "      <th>mercedes-benz</th>\n",
       "      <td>mercedes-benz</td>\n",
       "      <td>45400.0</td>\n",
       "    </tr>\n",
       "    <tr>\n",
       "      <th>mitsubishi</th>\n",
       "      <td>mitsubishi</td>\n",
       "      <td>8189.0</td>\n",
       "    </tr>\n",
       "    <tr>\n",
       "      <th>nissan</th>\n",
       "      <td>nissan</td>\n",
       "      <td>13499.0</td>\n",
       "    </tr>\n",
       "    <tr>\n",
       "      <th>porsche</th>\n",
       "      <td>porsche</td>\n",
       "      <td>37028.0</td>\n",
       "    </tr>\n",
       "    <tr>\n",
       "      <th>toyota</th>\n",
       "      <td>toyota</td>\n",
       "      <td>15750.0</td>\n",
       "    </tr>\n",
       "    <tr>\n",
       "      <th>volkswagen</th>\n",
       "      <td>volkswagen</td>\n",
       "      <td>9995.0</td>\n",
       "    </tr>\n",
       "    <tr>\n",
       "      <th>volvo</th>\n",
       "      <td>volvo</td>\n",
       "      <td>13415.0</td>\n",
       "    </tr>\n",
       "  </tbody>\n",
       "</table>\n",
       "</div>"
      ],
      "text/plain": [
       "                     company    price\n",
       "company                              \n",
       "alfa-romero      alfa-romero  16500.0\n",
       "audi                    audi  18920.0\n",
       "bmw                      bmw  41315.0\n",
       "chevrolet          chevrolet   6575.0\n",
       "dodge                  dodge   6377.0\n",
       "honda                  honda  12945.0\n",
       "isuzu                  isuzu   6785.0\n",
       "jaguar                jaguar  36000.0\n",
       "mazda                  mazda  18344.0\n",
       "mercedes-benz  mercedes-benz  45400.0\n",
       "mitsubishi        mitsubishi   8189.0\n",
       "nissan                nissan  13499.0\n",
       "porsche              porsche  37028.0\n",
       "toyota                toyota  15750.0\n",
       "volkswagen        volkswagen   9995.0\n",
       "volvo                  volvo  13415.0"
      ]
     },
     "execution_count": 220,
     "metadata": {},
     "output_type": "execute_result"
    }
   ],
   "source": [
    "df.groupby(\"company\")[[\"company\",\"price\"]].max()"
   ]
  },
  {
   "cell_type": "markdown",
   "id": "8042a29f",
   "metadata": {},
   "source": [
    "Exercise 204: Find the average mileage of each car making company"
   ]
  },
  {
   "cell_type": "code",
   "execution_count": 221,
   "id": "636207e1",
   "metadata": {},
   "outputs": [
    {
     "data": {
      "text/html": [
       "<div>\n",
       "<style scoped>\n",
       "    .dataframe tbody tr th:only-of-type {\n",
       "        vertical-align: middle;\n",
       "    }\n",
       "\n",
       "    .dataframe tbody tr th {\n",
       "        vertical-align: top;\n",
       "    }\n",
       "\n",
       "    .dataframe thead th {\n",
       "        text-align: right;\n",
       "    }\n",
       "</style>\n",
       "<table border=\"1\" class=\"dataframe\">\n",
       "  <thead>\n",
       "    <tr style=\"text-align: right;\">\n",
       "      <th></th>\n",
       "      <th>average-mileage</th>\n",
       "    </tr>\n",
       "    <tr>\n",
       "      <th>company</th>\n",
       "      <th></th>\n",
       "    </tr>\n",
       "  </thead>\n",
       "  <tbody>\n",
       "    <tr>\n",
       "      <th>alfa-romero</th>\n",
       "      <td>20.333333</td>\n",
       "    </tr>\n",
       "    <tr>\n",
       "      <th>audi</th>\n",
       "      <td>20.000000</td>\n",
       "    </tr>\n",
       "    <tr>\n",
       "      <th>bmw</th>\n",
       "      <td>19.000000</td>\n",
       "    </tr>\n",
       "    <tr>\n",
       "      <th>chevrolet</th>\n",
       "      <td>41.000000</td>\n",
       "    </tr>\n",
       "    <tr>\n",
       "      <th>dodge</th>\n",
       "      <td>31.000000</td>\n",
       "    </tr>\n",
       "    <tr>\n",
       "      <th>honda</th>\n",
       "      <td>26.333333</td>\n",
       "    </tr>\n",
       "    <tr>\n",
       "      <th>isuzu</th>\n",
       "      <td>33.333333</td>\n",
       "    </tr>\n",
       "    <tr>\n",
       "      <th>jaguar</th>\n",
       "      <td>14.333333</td>\n",
       "    </tr>\n",
       "    <tr>\n",
       "      <th>mazda</th>\n",
       "      <td>28.000000</td>\n",
       "    </tr>\n",
       "    <tr>\n",
       "      <th>mercedes-benz</th>\n",
       "      <td>18.000000</td>\n",
       "    </tr>\n",
       "    <tr>\n",
       "      <th>mitsubishi</th>\n",
       "      <td>29.500000</td>\n",
       "    </tr>\n",
       "    <tr>\n",
       "      <th>nissan</th>\n",
       "      <td>31.400000</td>\n",
       "    </tr>\n",
       "    <tr>\n",
       "      <th>porsche</th>\n",
       "      <td>17.000000</td>\n",
       "    </tr>\n",
       "    <tr>\n",
       "      <th>toyota</th>\n",
       "      <td>28.714286</td>\n",
       "    </tr>\n",
       "    <tr>\n",
       "      <th>volkswagen</th>\n",
       "      <td>31.750000</td>\n",
       "    </tr>\n",
       "    <tr>\n",
       "      <th>volvo</th>\n",
       "      <td>23.000000</td>\n",
       "    </tr>\n",
       "  </tbody>\n",
       "</table>\n",
       "</div>"
      ],
      "text/plain": [
       "               average-mileage\n",
       "company                       \n",
       "alfa-romero          20.333333\n",
       "audi                 20.000000\n",
       "bmw                  19.000000\n",
       "chevrolet            41.000000\n",
       "dodge                31.000000\n",
       "honda                26.333333\n",
       "isuzu                33.333333\n",
       "jaguar               14.333333\n",
       "mazda                28.000000\n",
       "mercedes-benz        18.000000\n",
       "mitsubishi           29.500000\n",
       "nissan               31.400000\n",
       "porsche              17.000000\n",
       "toyota               28.714286\n",
       "volkswagen           31.750000\n",
       "volvo                23.000000"
      ]
     },
     "execution_count": 221,
     "metadata": {},
     "output_type": "execute_result"
    }
   ],
   "source": [
    "df.groupby(\"company\")[[\"company\",\"average-mileage\"]].mean()"
   ]
  },
  {
   "cell_type": "markdown",
   "id": "cea6b6e9",
   "metadata": {},
   "source": [
    "Exercise 205: Sort all cars by Price column"
   ]
  },
  {
   "cell_type": "code",
   "execution_count": 223,
   "id": "491fe874",
   "metadata": {},
   "outputs": [
    {
     "data": {
      "text/html": [
       "<div>\n",
       "<style scoped>\n",
       "    .dataframe tbody tr th:only-of-type {\n",
       "        vertical-align: middle;\n",
       "    }\n",
       "\n",
       "    .dataframe tbody tr th {\n",
       "        vertical-align: top;\n",
       "    }\n",
       "\n",
       "    .dataframe thead th {\n",
       "        text-align: right;\n",
       "    }\n",
       "</style>\n",
       "<table border=\"1\" class=\"dataframe\">\n",
       "  <thead>\n",
       "    <tr style=\"text-align: right;\">\n",
       "      <th></th>\n",
       "      <th>company</th>\n",
       "      <th>body-style</th>\n",
       "      <th>wheel-base</th>\n",
       "      <th>length</th>\n",
       "      <th>engine-type</th>\n",
       "      <th>num-of-cylinders</th>\n",
       "      <th>horsepower</th>\n",
       "      <th>average-mileage</th>\n",
       "      <th>price</th>\n",
       "    </tr>\n",
       "  </thead>\n",
       "  <tbody>\n",
       "    <tr>\n",
       "      <th>35</th>\n",
       "      <td>mercedes-benz</td>\n",
       "      <td>hardtop</td>\n",
       "      <td>112.0</td>\n",
       "      <td>199.2</td>\n",
       "      <td>ohcv</td>\n",
       "      <td>eight</td>\n",
       "      <td>184</td>\n",
       "      <td>14</td>\n",
       "      <td>45400.0</td>\n",
       "    </tr>\n",
       "    <tr>\n",
       "      <th>11</th>\n",
       "      <td>bmw</td>\n",
       "      <td>sedan</td>\n",
       "      <td>103.5</td>\n",
       "      <td>193.8</td>\n",
       "      <td>ohc</td>\n",
       "      <td>six</td>\n",
       "      <td>182</td>\n",
       "      <td>16</td>\n",
       "      <td>41315.0</td>\n",
       "    </tr>\n",
       "    <tr>\n",
       "      <th>34</th>\n",
       "      <td>mercedes-benz</td>\n",
       "      <td>sedan</td>\n",
       "      <td>120.9</td>\n",
       "      <td>208.1</td>\n",
       "      <td>ohcv</td>\n",
       "      <td>eight</td>\n",
       "      <td>184</td>\n",
       "      <td>14</td>\n",
       "      <td>40960.0</td>\n",
       "    </tr>\n",
       "    <tr>\n",
       "      <th>46</th>\n",
       "      <td>porsche</td>\n",
       "      <td>convertible</td>\n",
       "      <td>89.5</td>\n",
       "      <td>168.9</td>\n",
       "      <td>ohcf</td>\n",
       "      <td>six</td>\n",
       "      <td>207</td>\n",
       "      <td>17</td>\n",
       "      <td>37028.0</td>\n",
       "    </tr>\n",
       "    <tr>\n",
       "      <th>12</th>\n",
       "      <td>bmw</td>\n",
       "      <td>sedan</td>\n",
       "      <td>110.0</td>\n",
       "      <td>197.0</td>\n",
       "      <td>ohc</td>\n",
       "      <td>six</td>\n",
       "      <td>182</td>\n",
       "      <td>15</td>\n",
       "      <td>36880.0</td>\n",
       "    </tr>\n",
       "    <tr>\n",
       "      <th>...</th>\n",
       "      <td>...</td>\n",
       "      <td>...</td>\n",
       "      <td>...</td>\n",
       "      <td>...</td>\n",
       "      <td>...</td>\n",
       "      <td>...</td>\n",
       "      <td>...</td>\n",
       "      <td>...</td>\n",
       "      <td>...</td>\n",
       "    </tr>\n",
       "    <tr>\n",
       "      <th>27</th>\n",
       "      <td>mazda</td>\n",
       "      <td>hatchback</td>\n",
       "      <td>93.1</td>\n",
       "      <td>159.1</td>\n",
       "      <td>ohc</td>\n",
       "      <td>four</td>\n",
       "      <td>68</td>\n",
       "      <td>30</td>\n",
       "      <td>5195.0</td>\n",
       "    </tr>\n",
       "    <tr>\n",
       "      <th>13</th>\n",
       "      <td>chevrolet</td>\n",
       "      <td>hatchback</td>\n",
       "      <td>88.4</td>\n",
       "      <td>141.1</td>\n",
       "      <td>l</td>\n",
       "      <td>three</td>\n",
       "      <td>48</td>\n",
       "      <td>47</td>\n",
       "      <td>5151.0</td>\n",
       "    </tr>\n",
       "    <tr>\n",
       "      <th>22</th>\n",
       "      <td>isuzu</td>\n",
       "      <td>sedan</td>\n",
       "      <td>94.5</td>\n",
       "      <td>155.9</td>\n",
       "      <td>ohc</td>\n",
       "      <td>four</td>\n",
       "      <td>70</td>\n",
       "      <td>38</td>\n",
       "      <td>NaN</td>\n",
       "    </tr>\n",
       "    <tr>\n",
       "      <th>23</th>\n",
       "      <td>isuzu</td>\n",
       "      <td>sedan</td>\n",
       "      <td>94.5</td>\n",
       "      <td>155.9</td>\n",
       "      <td>ohc</td>\n",
       "      <td>four</td>\n",
       "      <td>70</td>\n",
       "      <td>38</td>\n",
       "      <td>NaN</td>\n",
       "    </tr>\n",
       "    <tr>\n",
       "      <th>47</th>\n",
       "      <td>porsche</td>\n",
       "      <td>hatchback</td>\n",
       "      <td>98.4</td>\n",
       "      <td>175.7</td>\n",
       "      <td>dohcv</td>\n",
       "      <td>eight</td>\n",
       "      <td>288</td>\n",
       "      <td>17</td>\n",
       "      <td>NaN</td>\n",
       "    </tr>\n",
       "  </tbody>\n",
       "</table>\n",
       "<p>61 rows × 9 columns</p>\n",
       "</div>"
      ],
      "text/plain": [
       "          company   body-style  wheel-base  length engine-type  \\\n",
       "35  mercedes-benz      hardtop       112.0   199.2        ohcv   \n",
       "11            bmw        sedan       103.5   193.8         ohc   \n",
       "34  mercedes-benz        sedan       120.9   208.1        ohcv   \n",
       "46        porsche  convertible        89.5   168.9        ohcf   \n",
       "12            bmw        sedan       110.0   197.0         ohc   \n",
       "..            ...          ...         ...     ...         ...   \n",
       "27          mazda    hatchback        93.1   159.1         ohc   \n",
       "13      chevrolet    hatchback        88.4   141.1           l   \n",
       "22          isuzu        sedan        94.5   155.9         ohc   \n",
       "23          isuzu        sedan        94.5   155.9         ohc   \n",
       "47        porsche    hatchback        98.4   175.7       dohcv   \n",
       "\n",
       "   num-of-cylinders  horsepower  average-mileage    price  \n",
       "35            eight         184               14  45400.0  \n",
       "11              six         182               16  41315.0  \n",
       "34            eight         184               14  40960.0  \n",
       "46              six         207               17  37028.0  \n",
       "12              six         182               15  36880.0  \n",
       "..              ...         ...              ...      ...  \n",
       "27             four          68               30   5195.0  \n",
       "13            three          48               47   5151.0  \n",
       "22             four          70               38      NaN  \n",
       "23             four          70               38      NaN  \n",
       "47            eight         288               17      NaN  \n",
       "\n",
       "[61 rows x 9 columns]"
      ]
     },
     "execution_count": 223,
     "metadata": {},
     "output_type": "execute_result"
    }
   ],
   "source": [
    "df.sort_values(\"price\",ascending=False)"
   ]
  },
  {
   "cell_type": "markdown",
   "id": "21ff86bd",
   "metadata": {},
   "source": [
    "Exercise 206: Concatenate two data frames using the following conditions"
   ]
  },
  {
   "cell_type": "code",
   "execution_count": 224,
   "id": "62d2e8b0",
   "metadata": {},
   "outputs": [],
   "source": [
    "GermanCars = {'Company': ['Ford', 'Mercedes', 'BMV', 'Audi'], 'Price': [23845, 171995, 135925 , 71400]}\n",
    "japaneseCars = {'Company': ['Toyota', 'Honda', 'Nissan', 'Mitsubishi '], 'Price': [29995, 23600, 61500 , 58900]}"
   ]
  },
  {
   "cell_type": "code",
   "execution_count": 225,
   "id": "4b5e9e37",
   "metadata": {},
   "outputs": [],
   "source": [
    "germanCar=pd.DataFrame.from_dict(GermanCars)"
   ]
  },
  {
   "cell_type": "code",
   "execution_count": 226,
   "id": "1c13bed5",
   "metadata": {},
   "outputs": [
    {
     "data": {
      "text/html": [
       "<div>\n",
       "<style scoped>\n",
       "    .dataframe tbody tr th:only-of-type {\n",
       "        vertical-align: middle;\n",
       "    }\n",
       "\n",
       "    .dataframe tbody tr th {\n",
       "        vertical-align: top;\n",
       "    }\n",
       "\n",
       "    .dataframe thead th {\n",
       "        text-align: right;\n",
       "    }\n",
       "</style>\n",
       "<table border=\"1\" class=\"dataframe\">\n",
       "  <thead>\n",
       "    <tr style=\"text-align: right;\">\n",
       "      <th></th>\n",
       "      <th>Company</th>\n",
       "      <th>Price</th>\n",
       "    </tr>\n",
       "  </thead>\n",
       "  <tbody>\n",
       "    <tr>\n",
       "      <th>0</th>\n",
       "      <td>Ford</td>\n",
       "      <td>23845</td>\n",
       "    </tr>\n",
       "    <tr>\n",
       "      <th>1</th>\n",
       "      <td>Mercedes</td>\n",
       "      <td>171995</td>\n",
       "    </tr>\n",
       "    <tr>\n",
       "      <th>2</th>\n",
       "      <td>BMV</td>\n",
       "      <td>135925</td>\n",
       "    </tr>\n",
       "    <tr>\n",
       "      <th>3</th>\n",
       "      <td>Audi</td>\n",
       "      <td>71400</td>\n",
       "    </tr>\n",
       "  </tbody>\n",
       "</table>\n",
       "</div>"
      ],
      "text/plain": [
       "    Company   Price\n",
       "0      Ford   23845\n",
       "1  Mercedes  171995\n",
       "2       BMV  135925\n",
       "3      Audi   71400"
      ]
     },
     "execution_count": 226,
     "metadata": {},
     "output_type": "execute_result"
    }
   ],
   "source": [
    "germanCar"
   ]
  },
  {
   "cell_type": "code",
   "execution_count": 227,
   "id": "f54cd7ce",
   "metadata": {},
   "outputs": [
    {
     "data": {
      "text/html": [
       "<div>\n",
       "<style scoped>\n",
       "    .dataframe tbody tr th:only-of-type {\n",
       "        vertical-align: middle;\n",
       "    }\n",
       "\n",
       "    .dataframe tbody tr th {\n",
       "        vertical-align: top;\n",
       "    }\n",
       "\n",
       "    .dataframe thead th {\n",
       "        text-align: right;\n",
       "    }\n",
       "</style>\n",
       "<table border=\"1\" class=\"dataframe\">\n",
       "  <thead>\n",
       "    <tr style=\"text-align: right;\">\n",
       "      <th></th>\n",
       "      <th>Company</th>\n",
       "      <th>Price</th>\n",
       "    </tr>\n",
       "  </thead>\n",
       "  <tbody>\n",
       "    <tr>\n",
       "      <th>0</th>\n",
       "      <td>Toyota</td>\n",
       "      <td>29995</td>\n",
       "    </tr>\n",
       "    <tr>\n",
       "      <th>1</th>\n",
       "      <td>Honda</td>\n",
       "      <td>23600</td>\n",
       "    </tr>\n",
       "    <tr>\n",
       "      <th>2</th>\n",
       "      <td>Nissan</td>\n",
       "      <td>61500</td>\n",
       "    </tr>\n",
       "    <tr>\n",
       "      <th>3</th>\n",
       "      <td>Mitsubishi</td>\n",
       "      <td>58900</td>\n",
       "    </tr>\n",
       "  </tbody>\n",
       "</table>\n",
       "</div>"
      ],
      "text/plain": [
       "       Company  Price\n",
       "0       Toyota  29995\n",
       "1        Honda  23600\n",
       "2       Nissan  61500\n",
       "3  Mitsubishi   58900"
      ]
     },
     "execution_count": 227,
     "metadata": {},
     "output_type": "execute_result"
    }
   ],
   "source": [
    "japaneseCar=pd.DataFrame.from_dict(japaneseCars)\n",
    "japaneseCar"
   ]
  },
  {
   "cell_type": "code",
   "execution_count": 229,
   "id": "0b27c21b",
   "metadata": {},
   "outputs": [
    {
     "data": {
      "text/html": [
       "<div>\n",
       "<style scoped>\n",
       "    .dataframe tbody tr th:only-of-type {\n",
       "        vertical-align: middle;\n",
       "    }\n",
       "\n",
       "    .dataframe tbody tr th {\n",
       "        vertical-align: top;\n",
       "    }\n",
       "\n",
       "    .dataframe thead th {\n",
       "        text-align: right;\n",
       "    }\n",
       "</style>\n",
       "<table border=\"1\" class=\"dataframe\">\n",
       "  <thead>\n",
       "    <tr style=\"text-align: right;\">\n",
       "      <th></th>\n",
       "      <th></th>\n",
       "      <th>Company</th>\n",
       "      <th>Price</th>\n",
       "    </tr>\n",
       "  </thead>\n",
       "  <tbody>\n",
       "    <tr>\n",
       "      <th rowspan=\"4\" valign=\"top\">germany</th>\n",
       "      <th>0</th>\n",
       "      <td>Ford</td>\n",
       "      <td>23845</td>\n",
       "    </tr>\n",
       "    <tr>\n",
       "      <th>1</th>\n",
       "      <td>Mercedes</td>\n",
       "      <td>171995</td>\n",
       "    </tr>\n",
       "    <tr>\n",
       "      <th>2</th>\n",
       "      <td>BMV</td>\n",
       "      <td>135925</td>\n",
       "    </tr>\n",
       "    <tr>\n",
       "      <th>3</th>\n",
       "      <td>Audi</td>\n",
       "      <td>71400</td>\n",
       "    </tr>\n",
       "    <tr>\n",
       "      <th rowspan=\"4\" valign=\"top\">Japan</th>\n",
       "      <th>0</th>\n",
       "      <td>Toyota</td>\n",
       "      <td>29995</td>\n",
       "    </tr>\n",
       "    <tr>\n",
       "      <th>1</th>\n",
       "      <td>Honda</td>\n",
       "      <td>23600</td>\n",
       "    </tr>\n",
       "    <tr>\n",
       "      <th>2</th>\n",
       "      <td>Nissan</td>\n",
       "      <td>61500</td>\n",
       "    </tr>\n",
       "    <tr>\n",
       "      <th>3</th>\n",
       "      <td>Mitsubishi</td>\n",
       "      <td>58900</td>\n",
       "    </tr>\n",
       "  </tbody>\n",
       "</table>\n",
       "</div>"
      ],
      "text/plain": [
       "               Company   Price\n",
       "germany 0         Ford   23845\n",
       "        1     Mercedes  171995\n",
       "        2          BMV  135925\n",
       "        3         Audi   71400\n",
       "Japan   0       Toyota   29995\n",
       "        1        Honda   23600\n",
       "        2       Nissan   61500\n",
       "        3  Mitsubishi    58900"
      ]
     },
     "execution_count": 229,
     "metadata": {},
     "output_type": "execute_result"
    }
   ],
   "source": [
    "carsDF=pd.concat([germanCar,japaneseCar],keys=[\"germany\",\"Japan\"])\n",
    "carsDF"
   ]
  },
  {
   "cell_type": "markdown",
   "id": "c338d10f",
   "metadata": {},
   "source": [
    "Exercise 207: Merge two data frames using the following condition"
   ]
  },
  {
   "cell_type": "code",
   "execution_count": 230,
   "id": "e745a7c0",
   "metadata": {},
   "outputs": [],
   "source": [
    "Car_Price = {'Company': ['Toyota', 'Honda', 'BMV', 'Audi'], 'Price': [23845, 17995, 135925 , 71400]}\n",
    "car_Horsepower = {'Company': ['Toyota', 'Honda', 'BMV', 'Audi'], 'horsepower': [141, 80, 182 , 160]}"
   ]
  },
  {
   "cell_type": "code",
   "execution_count": 232,
   "id": "bec6167b",
   "metadata": {},
   "outputs": [
    {
     "data": {
      "text/html": [
       "<div>\n",
       "<style scoped>\n",
       "    .dataframe tbody tr th:only-of-type {\n",
       "        vertical-align: middle;\n",
       "    }\n",
       "\n",
       "    .dataframe tbody tr th {\n",
       "        vertical-align: top;\n",
       "    }\n",
       "\n",
       "    .dataframe thead th {\n",
       "        text-align: right;\n",
       "    }\n",
       "</style>\n",
       "<table border=\"1\" class=\"dataframe\">\n",
       "  <thead>\n",
       "    <tr style=\"text-align: right;\">\n",
       "      <th></th>\n",
       "      <th>Company</th>\n",
       "      <th>Price</th>\n",
       "    </tr>\n",
       "  </thead>\n",
       "  <tbody>\n",
       "    <tr>\n",
       "      <th>0</th>\n",
       "      <td>Toyota</td>\n",
       "      <td>23845</td>\n",
       "    </tr>\n",
       "    <tr>\n",
       "      <th>1</th>\n",
       "      <td>Honda</td>\n",
       "      <td>17995</td>\n",
       "    </tr>\n",
       "    <tr>\n",
       "      <th>2</th>\n",
       "      <td>BMV</td>\n",
       "      <td>135925</td>\n",
       "    </tr>\n",
       "    <tr>\n",
       "      <th>3</th>\n",
       "      <td>Audi</td>\n",
       "      <td>71400</td>\n",
       "    </tr>\n",
       "  </tbody>\n",
       "</table>\n",
       "</div>"
      ],
      "text/plain": [
       "  Company   Price\n",
       "0  Toyota   23845\n",
       "1   Honda   17995\n",
       "2     BMV  135925\n",
       "3    Audi   71400"
      ]
     },
     "execution_count": 232,
     "metadata": {},
     "output_type": "execute_result"
    }
   ],
   "source": [
    "carPrice=pd.DataFrame.from_dict(Car_Price)\n",
    "carPrice"
   ]
  },
  {
   "cell_type": "code",
   "execution_count": 233,
   "id": "77fbc7de",
   "metadata": {},
   "outputs": [
    {
     "data": {
      "text/html": [
       "<div>\n",
       "<style scoped>\n",
       "    .dataframe tbody tr th:only-of-type {\n",
       "        vertical-align: middle;\n",
       "    }\n",
       "\n",
       "    .dataframe tbody tr th {\n",
       "        vertical-align: top;\n",
       "    }\n",
       "\n",
       "    .dataframe thead th {\n",
       "        text-align: right;\n",
       "    }\n",
       "</style>\n",
       "<table border=\"1\" class=\"dataframe\">\n",
       "  <thead>\n",
       "    <tr style=\"text-align: right;\">\n",
       "      <th></th>\n",
       "      <th>Company</th>\n",
       "      <th>horsepower</th>\n",
       "    </tr>\n",
       "  </thead>\n",
       "  <tbody>\n",
       "    <tr>\n",
       "      <th>0</th>\n",
       "      <td>Toyota</td>\n",
       "      <td>141</td>\n",
       "    </tr>\n",
       "    <tr>\n",
       "      <th>1</th>\n",
       "      <td>Honda</td>\n",
       "      <td>80</td>\n",
       "    </tr>\n",
       "    <tr>\n",
       "      <th>2</th>\n",
       "      <td>BMV</td>\n",
       "      <td>182</td>\n",
       "    </tr>\n",
       "    <tr>\n",
       "      <th>3</th>\n",
       "      <td>Audi</td>\n",
       "      <td>160</td>\n",
       "    </tr>\n",
       "  </tbody>\n",
       "</table>\n",
       "</div>"
      ],
      "text/plain": [
       "  Company  horsepower\n",
       "0  Toyota         141\n",
       "1   Honda          80\n",
       "2     BMV         182\n",
       "3    Audi         160"
      ]
     },
     "execution_count": 233,
     "metadata": {},
     "output_type": "execute_result"
    }
   ],
   "source": [
    "carHorsepower=pd.DataFrame.from_dict(car_Horsepower)\n",
    "carHorsepower"
   ]
  },
  {
   "cell_type": "code",
   "execution_count": 234,
   "id": "60c8f1c2",
   "metadata": {},
   "outputs": [
    {
     "data": {
      "text/html": [
       "<div>\n",
       "<style scoped>\n",
       "    .dataframe tbody tr th:only-of-type {\n",
       "        vertical-align: middle;\n",
       "    }\n",
       "\n",
       "    .dataframe tbody tr th {\n",
       "        vertical-align: top;\n",
       "    }\n",
       "\n",
       "    .dataframe thead th {\n",
       "        text-align: right;\n",
       "    }\n",
       "</style>\n",
       "<table border=\"1\" class=\"dataframe\">\n",
       "  <thead>\n",
       "    <tr style=\"text-align: right;\">\n",
       "      <th></th>\n",
       "      <th>Company</th>\n",
       "      <th>Price</th>\n",
       "      <th>horsepower</th>\n",
       "    </tr>\n",
       "  </thead>\n",
       "  <tbody>\n",
       "    <tr>\n",
       "      <th>0</th>\n",
       "      <td>Toyota</td>\n",
       "      <td>23845</td>\n",
       "      <td>141</td>\n",
       "    </tr>\n",
       "    <tr>\n",
       "      <th>1</th>\n",
       "      <td>Honda</td>\n",
       "      <td>17995</td>\n",
       "      <td>80</td>\n",
       "    </tr>\n",
       "    <tr>\n",
       "      <th>2</th>\n",
       "      <td>BMV</td>\n",
       "      <td>135925</td>\n",
       "      <td>182</td>\n",
       "    </tr>\n",
       "    <tr>\n",
       "      <th>3</th>\n",
       "      <td>Audi</td>\n",
       "      <td>71400</td>\n",
       "      <td>160</td>\n",
       "    </tr>\n",
       "  </tbody>\n",
       "</table>\n",
       "</div>"
      ],
      "text/plain": [
       "  Company   Price  horsepower\n",
       "0  Toyota   23845         141\n",
       "1   Honda   17995          80\n",
       "2     BMV  135925         182\n",
       "3    Audi   71400         160"
      ]
     },
     "execution_count": 234,
     "metadata": {},
     "output_type": "execute_result"
    }
   ],
   "source": [
    "carsDF=pd.merge(carPrice,carHorsepower,on=\"Company\")\n",
    "carsDF"
   ]
  },
  {
   "cell_type": "markdown",
   "id": "6139756a",
   "metadata": {},
   "source": [
    "# 16. Python Matplotlib Exercise"
   ]
  },
  {
   "cell_type": "markdown",
   "id": "cfaf9a88",
   "metadata": {},
   "source": [
    "Exercise 208: Read Total profit of all months and show it using a line plot\n",
    "\n",
    "Total profit data provided for each month. Generated line plot must include the following properties: –\n",
    "\n",
    "X label name = Month Number\n",
    "\n",
    "Y label name = Total profit"
   ]
  },
  {
   "cell_type": "code",
   "execution_count": 9,
   "id": "481f9131",
   "metadata": {},
   "outputs": [
    {
     "data": {
      "text/html": [
       "<div>\n",
       "<style scoped>\n",
       "    .dataframe tbody tr th:only-of-type {\n",
       "        vertical-align: middle;\n",
       "    }\n",
       "\n",
       "    .dataframe tbody tr th {\n",
       "        vertical-align: top;\n",
       "    }\n",
       "\n",
       "    .dataframe thead th {\n",
       "        text-align: right;\n",
       "    }\n",
       "</style>\n",
       "<table border=\"1\" class=\"dataframe\">\n",
       "  <thead>\n",
       "    <tr style=\"text-align: right;\">\n",
       "      <th></th>\n",
       "      <th>month_number</th>\n",
       "      <th>facecream</th>\n",
       "      <th>facewash</th>\n",
       "      <th>toothpaste</th>\n",
       "      <th>bathingsoap</th>\n",
       "      <th>shampoo</th>\n",
       "      <th>moisturizer</th>\n",
       "      <th>total_units</th>\n",
       "      <th>total_profit</th>\n",
       "    </tr>\n",
       "  </thead>\n",
       "  <tbody>\n",
       "    <tr>\n",
       "      <th>0</th>\n",
       "      <td>1</td>\n",
       "      <td>2500</td>\n",
       "      <td>1500</td>\n",
       "      <td>5200</td>\n",
       "      <td>9200</td>\n",
       "      <td>1200</td>\n",
       "      <td>1500</td>\n",
       "      <td>21100</td>\n",
       "      <td>211000</td>\n",
       "    </tr>\n",
       "    <tr>\n",
       "      <th>1</th>\n",
       "      <td>2</td>\n",
       "      <td>2630</td>\n",
       "      <td>1200</td>\n",
       "      <td>5100</td>\n",
       "      <td>6100</td>\n",
       "      <td>2100</td>\n",
       "      <td>1200</td>\n",
       "      <td>18330</td>\n",
       "      <td>183300</td>\n",
       "    </tr>\n",
       "    <tr>\n",
       "      <th>2</th>\n",
       "      <td>3</td>\n",
       "      <td>2140</td>\n",
       "      <td>1340</td>\n",
       "      <td>4550</td>\n",
       "      <td>9550</td>\n",
       "      <td>3550</td>\n",
       "      <td>1340</td>\n",
       "      <td>22470</td>\n",
       "      <td>224700</td>\n",
       "    </tr>\n",
       "    <tr>\n",
       "      <th>3</th>\n",
       "      <td>4</td>\n",
       "      <td>3400</td>\n",
       "      <td>1130</td>\n",
       "      <td>5870</td>\n",
       "      <td>8870</td>\n",
       "      <td>1870</td>\n",
       "      <td>1130</td>\n",
       "      <td>22270</td>\n",
       "      <td>222700</td>\n",
       "    </tr>\n",
       "    <tr>\n",
       "      <th>4</th>\n",
       "      <td>5</td>\n",
       "      <td>3600</td>\n",
       "      <td>1740</td>\n",
       "      <td>4560</td>\n",
       "      <td>7760</td>\n",
       "      <td>1560</td>\n",
       "      <td>1740</td>\n",
       "      <td>20960</td>\n",
       "      <td>209600</td>\n",
       "    </tr>\n",
       "  </tbody>\n",
       "</table>\n",
       "</div>"
      ],
      "text/plain": [
       "   month_number  facecream  facewash  toothpaste  bathingsoap  shampoo  \\\n",
       "0             1       2500      1500        5200         9200     1200   \n",
       "1             2       2630      1200        5100         6100     2100   \n",
       "2             3       2140      1340        4550         9550     3550   \n",
       "3             4       3400      1130        5870         8870     1870   \n",
       "4             5       3600      1740        4560         7760     1560   \n",
       "\n",
       "   moisturizer  total_units  total_profit  \n",
       "0         1500        21100        211000  \n",
       "1         1200        18330        183300  \n",
       "2         1340        22470        224700  \n",
       "3         1130        22270        222700  \n",
       "4         1740        20960        209600  "
      ]
     },
     "execution_count": 9,
     "metadata": {},
     "output_type": "execute_result"
    }
   ],
   "source": [
    "import pandas as pd\n",
    "import matplotlib.pyplot as plt\n",
    "\n",
    "sales_data=pd.read_csv(\"company_sales_data.csv\")\n",
    "sales_date.head()"
   ]
  },
  {
   "cell_type": "code",
   "execution_count": 21,
   "id": "f3e1ef83",
   "metadata": {},
   "outputs": [],
   "source": [
    "import numpy as np"
   ]
  },
  {
   "cell_type": "code",
   "execution_count": 33,
   "id": "0217f3bf",
   "metadata": {},
   "outputs": [],
   "source": [
    "monthList=sales_data[\"month_number\"].tolist()\n",
    "profitList=np.arange(100000,500000,50000).tolist()"
   ]
  },
  {
   "cell_type": "code",
   "execution_count": 36,
   "id": "11195645",
   "metadata": {},
   "outputs": [
    {
     "data": {
      "image/png": "[encoded data removed]",
      "text/plain": [
       "<Figure size 640x480 with 1 Axes>"
      ]
     },
     "metadata": {},
     "output_type": "display_data"
    }
   ],
   "source": [
    "plt.plot(\"month_number\",\"total_profit\",data=sales_data)\n",
    "plt.xlabel(\"Month Number\")\n",
    "plt.xticks(monthList)\n",
    "plt.yticks(profitList)\n",
    "plt.ylabel(\"Total profit\")\n",
    "plt.title(\"COMPANY PROFIT PER MONTH\")\n",
    "plt.show()"
   ]
  },
  {
   "cell_type": "markdown",
   "id": "6605fb26",
   "metadata": {},
   "source": [
    "Exercise 209: Get total profit of all months and show line plot with the following Style properties\n",
    "Generated line plot must include following Style properties: –\n",
    "\n",
    "* Line Style dotted and Line-color should be red\n",
    "* Show legend at the lower right location.\n",
    "* X label name = Month Number\n",
    "* Y label name = Sold units number\n",
    "* Add a circle marker.\n",
    "* Line marker color as read\n",
    "* Line width should be 3"
   ]
  },
  {
   "cell_type": "code",
   "execution_count": 58,
   "id": "35db9ace",
   "metadata": {},
   "outputs": [
    {
     "data": {
      "image/png": "[encoded data removed]",
      "text/plain": [
       "<Figure size 640x480 with 1 Axes>"
      ]
     },
     "metadata": {},
     "output_type": "display_data"
    }
   ],
   "source": [
    "plt.plot(\"month_number\",\"total_profit\",data=sales_data,color=\"red\", marker='o',markerfacecolor='k' ,linestyle='dashed',\n",
    "linewidth=2, markersize=6)\n",
    "plt.xlabel(\"Month Number\")\n",
    "plt.xticks(monthList)\n",
    "plt.ylabel(\"Total Profit\")\n",
    "plt.yticks(profitList)\n",
    "plt.legend(loc=\"upper left\")\n",
    "plt.title(\"COMPANY SALES FOR LAST YEAR\")\n",
    "plt.show()\n"
   ]
  },
  {
   "cell_type": "markdown",
   "id": "d911a10f",
   "metadata": {},
   "source": [
    "Exercise 210: Read all product sales data and show it  using a multiline plot\n",
    "Display the number of units sold per month for each product using multiline plots. (i.e., Separate Plotline for each product ).\n",
    "\n",
    "The graph should look like this."
   ]
  },
  {
   "cell_type": "code",
   "execution_count": 59,
   "id": "35fd793a",
   "metadata": {},
   "outputs": [
    {
     "data": {
      "text/html": [
       "<div>\n",
       "<style scoped>\n",
       "    .dataframe tbody tr th:only-of-type {\n",
       "        vertical-align: middle;\n",
       "    }\n",
       "\n",
       "    .dataframe tbody tr th {\n",
       "        vertical-align: top;\n",
       "    }\n",
       "\n",
       "    .dataframe thead th {\n",
       "        text-align: right;\n",
       "    }\n",
       "</style>\n",
       "<table border=\"1\" class=\"dataframe\">\n",
       "  <thead>\n",
       "    <tr style=\"text-align: right;\">\n",
       "      <th></th>\n",
       "      <th>month_number</th>\n",
       "      <th>facecream</th>\n",
       "      <th>facewash</th>\n",
       "      <th>toothpaste</th>\n",
       "      <th>bathingsoap</th>\n",
       "      <th>shampoo</th>\n",
       "      <th>moisturizer</th>\n",
       "      <th>total_units</th>\n",
       "      <th>total_profit</th>\n",
       "    </tr>\n",
       "  </thead>\n",
       "  <tbody>\n",
       "    <tr>\n",
       "      <th>0</th>\n",
       "      <td>1</td>\n",
       "      <td>2500</td>\n",
       "      <td>1500</td>\n",
       "      <td>5200</td>\n",
       "      <td>9200</td>\n",
       "      <td>1200</td>\n",
       "      <td>1500</td>\n",
       "      <td>21100</td>\n",
       "      <td>211000</td>\n",
       "    </tr>\n",
       "    <tr>\n",
       "      <th>1</th>\n",
       "      <td>2</td>\n",
       "      <td>2630</td>\n",
       "      <td>1200</td>\n",
       "      <td>5100</td>\n",
       "      <td>6100</td>\n",
       "      <td>2100</td>\n",
       "      <td>1200</td>\n",
       "      <td>18330</td>\n",
       "      <td>183300</td>\n",
       "    </tr>\n",
       "    <tr>\n",
       "      <th>2</th>\n",
       "      <td>3</td>\n",
       "      <td>2140</td>\n",
       "      <td>1340</td>\n",
       "      <td>4550</td>\n",
       "      <td>9550</td>\n",
       "      <td>3550</td>\n",
       "      <td>1340</td>\n",
       "      <td>22470</td>\n",
       "      <td>224700</td>\n",
       "    </tr>\n",
       "    <tr>\n",
       "      <th>3</th>\n",
       "      <td>4</td>\n",
       "      <td>3400</td>\n",
       "      <td>1130</td>\n",
       "      <td>5870</td>\n",
       "      <td>8870</td>\n",
       "      <td>1870</td>\n",
       "      <td>1130</td>\n",
       "      <td>22270</td>\n",
       "      <td>222700</td>\n",
       "    </tr>\n",
       "    <tr>\n",
       "      <th>4</th>\n",
       "      <td>5</td>\n",
       "      <td>3600</td>\n",
       "      <td>1740</td>\n",
       "      <td>4560</td>\n",
       "      <td>7760</td>\n",
       "      <td>1560</td>\n",
       "      <td>1740</td>\n",
       "      <td>20960</td>\n",
       "      <td>209600</td>\n",
       "    </tr>\n",
       "  </tbody>\n",
       "</table>\n",
       "</div>"
      ],
      "text/plain": [
       "   month_number  facecream  facewash  toothpaste  bathingsoap  shampoo  \\\n",
       "0             1       2500      1500        5200         9200     1200   \n",
       "1             2       2630      1200        5100         6100     2100   \n",
       "2             3       2140      1340        4550         9550     3550   \n",
       "3             4       3400      1130        5870         8870     1870   \n",
       "4             5       3600      1740        4560         7760     1560   \n",
       "\n",
       "   moisturizer  total_units  total_profit  \n",
       "0         1500        21100        211000  \n",
       "1         1200        18330        183300  \n",
       "2         1340        22470        224700  \n",
       "3         1130        22270        222700  \n",
       "4         1740        20960        209600  "
      ]
     },
     "execution_count": 59,
     "metadata": {},
     "output_type": "execute_result"
    }
   ],
   "source": [
    "sales_data.head()"
   ]
  },
  {
   "cell_type": "code",
   "execution_count": 91,
   "id": "88346a46",
   "metadata": {},
   "outputs": [],
   "source": [
    "quantityList=np.arange(1000,20000,2000)"
   ]
  },
  {
   "cell_type": "code",
   "execution_count": 92,
   "id": "97ba59b1",
   "metadata": {},
   "outputs": [
    {
     "data": {
      "image/png": "[encoded data removed]",
      "text/plain": [
       "<Figure size 640x480 with 1 Axes>"
      ]
     },
     "metadata": {},
     "output_type": "display_data"
    }
   ],
   "source": [
    "plt.plot(\"month_number\",\"facecream\",data=sales_data,marker=\"o\")\n",
    "plt.plot(\"month_number\",\"facewash\",data=sales_data,marker=\"o\")\n",
    "plt.plot(\"month_number\",\"toothpaste\",data=sales_data,marker=\"o\")\n",
    "plt.plot(\"month_number\",\"bathingsoap\",data=sales_data,marker=\"o\")\n",
    "plt.plot(\"month_number\",\"shampoo\",data=sales_data,marker=\"o\")\n",
    "plt.plot(\"month_number\",\"moisturizer\",data=sales_data,marker=\"o\")\n",
    "\n",
    "plt.xticks(monthList)\n",
    "plt.xlabel(\"Month Number\")\n",
    "plt.yticks(quantityList)\n",
    "plt.ylabel(\"Sales of product in number of units\")\n",
    "plt.legend(loc=\"upper left\")\n",
    "plt.show()"
   ]
  },
  {
   "cell_type": "markdown",
   "id": "120fc1c6",
   "metadata": {},
   "source": [
    "#since column values for facewash and moisturizer are same line plot is overlapping each other"
   ]
  },
  {
   "cell_type": "markdown",
   "id": "0de30fb1",
   "metadata": {},
   "source": [
    "Exercise 211: Read toothpaste sales data of each month and show it using a scatter plot\n",
    "Also, add a grid in the plot. gridline style should “–“.\n"
   ]
  },
  {
   "cell_type": "code",
   "execution_count": 103,
   "id": "7a2caac8",
   "metadata": {},
   "outputs": [
    {
     "data": {
      "image/png": "[encoded data removed]",
      "text/plain": [
       "<Figure size 640x480 with 1 Axes>"
      ]
     },
     "metadata": {},
     "output_type": "display_data"
    }
   ],
   "source": [
    "plt.scatter(\"month_number\",\"toothpaste\",data=sales_data)\n",
    "plt.legend(loc=\"upper left\")\n",
    "plt.grid(color='r', linestyle='dashed', linewidth=0.5)\n",
    "plt.xlabel(\"Month Number\")\n",
    "plt.ylabel(\"Quantity Sales\")\n",
    "plt.show()"
   ]
  },
  {
   "cell_type": "markdown",
   "id": "ba70b601",
   "metadata": {},
   "source": [
    "Exercise 212: Read face cream and facewash product sales data and show it using the bar chart\n",
    "    \n",
    "The bar chart should display the number of units sold per month for each product. Add a separate bar for each product in the same chart."
   ]
  },
  {
   "cell_type": "code",
   "execution_count": 129,
   "id": "3778766b",
   "metadata": {},
   "outputs": [
    {
     "data": {
      "image/png": "[encoded data removed]",
      "text/plain": [
       "<Figure size 640x480 with 1 Axes>"
      ]
     },
     "metadata": {},
     "output_type": "display_data"
    }
   ],
   "source": [
    "plt.bar([a-0.25 for a in monthList],\"facecream\",data=sales_data,width=0.25,align=\"edge\",label=\"facecream sales data\")\n",
    "plt.bar([a+0.25 for a in monthList],\"facewash\",data=sales_data,width=-0.25,align=\"edge\",label=\"facewash sales data\")\n",
    "\n",
    "plt.xticks(monthList)\n",
    "plt.xlabel(\"Month Number\")\n",
    "plt.ylabel(\"quantity sales\")\n",
    "plt.legend()\n",
    "plt.grid(color='r', linestyle='dashed', linewidth=0.5)\n",
    "plt.show()"
   ]
  },
  {
   "cell_type": "markdown",
   "id": "0cae97ac",
   "metadata": {},
   "source": [
    "Exercise 213: Read sales data of bathing soap of all months and show it using a bar chart. Save this plot to your hard disk"
   ]
  },
  {
   "cell_type": "code",
   "execution_count": 139,
   "id": "556d2b04",
   "metadata": {},
   "outputs": [
    {
     "data": {
      "image/png": "[encoded data removed]",
      "text/plain": [
       "<Figure size 640x480 with 1 Axes>"
      ]
     },
     "metadata": {},
     "output_type": "display_data"
    }
   ],
   "source": [
    "plt.bar(\"month_number\",\"total_units\",data=sales_data)\n",
    "plt.grid(True,linestyle=\"dashed\")\n",
    "plt.xticks(monthList)\n",
    "plt.xlabel(\"Month Number\")\n",
    "plt.ylabel(\"Sales units in numbers\")\n",
    "plt.title(\"Bath soaping sales data\")\n",
    "plt.show()"
   ]
  },
  {
   "cell_type": "markdown",
   "id": "495074ca",
   "metadata": {},
   "source": [
    "Exercise 214: Read the total profit of each month and show it using the histogram to see the most common profit ranges"
   ]
  },
  {
   "cell_type": "code",
   "execution_count": 144,
   "id": "8fcd3636",
   "metadata": {},
   "outputs": [],
   "source": [
    "profitList=df[\"total_profit\"].tolist()"
   ]
  },
  {
   "cell_type": "code",
   "execution_count": 151,
   "id": "13a5f725",
   "metadata": {},
   "outputs": [],
   "source": [
    "profit_range=np.arange(150000,350000,25000)"
   ]
  },
  {
   "cell_type": "code",
   "execution_count": 156,
   "id": "b369f792",
   "metadata": {},
   "outputs": [
    {
     "data": {
      "image/png": "[encoded data removed]",
      "text/plain": [
       "<Figure size 640x480 with 1 Axes>"
      ]
     },
     "metadata": {},
     "output_type": "display_data"
    }
   ],
   "source": [
    "plt.hist(profitList,profit_range,label=\"max profit range\")\n",
    "plt.legend()\n",
    "plt.show()\n"
   ]
  },
  {
   "cell_type": "markdown",
   "id": "ef63065c",
   "metadata": {},
   "source": [
    "Exercise 8: Calculate total sale data for last year for each product and show it using a Pie chart"
   ]
  },
  {
   "cell_type": "code",
   "execution_count": 174,
   "id": "8bbe52ad",
   "metadata": {},
   "outputs": [
    {
     "data": {
      "text/html": [
       "<div>\n",
       "<style scoped>\n",
       "    .dataframe tbody tr th:only-of-type {\n",
       "        vertical-align: middle;\n",
       "    }\n",
       "\n",
       "    .dataframe tbody tr th {\n",
       "        vertical-align: top;\n",
       "    }\n",
       "\n",
       "    .dataframe thead th {\n",
       "        text-align: right;\n",
       "    }\n",
       "</style>\n",
       "<table border=\"1\" class=\"dataframe\">\n",
       "  <thead>\n",
       "    <tr style=\"text-align: right;\">\n",
       "      <th></th>\n",
       "      <th>month_number</th>\n",
       "      <th>facecream</th>\n",
       "      <th>facewash</th>\n",
       "      <th>toothpaste</th>\n",
       "      <th>bathingsoap</th>\n",
       "      <th>shampoo</th>\n",
       "      <th>moisturizer</th>\n",
       "      <th>total_units</th>\n",
       "      <th>total_profit</th>\n",
       "    </tr>\n",
       "  </thead>\n",
       "  <tbody>\n",
       "    <tr>\n",
       "      <th>0</th>\n",
       "      <td>1</td>\n",
       "      <td>2500</td>\n",
       "      <td>1500</td>\n",
       "      <td>5200</td>\n",
       "      <td>9200</td>\n",
       "      <td>1200</td>\n",
       "      <td>1500</td>\n",
       "      <td>21100</td>\n",
       "      <td>211000</td>\n",
       "    </tr>\n",
       "    <tr>\n",
       "      <th>1</th>\n",
       "      <td>2</td>\n",
       "      <td>2630</td>\n",
       "      <td>1200</td>\n",
       "      <td>5100</td>\n",
       "      <td>6100</td>\n",
       "      <td>2100</td>\n",
       "      <td>1200</td>\n",
       "      <td>18330</td>\n",
       "      <td>183300</td>\n",
       "    </tr>\n",
       "  </tbody>\n",
       "</table>\n",
       "</div>"
      ],
      "text/plain": [
       "   month_number  facecream  facewash  toothpaste  bathingsoap  shampoo  \\\n",
       "0             1       2500      1500        5200         9200     1200   \n",
       "1             2       2630      1200        5100         6100     2100   \n",
       "\n",
       "   moisturizer  total_units  total_profit  \n",
       "0         1500        21100        211000  \n",
       "1         1200        18330        183300  "
      ]
     },
     "execution_count": 174,
     "metadata": {},
     "output_type": "execute_result"
    }
   ],
   "source": [
    "sales_data.head(2)"
   ]
  },
  {
   "cell_type": "code",
   "execution_count": 159,
   "id": "e2583195",
   "metadata": {},
   "outputs": [
    {
     "data": {
      "text/plain": [
       "[34480, 18515, 69910, 114010, 25410, 18515]"
      ]
     },
     "execution_count": 159,
     "metadata": {},
     "output_type": "execute_result"
    }
   ],
   "source": [
    "saleData=[df[\"facecream\"].sum(),df[\"facewash\"].sum(),df[\"toothpaste\"].sum(),df[\"bathingsoap\"].sum(),df[\"shampoo\"].sum(),df[\"moisturizer\"].sum()]\n",
    "saleData"
   ]
  },
  {
   "cell_type": "code",
   "execution_count": 169,
   "id": "0f589750",
   "metadata": {},
   "outputs": [],
   "source": [
    "labels = ['FaceCream', 'FaseWash', 'ToothPaste', 'Bathing soap', 'Shampoo', 'Moisturizer']"
   ]
  },
  {
   "cell_type": "code",
   "execution_count": 173,
   "id": "09775e69",
   "metadata": {},
   "outputs": [
    {
     "data": {
      "image/png": "[encoded data removed]",
      "text/plain": [
       "<Figure size 640x480 with 1 Axes>"
      ]
     },
     "metadata": {},
     "output_type": "display_data"
    }
   ],
   "source": [
    "plt.pie(saleData,autopct=\"%1.1f%%\",labels=labels)\n",
    "plt.legend()\n",
    "plt.show()\n"
   ]
  },
  {
   "cell_type": "markdown",
   "id": "62c4d57d",
   "metadata": {},
   "source": [
    "Exercise 215: Read Bathing soap and facewash of all months and display it using the Subplot"
   ]
  },
  {
   "cell_type": "code",
   "execution_count": 198,
   "id": "203bca32",
   "metadata": {},
   "outputs": [
    {
     "data": {
      "image/png": "[encoded data removed]",
      "text/plain": [
       "<Figure size 640x480 with 2 Axes>"
      ]
     },
     "metadata": {},
     "output_type": "display_data"
    }
   ],
   "source": [
    "\n",
    "plt.subplot(2,1,1)\n",
    "plt.plot(\"month_number\",\"bathingsoap\",data=sales_data,color=\"black\",marker=\"o\")\n",
    "plt.title(\"sales data of bathing soap\")\n",
    "\n",
    "plt.subplot(2,1,2)\n",
    "plt.plot(\"month_number\",\"facewash\",data=sales_data,color=\"red\",marker=\"o\")\n",
    "plt.xlabel(\"Month Number\")\n",
    "plt.title(\"sales data of facewash\")\n",
    "plt.ylabel(\"sales units in numbers\")\n",
    "\n",
    "plt.subplots_adjust(bottom=0.1,wspace=0.4,hspace=0.3)\n",
    "\n",
    "plt.show()"
   ]
  },
  {
   "cell_type": "markdown",
   "id": "573ab639",
   "metadata": {},
   "source": [
    "# 17. Python random Data generation Exercise"
   ]
  },
  {
   "cell_type": "markdown",
   "id": "6f81d0eb",
   "metadata": {},
   "source": [
    "Exercise 216: Generate 3 random integers between 100 and 999 which is divisible by 5"
   ]
  },
  {
   "cell_type": "code",
   "execution_count": 205,
   "id": "77111b57",
   "metadata": {},
   "outputs": [
    {
     "name": "stdout",
     "output_type": "stream",
     "text": [
      "generating three digit number from 100 to 999 which id divisible by 5\n",
      "365\n",
      "660\n",
      "815\n"
     ]
    }
   ],
   "source": [
    "import random\n",
    "\n",
    "print(\"generating three digit number from 100 to 999 which id divisible by 5\")\n",
    "\n",
    "for i in range(3):\n",
    "    print(random.randrange(100,999,5))"
   ]
  },
  {
   "cell_type": "markdown",
   "id": "f0da5bd7",
   "metadata": {},
   "source": [
    "Exercise 217: Random Lottery Pick. Generate 100 random lottery tickets and pick two lucky tickets from it as a winner.\n",
    "Note you must adhere to the following conditions:\n",
    "\n",
    "The lottery number must be 10 digits long.\n",
    "\n",
    "All 100 ticket number must be unique."
   ]
  },
  {
   "cell_type": "code",
   "execution_count": 200,
   "id": "616dba38",
   "metadata": {},
   "outputs": [
    {
     "name": "stdout",
     "output_type": "stream",
     "text": [
      "creating 100 random lottery tickets\n",
      "Lucky 2 lottery tickets are [5072541791, 3990165714]\n"
     ]
    }
   ],
   "source": [
    "import random\n",
    "\n",
    "lottery_tickets_list = []\n",
    "print(\"creating 100 random lottery tickets\")\n",
    "# to get 100 ticket\n",
    "for i in range(100):\n",
    "    # ticket number must be 10 digit (1000000000, 9999999999)\n",
    "    lottery_tickets_list.append(random.randrange(1000000000, 9999999999))\n",
    "# pick 2 luck tickets\n",
    "winners = random.sample(lottery_tickets_list, 2)\n",
    "print(\"Lucky 2 lottery tickets are\", winners)\n"
   ]
  },
  {
   "cell_type": "markdown",
   "id": "c6d77af2",
   "metadata": {},
   "source": [
    "Exercise 218: Generate 6 digit random secure OTP"
   ]
  },
  {
   "cell_type": "code",
   "execution_count": 202,
   "id": "b389a4ef",
   "metadata": {},
   "outputs": [
    {
     "name": "stdout",
     "output_type": "stream",
     "text": [
      "six digit random OTP\n",
      "secure OTP is  360353\n"
     ]
    }
   ],
   "source": [
    "import secrets\n",
    "\n",
    "OTPgenerator=secrets.SystemRandom()\n",
    "\n",
    "print(\"six digit random OTP\")\n",
    "\n",
    "otp=OTPgenerator.randrange(100000,999999)\n",
    "\n",
    "print(\"secure OTP is \",otp)"
   ]
  },
  {
   "cell_type": "markdown",
   "id": "45e18f31",
   "metadata": {},
   "source": [
    "Exercise 219: Pick a random character from a given String"
   ]
  },
  {
   "cell_type": "code",
   "execution_count": 207,
   "id": "23d2e7b3",
   "metadata": {},
   "outputs": [
    {
     "name": "stdout",
     "output_type": "stream",
     "text": [
      "M\n"
     ]
    }
   ],
   "source": [
    "name=\"Milind Mali\"\n",
    "\n",
    "char=random.choice(name)\n",
    "\n",
    "print(char)"
   ]
  },
  {
   "cell_type": "markdown",
   "id": "d454e509",
   "metadata": {},
   "source": [
    "Exercise 220: Generate random String of length 5\n",
    "Note: String must be the combination of the UPPER case and lower case letters only. No numbers and a special symbol."
   ]
  },
  {
   "cell_type": "code",
   "execution_count": 209,
   "id": "d4ca9313",
   "metadata": {},
   "outputs": [
    {
     "name": "stdout",
     "output_type": "stream",
     "text": [
      "random string is  ryLoK\n"
     ]
    }
   ],
   "source": [
    "import random\n",
    "import string\n",
    "\n",
    "def randomstring(stringLength):\n",
    "    \"\"\"gernerate random string of five characters\"\"\"\n",
    "    \n",
    "    letters=string.ascii_letters\n",
    "    return \"\".join(random.choice(letters) for i in range(stringLength))\n",
    "\n",
    "print(\"random string is \",randomstring(5))"
   ]
  },
  {
   "cell_type": "markdown",
   "id": "267474ac",
   "metadata": {},
   "source": [
    "Exercise 221: Generate a random Password which meets the following conditions\n",
    "Password length must be 10 characters long.\n",
    "\n",
    "It must contain at least 2 upper case letters, 1 digit, and 1 special symbol."
   ]
  },
  {
   "cell_type": "code",
   "execution_count": 212,
   "id": "32b31486",
   "metadata": {},
   "outputs": [
    {
     "name": "stdout",
     "output_type": "stream",
     "text": [
      "password is:  b|VW4D4N.T\n"
     ]
    }
   ],
   "source": [
    "import random\n",
    "import string\n",
    "\n",
    "def randomPassword():\n",
    "    randomSource=string.ascii_letters+string.digits+string.punctuation\n",
    "    password=random.sample(randomSource,6)\n",
    "    password+=random.sample(string.ascii_uppercase,2)\n",
    "    password+=random.choice(string.digits)\n",
    "    password+=random.choice(string.punctuation)\n",
    "    \n",
    "    passwordList=list(password)\n",
    "    \n",
    "    random.SystemRandom().shuffle(passwordList)\n",
    "    password=\"\".join(passwordList)\n",
    "    return password\n",
    "\n",
    "print(\"password is: \",randomPassword())"
   ]
  },
  {
   "cell_type": "markdown",
   "id": "a767655d",
   "metadata": {},
   "source": [
    "Exercise 222: Calculate multiplication of two random float numbers\n",
    "Note:\n",
    "\n",
    "First random float number must be between 0.1 and 1\n",
    "Second random float number must be between 9.5 and 99.5"
   ]
  },
  {
   "cell_type": "code",
   "execution_count": 215,
   "id": "80f98ba1",
   "metadata": {},
   "outputs": [
    {
     "name": "stdout",
     "output_type": "stream",
     "text": [
      "10.93030484756581\n"
     ]
    }
   ],
   "source": [
    "num1=random.random()\n",
    "\n",
    "num2=random.uniform(9.5,99.5)\n",
    "\n",
    "num3=num1+num2\n",
    "\n",
    "print(num3)"
   ]
  },
  {
   "cell_type": "markdown",
   "id": "ef697087",
   "metadata": {},
   "source": [
    "Exercise 223: Generate random secure token of 64 bytes and random URL"
   ]
  },
  {
   "cell_type": "code",
   "execution_count": 216,
   "id": "ea55f887",
   "metadata": {},
   "outputs": [
    {
     "name": "stdout",
     "output_type": "stream",
     "text": [
      "Random secure Hexadecimal token is  71782a425a21f04c97b2e0d57eda580b1fda8ca27c39ac29a7a10fd04e49e841770028f487993af55794640e3f4c00f9e384b9acf4e895bb1cc04e669b3a9789\n",
      "Random secure URL is  u4hJfIfWVSZwxsqsLDxJ58O67dlcVWgBLFQuSKBKDi3fXYxivdpNoPlU0zN-ikgHg80bUWhNJSUCPV8qTGNUEg\n"
     ]
    }
   ],
   "source": [
    "import secrets\n",
    "\n",
    "print(\"Random secure Hexadecimal token is \", secrets.token_hex(64))\n",
    "print(\"Random secure URL is \", secrets.token_urlsafe(64))"
   ]
  },
  {
   "cell_type": "markdown",
   "id": "add425cc",
   "metadata": {},
   "source": [
    "Exercise 224: Roll dice in such a way that every time you get the same number\n",
    "\n",
    "Dice has 6 numbers (from 1 to 6). Roll dice in such a way that every time you must get the same output number. do this 5 times."
   ]
  },
  {
   "cell_type": "code",
   "execution_count": 218,
   "id": "3150cda4",
   "metadata": {},
   "outputs": [
    {
     "name": "stdout",
     "output_type": "stream",
     "text": [
      "Randomly selecting same number of a dice\n",
      "4\n",
      "4\n",
      "4\n",
      "4\n",
      "4\n"
     ]
    }
   ],
   "source": [
    "import random\n",
    "\n",
    "dice = [1, 2, 3, 4, 5, 6]\n",
    "print(\"Randomly selecting same number of a dice\")\n",
    "for i in range(5):\n",
    "    random.seed(25)\n",
    "    print(random.choice(dice))"
   ]
  },
  {
   "cell_type": "markdown",
   "id": "fed16412",
   "metadata": {},
   "source": [
    "Exercise 225: Generate a random date between given start and end dates"
   ]
  },
  {
   "cell_type": "code",
   "execution_count": 219,
   "id": "e5adc8ce",
   "metadata": {},
   "outputs": [
    {
     "name": "stdout",
     "output_type": "stream",
     "text": [
      "Printing random date between 1/1/2016  and  12/12/2018\n",
      "Random Date =  04/06/2018\n"
     ]
    }
   ],
   "source": [
    "import random\n",
    "import time\n",
    "\n",
    "def getRandomDate(startDate, endDate ):\n",
    "    print(\"Printing random date between\", startDate, \" and \", endDate)\n",
    "    randomGenerator = random.random()\n",
    "    dateFormat = '%m/%d/%Y'\n",
    "\n",
    "    startTime = time.mktime(time.strptime(startDate, dateFormat))\n",
    "    endTime = time.mktime(time.strptime(endDate, dateFormat))\n",
    "\n",
    "    randomTime = startTime + randomGenerator * (endTime - startTime)\n",
    "    randomDate = time.strftime(dateFormat, time.localtime(randomTime))\n",
    "    return randomDate\n",
    "\n",
    "print (\"Random Date = \", getRandomDate(\"1/1/2016\", \"12/12/2018\"))"
   ]
  },
  {
   "cell_type": "markdown",
   "id": "29c964c3",
   "metadata": {},
   "source": [
    "# 18. python database excercise"
   ]
  },
  {
   "cell_type": "code",
   "execution_count": null,
   "id": "9689e3a3",
   "metadata": {},
   "outputs": [],
   "source": []
  }
 ],
 "metadata": {
  "kernelspec": {
   "display_name": "Python 3 (ipykernel)",
   "language": "python",
   "name": "python3"
  },
  "language_info": {
   "codemirror_mode": {
    "name": "ipython",
    "version": 3
   },
   "file_extension": ".py",
   "mimetype": "text/x-python",
   "name": "python",
   "nbconvert_exporter": "python",
   "pygments_lexer": "ipython3",
   "version": "3.9.13"
  }
 },
 "nbformat": 4,
 "nbformat_minor": 5
}
